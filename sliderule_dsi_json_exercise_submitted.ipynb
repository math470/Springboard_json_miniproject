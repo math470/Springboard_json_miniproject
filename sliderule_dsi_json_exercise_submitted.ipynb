{
 "cells": [
  {
   "cell_type": "markdown",
   "metadata": {},
   "source": [
    "# JSON examples and exercise\n",
    "****\n",
    "+ get familiar with packages for dealing with JSON\n",
    "+ study examples with JSON strings and files \n",
    "+ work on exercise to be completed and submitted \n",
    "****\n",
    "+ reference: http://pandas.pydata.org/pandas-docs/stable/io.html#io-json-reader\n",
    "+ data source: http://jsonstudio.com/resources/\n",
    "****"
   ]
  },
  {
   "cell_type": "code",
   "execution_count": 2,
   "metadata": {
    "collapsed": true
   },
   "outputs": [],
   "source": [
    "import pandas as pd"
   ]
  },
  {
   "cell_type": "markdown",
   "metadata": {},
   "source": [
    "## imports for Python, Pandas"
   ]
  },
  {
   "cell_type": "code",
   "execution_count": 3,
   "metadata": {
    "collapsed": true
   },
   "outputs": [],
   "source": [
    "import json\n",
    "from pandas.io.json import json_normalize"
   ]
  },
  {
   "cell_type": "markdown",
   "metadata": {},
   "source": [
    "## JSON example, with string\n",
    "\n",
    "+ demonstrates creation of normalized dataframes (tables) from nested json string\n",
    "+ source: http://pandas.pydata.org/pandas-docs/stable/io.html#normalization"
   ]
  },
  {
   "cell_type": "code",
   "execution_count": 4,
   "metadata": {
    "collapsed": true
   },
   "outputs": [],
   "source": [
    "# define json string\n",
    "data = [{'state': 'Florida', \n",
    "         'shortname': 'FL',\n",
    "         'info': {'governor': 'Rick Scott'},\n",
    "         'counties': [{'name': 'Dade', 'population': 12345},\n",
    "                      {'name': 'Broward', 'population': 40000},\n",
    "                      {'name': 'Palm Beach', 'population': 60000}]},\n",
    "        {'state': 'Ohio',\n",
    "         'shortname': 'OH',\n",
    "         'info': {'governor': 'John Kasich'},\n",
    "         'counties': [{'name': 'Summit', 'population': 1234},\n",
    "                      {'name': 'Cuyahoga', 'population': 1337}]}]"
   ]
  },
  {
   "cell_type": "code",
   "execution_count": 5,
   "metadata": {
    "collapsed": false
   },
   "outputs": [
    {
     "data": {
      "text/html": [
       "<div>\n",
       "<table border=\"1\" class=\"dataframe\">\n",
       "  <thead>\n",
       "    <tr style=\"text-align: right;\">\n",
       "      <th></th>\n",
       "      <th>name</th>\n",
       "      <th>population</th>\n",
       "    </tr>\n",
       "  </thead>\n",
       "  <tbody>\n",
       "    <tr>\n",
       "      <th>0</th>\n",
       "      <td>Dade</td>\n",
       "      <td>12345</td>\n",
       "    </tr>\n",
       "    <tr>\n",
       "      <th>1</th>\n",
       "      <td>Broward</td>\n",
       "      <td>40000</td>\n",
       "    </tr>\n",
       "    <tr>\n",
       "      <th>2</th>\n",
       "      <td>Palm Beach</td>\n",
       "      <td>60000</td>\n",
       "    </tr>\n",
       "    <tr>\n",
       "      <th>3</th>\n",
       "      <td>Summit</td>\n",
       "      <td>1234</td>\n",
       "    </tr>\n",
       "    <tr>\n",
       "      <th>4</th>\n",
       "      <td>Cuyahoga</td>\n",
       "      <td>1337</td>\n",
       "    </tr>\n",
       "  </tbody>\n",
       "</table>\n",
       "</div>"
      ],
      "text/plain": [
       "         name  population\n",
       "0        Dade       12345\n",
       "1     Broward       40000\n",
       "2  Palm Beach       60000\n",
       "3      Summit        1234\n",
       "4    Cuyahoga        1337"
      ]
     },
     "execution_count": 5,
     "metadata": {},
     "output_type": "execute_result"
    }
   ],
   "source": [
    "# use normalization to create tables from nested element\n",
    "json_normalize(data, 'counties')"
   ]
  },
  {
   "cell_type": "code",
   "execution_count": 6,
   "metadata": {
    "collapsed": false
   },
   "outputs": [
    {
     "data": {
      "text/html": [
       "<div>\n",
       "<table border=\"1\" class=\"dataframe\">\n",
       "  <thead>\n",
       "    <tr style=\"text-align: right;\">\n",
       "      <th></th>\n",
       "      <th>name</th>\n",
       "      <th>population</th>\n",
       "      <th>info.governor</th>\n",
       "      <th>state</th>\n",
       "      <th>shortname</th>\n",
       "    </tr>\n",
       "  </thead>\n",
       "  <tbody>\n",
       "    <tr>\n",
       "      <th>0</th>\n",
       "      <td>Dade</td>\n",
       "      <td>12345</td>\n",
       "      <td>Rick Scott</td>\n",
       "      <td>Florida</td>\n",
       "      <td>FL</td>\n",
       "    </tr>\n",
       "    <tr>\n",
       "      <th>1</th>\n",
       "      <td>Broward</td>\n",
       "      <td>40000</td>\n",
       "      <td>Rick Scott</td>\n",
       "      <td>Florida</td>\n",
       "      <td>FL</td>\n",
       "    </tr>\n",
       "    <tr>\n",
       "      <th>2</th>\n",
       "      <td>Palm Beach</td>\n",
       "      <td>60000</td>\n",
       "      <td>Rick Scott</td>\n",
       "      <td>Florida</td>\n",
       "      <td>FL</td>\n",
       "    </tr>\n",
       "    <tr>\n",
       "      <th>3</th>\n",
       "      <td>Summit</td>\n",
       "      <td>1234</td>\n",
       "      <td>John Kasich</td>\n",
       "      <td>Ohio</td>\n",
       "      <td>OH</td>\n",
       "    </tr>\n",
       "    <tr>\n",
       "      <th>4</th>\n",
       "      <td>Cuyahoga</td>\n",
       "      <td>1337</td>\n",
       "      <td>John Kasich</td>\n",
       "      <td>Ohio</td>\n",
       "      <td>OH</td>\n",
       "    </tr>\n",
       "  </tbody>\n",
       "</table>\n",
       "</div>"
      ],
      "text/plain": [
       "         name  population info.governor    state shortname\n",
       "0        Dade       12345    Rick Scott  Florida        FL\n",
       "1     Broward       40000    Rick Scott  Florida        FL\n",
       "2  Palm Beach       60000    Rick Scott  Florida        FL\n",
       "3      Summit        1234   John Kasich     Ohio        OH\n",
       "4    Cuyahoga        1337   John Kasich     Ohio        OH"
      ]
     },
     "execution_count": 6,
     "metadata": {},
     "output_type": "execute_result"
    }
   ],
   "source": [
    "# further populate tables created from nested element\n",
    "json_normalize(data, 'counties', ['state', 'shortname', ['info', 'governor']])"
   ]
  },
  {
   "cell_type": "markdown",
   "metadata": {},
   "source": [
    "****\n",
    "## JSON example, with file\n",
    "\n",
    "+ demonstrates reading in a json file as a string and as a table\n",
    "+ uses small sample file containing data about projects funded by the World Bank \n",
    "+ data source: http://jsonstudio.com/resources/"
   ]
  },
  {
   "cell_type": "code",
   "execution_count": 7,
   "metadata": {
    "collapsed": false
   },
   "outputs": [
    {
     "data": {
      "text/plain": [
       "[{u'_id': {u'$oid': u'52b213b38594d8a2be17c780'},\n",
       "  u'approvalfy': 1999,\n",
       "  u'board_approval_month': u'November',\n",
       "  u'boardapprovaldate': u'2013-11-12T00:00:00Z',\n",
       "  u'borrower': u'FEDERAL DEMOCRATIC REPUBLIC OF ETHIOPIA',\n",
       "  u'closingdate': u'2018-07-07T00:00:00Z',\n",
       "  u'country_namecode': u'Federal Democratic Republic of Ethiopia!$!ET',\n",
       "  u'countrycode': u'ET',\n",
       "  u'countryname': u'Federal Democratic Republic of Ethiopia',\n",
       "  u'countryshortname': u'Ethiopia',\n",
       "  u'docty': u'Project Information Document,Indigenous Peoples Plan,Project Information Document',\n",
       "  u'envassesmentcategorycode': u'C',\n",
       "  u'grantamt': 0,\n",
       "  u'ibrdcommamt': 0,\n",
       "  u'id': u'P129828',\n",
       "  u'idacommamt': 130000000,\n",
       "  u'impagency': u'MINISTRY OF EDUCATION',\n",
       "  u'lendinginstr': u'Investment Project Financing',\n",
       "  u'lendinginstrtype': u'IN',\n",
       "  u'lendprojectcost': 550000000,\n",
       "  u'majorsector_percent': [{u'Name': u'Education', u'Percent': 46},\n",
       "   {u'Name': u'Education', u'Percent': 26},\n",
       "   {u'Name': u'Public Administration, Law, and Justice', u'Percent': 16},\n",
       "   {u'Name': u'Education', u'Percent': 12}],\n",
       "  u'mjsector_namecode': [{u'code': u'EX', u'name': u'Education'},\n",
       "   {u'code': u'EX', u'name': u'Education'},\n",
       "   {u'code': u'BX', u'name': u'Public Administration, Law, and Justice'},\n",
       "   {u'code': u'EX', u'name': u'Education'}],\n",
       "  u'mjtheme': [u'Human development'],\n",
       "  u'mjtheme_namecode': [{u'code': u'8', u'name': u'Human development'},\n",
       "   {u'code': u'11', u'name': u''}],\n",
       "  u'mjthemecode': u'8,11',\n",
       "  u'prodline': u'PE',\n",
       "  u'prodlinetext': u'IBRD/IDA',\n",
       "  u'productlinetype': u'L',\n",
       "  u'project_abstract': {u'cdata': u'The development objective of the Second Phase of General Education Quality Improvement Project for Ethiopia is to improve learning conditions in primary and secondary schools and strengthen institutions at different levels of educational administration. The project has six components. The first component is curriculum, textbooks, assessment, examinations, and inspection. This component will support improvement of learning conditions in grades KG-12 by providing increased access to teaching and learning materials and through improvements to the curriculum by assessing the strengths and weaknesses of the current curriculum. This component has following four sub-components: (i) curriculum reform and implementation; (ii) teaching and learning materials; (iii) assessment and examinations; and (iv) inspection. The second component is teacher development program (TDP). This component will support improvements in learning conditions in both primary and secondary schools by advancing the quality of teaching in general education through: (a) enhancing the training of pre-service teachers in teacher education institutions; and (b) improving the quality of in-service teacher training. This component has following three sub-components: (i) pre-service teacher training; (ii) in-service teacher training; and (iii) licensing and relicensing of teachers and school leaders. The third component is school improvement plan. This component will support the strengthening of school planning in order to improve learning outcomes, and to partly fund the school improvement plans through school grants. It has following two sub-components: (i) school improvement plan; and (ii) school grants. The fourth component is management and capacity building, including education management information systems (EMIS). This component will support management and capacity building aspect of the project. This component has following three sub-components: (i) capacity building for education planning and management; (ii) capacity building for school planning and management; and (iii) EMIS. The fifth component is improving the quality of learning and teaching in secondary schools and universities through the use of information and communications technology (ICT). It has following five sub-components: (i) national policy and institution for ICT in general education; (ii) national ICT infrastructure improvement plan for general education; (iii) develop an integrated monitoring, evaluation, and learning system specifically for the ICT component; (iv) teacher professional development in the use of ICT; and (v) provision of limited number of e-Braille display readers with the possibility to scale up to all secondary education schools based on the successful implementation and usage of the readers. The sixth component is program coordination, monitoring and evaluation, and communication. It will support institutional strengthening by developing capacities in all aspects of program coordination, monitoring and evaluation; a new sub-component on communications will support information sharing for better management and accountability. It has following three sub-components: (i) program coordination; (ii) monitoring and evaluation (M and E); and (iii) communication.'},\n",
       "  u'project_name': u'Ethiopia General Education Quality Improvement Project II',\n",
       "  u'projectdocs': [{u'DocDate': u'28-AUG-2013',\n",
       "    u'DocType': u'PID',\n",
       "    u'DocTypeDesc': u'Project Information Document (PID),  Vol.',\n",
       "    u'DocURL': u'http://www-wds.worldbank.org/servlet/WDSServlet?pcont=details&eid=090224b081e545fb_1_0',\n",
       "    u'EntityID': u'090224b081e545fb_1_0'},\n",
       "   {u'DocDate': u'01-JUL-2013',\n",
       "    u'DocType': u'IP',\n",
       "    u'DocTypeDesc': u'Indigenous Peoples Plan (IP),  Vol.1 of 1',\n",
       "    u'DocURL': u'http://www-wds.worldbank.org/servlet/WDSServlet?pcont=details&eid=000442464_20130920111729',\n",
       "    u'EntityID': u'000442464_20130920111729'},\n",
       "   {u'DocDate': u'22-NOV-2012',\n",
       "    u'DocType': u'PID',\n",
       "    u'DocTypeDesc': u'Project Information Document (PID),  Vol.',\n",
       "    u'DocURL': u'http://www-wds.worldbank.org/servlet/WDSServlet?pcont=details&eid=090224b0817b19e2_1_0',\n",
       "    u'EntityID': u'090224b0817b19e2_1_0'}],\n",
       "  u'projectfinancialtype': u'IDA',\n",
       "  u'projectstatusdisplay': u'Active',\n",
       "  u'regionname': u'Africa',\n",
       "  u'sector': [{u'Name': u'Primary education'},\n",
       "   {u'Name': u'Secondary education'},\n",
       "   {u'Name': u'Public administration- Other social services'},\n",
       "   {u'Name': u'Tertiary education'}],\n",
       "  u'sector1': {u'Name': u'Primary education', u'Percent': 46},\n",
       "  u'sector2': {u'Name': u'Secondary education', u'Percent': 26},\n",
       "  u'sector3': {u'Name': u'Public administration- Other social services',\n",
       "   u'Percent': 16},\n",
       "  u'sector4': {u'Name': u'Tertiary education', u'Percent': 12},\n",
       "  u'sector_namecode': [{u'code': u'EP', u'name': u'Primary education'},\n",
       "   {u'code': u'ES', u'name': u'Secondary education'},\n",
       "   {u'code': u'BS', u'name': u'Public administration- Other social services'},\n",
       "   {u'code': u'ET', u'name': u'Tertiary education'}],\n",
       "  u'sectorcode': u'ET,BS,ES,EP',\n",
       "  u'source': u'IBRD',\n",
       "  u'status': u'Active',\n",
       "  u'supplementprojectflg': u'N',\n",
       "  u'theme1': {u'Name': u'Education for all', u'Percent': 100},\n",
       "  u'theme_namecode': [{u'code': u'65', u'name': u'Education for all'}],\n",
       "  u'themecode': u'65',\n",
       "  u'totalamt': 130000000,\n",
       "  u'totalcommamt': 130000000,\n",
       "  u'url': u'http://www.worldbank.org/projects/P129828/ethiopia-general-education-quality-improvement-project-ii?lang=en'},\n",
       " {u'_id': {u'$oid': u'52b213b38594d8a2be17c781'},\n",
       "  u'approvalfy': 2015,\n",
       "  u'board_approval_month': u'November',\n",
       "  u'boardapprovaldate': u'2013-11-04T00:00:00Z',\n",
       "  u'borrower': u'GOVERNMENT OF TUNISIA',\n",
       "  u'country_namecode': u'Republic of Tunisia!$!TN',\n",
       "  u'countrycode': u'TN',\n",
       "  u'countryname': u'Republic of Tunisia',\n",
       "  u'countryshortname': u'Tunisia',\n",
       "  u'docty': u'Project Information Document,Integrated Safeguards Data Sheet,Integrated Safeguards Data Sheet,Project Information Document,Integrated Safeguards Data Sheet,Project Information Document',\n",
       "  u'envassesmentcategorycode': u'C',\n",
       "  u'grantamt': 4700000,\n",
       "  u'ibrdcommamt': 0,\n",
       "  u'id': u'P144674',\n",
       "  u'idacommamt': 0,\n",
       "  u'impagency': u'MINISTRY OF FINANCE',\n",
       "  u'lendinginstr': u'Specific Investment Loan',\n",
       "  u'lendinginstrtype': u'IN',\n",
       "  u'lendprojectcost': 5700000,\n",
       "  u'majorsector_percent': [{u'Name': u'Public Administration, Law, and Justice',\n",
       "    u'Percent': 70},\n",
       "   {u'Name': u'Public Administration, Law, and Justice', u'Percent': 30}],\n",
       "  u'mjsector_namecode': [{u'code': u'BX',\n",
       "    u'name': u'Public Administration, Law, and Justice'},\n",
       "   {u'code': u'BX', u'name': u'Public Administration, Law, and Justice'}],\n",
       "  u'mjtheme': [u'Economic management',\n",
       "   u'Social protection and risk management'],\n",
       "  u'mjtheme_namecode': [{u'code': u'1', u'name': u'Economic management'},\n",
       "   {u'code': u'6', u'name': u'Social protection and risk management'}],\n",
       "  u'mjthemecode': u'1,6',\n",
       "  u'prodline': u'RE',\n",
       "  u'prodlinetext': u'Recipient Executed Activities',\n",
       "  u'productlinetype': u'L',\n",
       "  u'project_name': u'TN: DTF Social Protection Reforms Support',\n",
       "  u'projectdocs': [{u'DocDate': u'29-MAR-2013',\n",
       "    u'DocType': u'PID',\n",
       "    u'DocTypeDesc': u'Project Information Document (PID),  Vol.1 of 1',\n",
       "    u'DocURL': u'http://www-wds.worldbank.org/servlet/WDSServlet?pcont=details&eid=000333037_20131024115616',\n",
       "    u'EntityID': u'000333037_20131024115616'},\n",
       "   {u'DocDate': u'29-MAR-2013',\n",
       "    u'DocType': u'ISDS',\n",
       "    u'DocTypeDesc': u'Integrated Safeguards Data Sheet (ISDS),  Vol.1 of 1',\n",
       "    u'DocURL': u'http://www-wds.worldbank.org/servlet/WDSServlet?pcont=details&eid=000356161_20131024151611',\n",
       "    u'EntityID': u'000356161_20131024151611'},\n",
       "   {u'DocDate': u'29-MAR-2013',\n",
       "    u'DocType': u'ISDS',\n",
       "    u'DocTypeDesc': u'Integrated Safeguards Data Sheet (ISDS),  Vol.1 of 1',\n",
       "    u'DocURL': u'http://www-wds.worldbank.org/servlet/WDSServlet?pcont=details&eid=000442464_20131031112136',\n",
       "    u'EntityID': u'000442464_20131031112136'},\n",
       "   {u'DocDate': u'29-MAR-2013',\n",
       "    u'DocType': u'PID',\n",
       "    u'DocTypeDesc': u'Project Information Document (PID),  Vol.1 of 1',\n",
       "    u'DocURL': u'http://www-wds.worldbank.org/servlet/WDSServlet?pcont=details&eid=000333037_20131031105716',\n",
       "    u'EntityID': u'000333037_20131031105716'},\n",
       "   {u'DocDate': u'16-JAN-2013',\n",
       "    u'DocType': u'ISDS',\n",
       "    u'DocTypeDesc': u'Integrated Safeguards Data Sheet (ISDS),  Vol.1 of 1',\n",
       "    u'DocURL': u'http://www-wds.worldbank.org/servlet/WDSServlet?pcont=details&eid=000356161_20130305113209',\n",
       "    u'EntityID': u'000356161_20130305113209'},\n",
       "   {u'DocDate': u'16-JAN-2013',\n",
       "    u'DocType': u'PID',\n",
       "    u'DocTypeDesc': u'Project Information Document (PID),  Vol.1 of 1',\n",
       "    u'DocURL': u'http://www-wds.worldbank.org/servlet/WDSServlet?pcont=details&eid=000356161_20130305113716',\n",
       "    u'EntityID': u'000356161_20130305113716'}],\n",
       "  u'projectfinancialtype': u'OTHER',\n",
       "  u'projectstatusdisplay': u'Active',\n",
       "  u'regionname': u'Middle East and North Africa',\n",
       "  u'sector': [{u'Name': u'Public administration- Other social services'},\n",
       "   {u'Name': u'General public administration sector'}],\n",
       "  u'sector1': {u'Name': u'Public administration- Other social services',\n",
       "   u'Percent': 70},\n",
       "  u'sector2': {u'Name': u'General public administration sector',\n",
       "   u'Percent': 30},\n",
       "  u'sector_namecode': [{u'code': u'BS',\n",
       "    u'name': u'Public administration- Other social services'},\n",
       "   {u'code': u'BZ', u'name': u'General public administration sector'}],\n",
       "  u'sectorcode': u'BZ,BS',\n",
       "  u'source': u'IBRD',\n",
       "  u'status': u'Active',\n",
       "  u'supplementprojectflg': u'N',\n",
       "  u'theme1': {u'Name': u'Other economic management', u'Percent': 30},\n",
       "  u'theme_namecode': [{u'code': u'24', u'name': u'Other economic management'},\n",
       "   {u'code': u'54', u'name': u'Social safety nets'}],\n",
       "  u'themecode': u'54,24',\n",
       "  u'totalamt': 0,\n",
       "  u'totalcommamt': 4700000,\n",
       "  u'url': u'http://www.worldbank.org/projects/P144674?lang=en'}]"
      ]
     },
     "execution_count": 7,
     "metadata": {},
     "output_type": "execute_result"
    }
   ],
   "source": [
    "# load json as string\n",
    "json.load((open('data/world_bank_projects_less.json')))"
   ]
  },
  {
   "cell_type": "code",
   "execution_count": 8,
   "metadata": {
    "collapsed": false
   },
   "outputs": [
    {
     "data": {
      "text/html": [
       "<div>\n",
       "<table border=\"1\" class=\"dataframe\">\n",
       "  <thead>\n",
       "    <tr style=\"text-align: right;\">\n",
       "      <th></th>\n",
       "      <th>_id</th>\n",
       "      <th>approvalfy</th>\n",
       "      <th>board_approval_month</th>\n",
       "      <th>boardapprovaldate</th>\n",
       "      <th>borrower</th>\n",
       "      <th>closingdate</th>\n",
       "      <th>country_namecode</th>\n",
       "      <th>countrycode</th>\n",
       "      <th>countryname</th>\n",
       "      <th>countryshortname</th>\n",
       "      <th>...</th>\n",
       "      <th>sectorcode</th>\n",
       "      <th>source</th>\n",
       "      <th>status</th>\n",
       "      <th>supplementprojectflg</th>\n",
       "      <th>theme1</th>\n",
       "      <th>theme_namecode</th>\n",
       "      <th>themecode</th>\n",
       "      <th>totalamt</th>\n",
       "      <th>totalcommamt</th>\n",
       "      <th>url</th>\n",
       "    </tr>\n",
       "  </thead>\n",
       "  <tbody>\n",
       "    <tr>\n",
       "      <th>0</th>\n",
       "      <td>{u'$oid': u'52b213b38594d8a2be17c780'}</td>\n",
       "      <td>1999</td>\n",
       "      <td>November</td>\n",
       "      <td>2013-11-12T00:00:00Z</td>\n",
       "      <td>FEDERAL DEMOCRATIC REPUBLIC OF ETHIOPIA</td>\n",
       "      <td>2018-07-07T00:00:00Z</td>\n",
       "      <td>Federal Democratic Republic of Ethiopia!$!ET</td>\n",
       "      <td>ET</td>\n",
       "      <td>Federal Democratic Republic of Ethiopia</td>\n",
       "      <td>Ethiopia</td>\n",
       "      <td>...</td>\n",
       "      <td>ET,BS,ES,EP</td>\n",
       "      <td>IBRD</td>\n",
       "      <td>Active</td>\n",
       "      <td>N</td>\n",
       "      <td>{u'Percent': 100, u'Name': u'Education for all'}</td>\n",
       "      <td>[{u'code': u'65', u'name': u'Education for all'}]</td>\n",
       "      <td>65</td>\n",
       "      <td>130000000</td>\n",
       "      <td>130000000</td>\n",
       "      <td>http://www.worldbank.org/projects/P129828/ethi...</td>\n",
       "    </tr>\n",
       "    <tr>\n",
       "      <th>1</th>\n",
       "      <td>{u'$oid': u'52b213b38594d8a2be17c781'}</td>\n",
       "      <td>2015</td>\n",
       "      <td>November</td>\n",
       "      <td>2013-11-04T00:00:00Z</td>\n",
       "      <td>GOVERNMENT OF TUNISIA</td>\n",
       "      <td>NaN</td>\n",
       "      <td>Republic of Tunisia!$!TN</td>\n",
       "      <td>TN</td>\n",
       "      <td>Republic of Tunisia</td>\n",
       "      <td>Tunisia</td>\n",
       "      <td>...</td>\n",
       "      <td>BZ,BS</td>\n",
       "      <td>IBRD</td>\n",
       "      <td>Active</td>\n",
       "      <td>N</td>\n",
       "      <td>{u'Percent': 30, u'Name': u'Other economic man...</td>\n",
       "      <td>[{u'code': u'24', u'name': u'Other economic ma...</td>\n",
       "      <td>54,24</td>\n",
       "      <td>0</td>\n",
       "      <td>4700000</td>\n",
       "      <td>http://www.worldbank.org/projects/P144674?lang=en</td>\n",
       "    </tr>\n",
       "  </tbody>\n",
       "</table>\n",
       "<p>2 rows × 50 columns</p>\n",
       "</div>"
      ],
      "text/plain": [
       "                                      _id  approvalfy board_approval_month  \\\n",
       "0  {u'$oid': u'52b213b38594d8a2be17c780'}        1999             November   \n",
       "1  {u'$oid': u'52b213b38594d8a2be17c781'}        2015             November   \n",
       "\n",
       "      boardapprovaldate                                 borrower  \\\n",
       "0  2013-11-12T00:00:00Z  FEDERAL DEMOCRATIC REPUBLIC OF ETHIOPIA   \n",
       "1  2013-11-04T00:00:00Z                    GOVERNMENT OF TUNISIA   \n",
       "\n",
       "            closingdate                              country_namecode  \\\n",
       "0  2018-07-07T00:00:00Z  Federal Democratic Republic of Ethiopia!$!ET   \n",
       "1                   NaN                      Republic of Tunisia!$!TN   \n",
       "\n",
       "  countrycode                              countryname countryshortname  \\\n",
       "0          ET  Federal Democratic Republic of Ethiopia         Ethiopia   \n",
       "1          TN                      Republic of Tunisia          Tunisia   \n",
       "\n",
       "                         ...                           sectorcode source  \\\n",
       "0                        ...                          ET,BS,ES,EP   IBRD   \n",
       "1                        ...                                BZ,BS   IBRD   \n",
       "\n",
       "   status  supplementprojectflg  \\\n",
       "0  Active                     N   \n",
       "1  Active                     N   \n",
       "\n",
       "                                              theme1  \\\n",
       "0   {u'Percent': 100, u'Name': u'Education for all'}   \n",
       "1  {u'Percent': 30, u'Name': u'Other economic man...   \n",
       "\n",
       "                                      theme_namecode themecode   totalamt  \\\n",
       "0  [{u'code': u'65', u'name': u'Education for all'}]        65  130000000   \n",
       "1  [{u'code': u'24', u'name': u'Other economic ma...     54,24          0   \n",
       "\n",
       "  totalcommamt                                                url  \n",
       "0    130000000  http://www.worldbank.org/projects/P129828/ethi...  \n",
       "1      4700000  http://www.worldbank.org/projects/P144674?lang=en  \n",
       "\n",
       "[2 rows x 50 columns]"
      ]
     },
     "execution_count": 8,
     "metadata": {},
     "output_type": "execute_result"
    }
   ],
   "source": [
    "# load as Pandas dataframe\n",
    "sample_json_df = pd.read_json('data/world_bank_projects_less.json')\n",
    "sample_json_df"
   ]
  },
  {
   "cell_type": "markdown",
   "metadata": {},
   "source": [
    "****\n",
    "## JSON exercise\n",
    "\n",
    "Using data in file 'data/world_bank_projects.json' and the techniques demonstrated above,\n",
    "1. Find the 10 countries with most projects\n",
    "2. Find the top 10 major project themes (using column 'mjtheme_namecode')\n",
    "3. In 2. above you will notice that some entries have only the code and the name is missing. Create a dataframe with the missing names filled in."
   ]
  },
  {
   "cell_type": "markdown",
   "metadata": {},
   "source": [
    "### 0. Loading and Exploring Data"
   ]
  },
  {
   "cell_type": "code",
   "execution_count": 9,
   "metadata": {
    "collapsed": true
   },
   "outputs": [],
   "source": [
    "df = pd.read_json('data/world_bank_projects.json')"
   ]
  },
  {
   "cell_type": "code",
   "execution_count": 10,
   "metadata": {
    "collapsed": false,
    "scrolled": true
   },
   "outputs": [
    {
     "name": "stdout",
     "output_type": "stream",
     "text": [
      "<class 'pandas.core.frame.DataFrame'>\n",
      "Int64Index: 500 entries, 0 to 499\n",
      "Data columns (total 50 columns):\n",
      "_id                         500 non-null object\n",
      "approvalfy                  500 non-null int64\n",
      "board_approval_month        500 non-null object\n",
      "boardapprovaldate           500 non-null object\n",
      "borrower                    485 non-null object\n",
      "closingdate                 370 non-null object\n",
      "country_namecode            500 non-null object\n",
      "countrycode                 500 non-null object\n",
      "countryname                 500 non-null object\n",
      "countryshortname            500 non-null object\n",
      "docty                       446 non-null object\n",
      "envassesmentcategorycode    430 non-null object\n",
      "grantamt                    500 non-null int64\n",
      "ibrdcommamt                 500 non-null int64\n",
      "id                          500 non-null object\n",
      "idacommamt                  500 non-null int64\n",
      "impagency                   472 non-null object\n",
      "lendinginstr                495 non-null object\n",
      "lendinginstrtype            495 non-null object\n",
      "lendprojectcost             500 non-null int64\n",
      "majorsector_percent         500 non-null object\n",
      "mjsector_namecode           500 non-null object\n",
      "mjtheme                     491 non-null object\n",
      "mjtheme_namecode            500 non-null object\n",
      "mjthemecode                 500 non-null object\n",
      "prodline                    500 non-null object\n",
      "prodlinetext                500 non-null object\n",
      "productlinetype             500 non-null object\n",
      "project_abstract            362 non-null object\n",
      "project_name                500 non-null object\n",
      "projectdocs                 446 non-null object\n",
      "projectfinancialtype        500 non-null object\n",
      "projectstatusdisplay        500 non-null object\n",
      "regionname                  500 non-null object\n",
      "sector                      500 non-null object\n",
      "sector1                     500 non-null object\n",
      "sector2                     380 non-null object\n",
      "sector3                     265 non-null object\n",
      "sector4                     174 non-null object\n",
      "sector_namecode             500 non-null object\n",
      "sectorcode                  500 non-null object\n",
      "source                      500 non-null object\n",
      "status                      500 non-null object\n",
      "supplementprojectflg        498 non-null object\n",
      "theme1                      500 non-null object\n",
      "theme_namecode              491 non-null object\n",
      "themecode                   491 non-null object\n",
      "totalamt                    500 non-null int64\n",
      "totalcommamt                500 non-null int64\n",
      "url                         500 non-null object\n",
      "dtypes: int64(7), object(43)\n",
      "memory usage: 199.2+ KB\n"
     ]
    }
   ],
   "source": [
    "df.info()"
   ]
  },
  {
   "cell_type": "markdown",
   "metadata": {},
   "source": [
    "- 500 projects (rows) each with 50 features (columns)\n",
    "- There are some missing columns\n",
    "- 7 integer types and 43 object data types"
   ]
  },
  {
   "cell_type": "code",
   "execution_count": 11,
   "metadata": {
    "collapsed": false,
    "scrolled": true
   },
   "outputs": [
    {
     "data": {
      "text/html": [
       "<div>\n",
       "<table border=\"1\" class=\"dataframe\">\n",
       "  <thead>\n",
       "    <tr style=\"text-align: right;\">\n",
       "      <th></th>\n",
       "      <th>_id</th>\n",
       "      <th>approvalfy</th>\n",
       "      <th>board_approval_month</th>\n",
       "      <th>boardapprovaldate</th>\n",
       "      <th>borrower</th>\n",
       "      <th>closingdate</th>\n",
       "      <th>country_namecode</th>\n",
       "      <th>countrycode</th>\n",
       "      <th>countryname</th>\n",
       "      <th>countryshortname</th>\n",
       "      <th>...</th>\n",
       "      <th>sectorcode</th>\n",
       "      <th>source</th>\n",
       "      <th>status</th>\n",
       "      <th>supplementprojectflg</th>\n",
       "      <th>theme1</th>\n",
       "      <th>theme_namecode</th>\n",
       "      <th>themecode</th>\n",
       "      <th>totalamt</th>\n",
       "      <th>totalcommamt</th>\n",
       "      <th>url</th>\n",
       "    </tr>\n",
       "  </thead>\n",
       "  <tbody>\n",
       "    <tr>\n",
       "      <th>0</th>\n",
       "      <td>{u'$oid': u'52b213b38594d8a2be17c780'}</td>\n",
       "      <td>1999</td>\n",
       "      <td>November</td>\n",
       "      <td>2013-11-12T00:00:00Z</td>\n",
       "      <td>FEDERAL DEMOCRATIC REPUBLIC OF ETHIOPIA</td>\n",
       "      <td>2018-07-07T00:00:00Z</td>\n",
       "      <td>Federal Democratic Republic of Ethiopia!$!ET</td>\n",
       "      <td>ET</td>\n",
       "      <td>Federal Democratic Republic of Ethiopia</td>\n",
       "      <td>Ethiopia</td>\n",
       "      <td>...</td>\n",
       "      <td>ET,BS,ES,EP</td>\n",
       "      <td>IBRD</td>\n",
       "      <td>Active</td>\n",
       "      <td>N</td>\n",
       "      <td>{u'Percent': 100, u'Name': u'Education for all'}</td>\n",
       "      <td>[{u'code': u'65', u'name': u'Education for all'}]</td>\n",
       "      <td>65</td>\n",
       "      <td>130000000</td>\n",
       "      <td>130000000</td>\n",
       "      <td>http://www.worldbank.org/projects/P129828/ethi...</td>\n",
       "    </tr>\n",
       "    <tr>\n",
       "      <th>1</th>\n",
       "      <td>{u'$oid': u'52b213b38594d8a2be17c781'}</td>\n",
       "      <td>2015</td>\n",
       "      <td>November</td>\n",
       "      <td>2013-11-04T00:00:00Z</td>\n",
       "      <td>GOVERNMENT OF TUNISIA</td>\n",
       "      <td>NaN</td>\n",
       "      <td>Republic of Tunisia!$!TN</td>\n",
       "      <td>TN</td>\n",
       "      <td>Republic of Tunisia</td>\n",
       "      <td>Tunisia</td>\n",
       "      <td>...</td>\n",
       "      <td>BZ,BS</td>\n",
       "      <td>IBRD</td>\n",
       "      <td>Active</td>\n",
       "      <td>N</td>\n",
       "      <td>{u'Percent': 30, u'Name': u'Other economic man...</td>\n",
       "      <td>[{u'code': u'24', u'name': u'Other economic ma...</td>\n",
       "      <td>54,24</td>\n",
       "      <td>0</td>\n",
       "      <td>4700000</td>\n",
       "      <td>http://www.worldbank.org/projects/P144674?lang=en</td>\n",
       "    </tr>\n",
       "    <tr>\n",
       "      <th>2</th>\n",
       "      <td>{u'$oid': u'52b213b38594d8a2be17c782'}</td>\n",
       "      <td>2014</td>\n",
       "      <td>November</td>\n",
       "      <td>2013-11-01T00:00:00Z</td>\n",
       "      <td>MINISTRY OF FINANCE AND ECONOMIC DEVEL</td>\n",
       "      <td>NaN</td>\n",
       "      <td>Tuvalu!$!TV</td>\n",
       "      <td>TV</td>\n",
       "      <td>Tuvalu</td>\n",
       "      <td>Tuvalu</td>\n",
       "      <td>...</td>\n",
       "      <td>TI</td>\n",
       "      <td>IBRD</td>\n",
       "      <td>Active</td>\n",
       "      <td>Y</td>\n",
       "      <td>{u'Percent': 46, u'Name': u'Regional integrati...</td>\n",
       "      <td>[{u'code': u'47', u'name': u'Regional integrat...</td>\n",
       "      <td>52,81,25,47</td>\n",
       "      <td>6060000</td>\n",
       "      <td>6060000</td>\n",
       "      <td>http://www.worldbank.org/projects/P145310?lang=en</td>\n",
       "    </tr>\n",
       "    <tr>\n",
       "      <th>3</th>\n",
       "      <td>{u'$oid': u'52b213b38594d8a2be17c783'}</td>\n",
       "      <td>2014</td>\n",
       "      <td>October</td>\n",
       "      <td>2013-10-31T00:00:00Z</td>\n",
       "      <td>MIN. OF PLANNING AND INT'L COOPERATION</td>\n",
       "      <td>NaN</td>\n",
       "      <td>Republic of Yemen!$!RY</td>\n",
       "      <td>RY</td>\n",
       "      <td>Republic of Yemen</td>\n",
       "      <td>Yemen, Republic of</td>\n",
       "      <td>...</td>\n",
       "      <td>JB</td>\n",
       "      <td>IBRD</td>\n",
       "      <td>Active</td>\n",
       "      <td>N</td>\n",
       "      <td>{u'Percent': 50, u'Name': u'Participation and ...</td>\n",
       "      <td>[{u'code': u'57', u'name': u'Participation and...</td>\n",
       "      <td>59,57</td>\n",
       "      <td>0</td>\n",
       "      <td>1500000</td>\n",
       "      <td>http://www.worldbank.org/projects/P144665?lang=en</td>\n",
       "    </tr>\n",
       "    <tr>\n",
       "      <th>4</th>\n",
       "      <td>{u'$oid': u'52b213b38594d8a2be17c784'}</td>\n",
       "      <td>2014</td>\n",
       "      <td>October</td>\n",
       "      <td>2013-10-31T00:00:00Z</td>\n",
       "      <td>MINISTRY OF FINANCE</td>\n",
       "      <td>2019-04-30T00:00:00Z</td>\n",
       "      <td>Kingdom of Lesotho!$!LS</td>\n",
       "      <td>LS</td>\n",
       "      <td>Kingdom of Lesotho</td>\n",
       "      <td>Lesotho</td>\n",
       "      <td>...</td>\n",
       "      <td>FH,YW,YZ</td>\n",
       "      <td>IBRD</td>\n",
       "      <td>Active</td>\n",
       "      <td>N</td>\n",
       "      <td>{u'Percent': 30, u'Name': u'Export development...</td>\n",
       "      <td>[{u'code': u'45', u'name': u'Export developmen...</td>\n",
       "      <td>41,45</td>\n",
       "      <td>13100000</td>\n",
       "      <td>13100000</td>\n",
       "      <td>http://www.worldbank.org/projects/P144933/seco...</td>\n",
       "    </tr>\n",
       "    <tr>\n",
       "      <th>5</th>\n",
       "      <td>{u'$oid': u'52b213b38594d8a2be17c785'}</td>\n",
       "      <td>2014</td>\n",
       "      <td>October</td>\n",
       "      <td>2013-10-31T00:00:00Z</td>\n",
       "      <td>REPUBLIC OF KENYA</td>\n",
       "      <td>NaN</td>\n",
       "      <td>Republic of Kenya!$!KE</td>\n",
       "      <td>KE</td>\n",
       "      <td>Republic of Kenya</td>\n",
       "      <td>Kenya</td>\n",
       "      <td>...</td>\n",
       "      <td>JB</td>\n",
       "      <td>IBRD</td>\n",
       "      <td>Active</td>\n",
       "      <td>Y</td>\n",
       "      <td>{u'Percent': 100, u'Name': u'Social safety nets'}</td>\n",
       "      <td>[{u'code': u'54', u'name': u'Social safety net...</td>\n",
       "      <td>54</td>\n",
       "      <td>10000000</td>\n",
       "      <td>10000000</td>\n",
       "      <td>http://www.worldbank.org/projects/P146161?lang=en</td>\n",
       "    </tr>\n",
       "    <tr>\n",
       "      <th>6</th>\n",
       "      <td>{u'$oid': u'52b213b38594d8a2be17c786'}</td>\n",
       "      <td>2014</td>\n",
       "      <td>October</td>\n",
       "      <td>2013-10-29T00:00:00Z</td>\n",
       "      <td>GOVERNMENT OF INDIA</td>\n",
       "      <td>2019-06-30T00:00:00Z</td>\n",
       "      <td>Republic of India!$!IN</td>\n",
       "      <td>IN</td>\n",
       "      <td>Republic of India</td>\n",
       "      <td>India</td>\n",
       "      <td>...</td>\n",
       "      <td>TI</td>\n",
       "      <td>IBRD</td>\n",
       "      <td>Active</td>\n",
       "      <td>N</td>\n",
       "      <td>{u'Percent': 20, u'Name': u'Administrative and...</td>\n",
       "      <td>[{u'code': u'25', u'name': u'Administrative an...</td>\n",
       "      <td>39,25</td>\n",
       "      <td>500000000</td>\n",
       "      <td>500000000</td>\n",
       "      <td>http://www.worldbank.org/projects/P121185/firs...</td>\n",
       "    </tr>\n",
       "    <tr>\n",
       "      <th>7</th>\n",
       "      <td>{u'$oid': u'52b213b38594d8a2be17c787'}</td>\n",
       "      <td>2014</td>\n",
       "      <td>October</td>\n",
       "      <td>2013-10-29T00:00:00Z</td>\n",
       "      <td>PEOPLE'S REPUBLIC OF CHINA</td>\n",
       "      <td>NaN</td>\n",
       "      <td>People's Republic of China!$!CN</td>\n",
       "      <td>CN</td>\n",
       "      <td>People's Republic of China</td>\n",
       "      <td>China</td>\n",
       "      <td>...</td>\n",
       "      <td>LR</td>\n",
       "      <td>IBRD</td>\n",
       "      <td>Active</td>\n",
       "      <td>N</td>\n",
       "      <td>{u'Percent': 100, u'Name': u'Climate change'}</td>\n",
       "      <td>[{u'code': u'81', u'name': u'Climate change'}]</td>\n",
       "      <td>81</td>\n",
       "      <td>0</td>\n",
       "      <td>27280000</td>\n",
       "      <td>http://www.worldbank.org/projects/P127033/chin...</td>\n",
       "    </tr>\n",
       "    <tr>\n",
       "      <th>8</th>\n",
       "      <td>{u'$oid': u'52b213b38594d8a2be17c788'}</td>\n",
       "      <td>2014</td>\n",
       "      <td>October</td>\n",
       "      <td>2013-10-29T00:00:00Z</td>\n",
       "      <td>THE GOVERNMENT OF INDIA</td>\n",
       "      <td>2018-12-31T00:00:00Z</td>\n",
       "      <td>Republic of India!$!IN</td>\n",
       "      <td>IN</td>\n",
       "      <td>Republic of India</td>\n",
       "      <td>India</td>\n",
       "      <td>...</td>\n",
       "      <td>TI</td>\n",
       "      <td>IBRD</td>\n",
       "      <td>Active</td>\n",
       "      <td>N</td>\n",
       "      <td>{u'Percent': 87, u'Name': u'Other rural develo...</td>\n",
       "      <td>[{u'code': u'79', u'name': u'Other rural devel...</td>\n",
       "      <td>79</td>\n",
       "      <td>160000000</td>\n",
       "      <td>160000000</td>\n",
       "      <td>http://www.worldbank.org/projects/P130164/raja...</td>\n",
       "    </tr>\n",
       "    <tr>\n",
       "      <th>9</th>\n",
       "      <td>{u'$oid': u'52b213b38594d8a2be17c789'}</td>\n",
       "      <td>2014</td>\n",
       "      <td>October</td>\n",
       "      <td>2013-10-29T00:00:00Z</td>\n",
       "      <td>THE KINGDOM OF MOROCCO</td>\n",
       "      <td>2014-12-31T00:00:00Z</td>\n",
       "      <td>Kingdom of Morocco!$!MA</td>\n",
       "      <td>MA</td>\n",
       "      <td>Kingdom of Morocco</td>\n",
       "      <td>Morocco</td>\n",
       "      <td>...</td>\n",
       "      <td>BM,BC,BZ</td>\n",
       "      <td>IBRD</td>\n",
       "      <td>Active</td>\n",
       "      <td>N</td>\n",
       "      <td>{u'Percent': 33, u'Name': u'Other accountabili...</td>\n",
       "      <td>[{u'code': u'29', u'name': u'Other accountabil...</td>\n",
       "      <td>27,30,29</td>\n",
       "      <td>200000000</td>\n",
       "      <td>200000000</td>\n",
       "      <td>http://www.worldbank.org/projects/P130903?lang=en</td>\n",
       "    </tr>\n",
       "  </tbody>\n",
       "</table>\n",
       "<p>10 rows × 50 columns</p>\n",
       "</div>"
      ],
      "text/plain": [
       "                                      _id  approvalfy board_approval_month  \\\n",
       "0  {u'$oid': u'52b213b38594d8a2be17c780'}        1999             November   \n",
       "1  {u'$oid': u'52b213b38594d8a2be17c781'}        2015             November   \n",
       "2  {u'$oid': u'52b213b38594d8a2be17c782'}        2014             November   \n",
       "3  {u'$oid': u'52b213b38594d8a2be17c783'}        2014              October   \n",
       "4  {u'$oid': u'52b213b38594d8a2be17c784'}        2014              October   \n",
       "5  {u'$oid': u'52b213b38594d8a2be17c785'}        2014              October   \n",
       "6  {u'$oid': u'52b213b38594d8a2be17c786'}        2014              October   \n",
       "7  {u'$oid': u'52b213b38594d8a2be17c787'}        2014              October   \n",
       "8  {u'$oid': u'52b213b38594d8a2be17c788'}        2014              October   \n",
       "9  {u'$oid': u'52b213b38594d8a2be17c789'}        2014              October   \n",
       "\n",
       "      boardapprovaldate                                 borrower  \\\n",
       "0  2013-11-12T00:00:00Z  FEDERAL DEMOCRATIC REPUBLIC OF ETHIOPIA   \n",
       "1  2013-11-04T00:00:00Z                    GOVERNMENT OF TUNISIA   \n",
       "2  2013-11-01T00:00:00Z   MINISTRY OF FINANCE AND ECONOMIC DEVEL   \n",
       "3  2013-10-31T00:00:00Z   MIN. OF PLANNING AND INT'L COOPERATION   \n",
       "4  2013-10-31T00:00:00Z                      MINISTRY OF FINANCE   \n",
       "5  2013-10-31T00:00:00Z                        REPUBLIC OF KENYA   \n",
       "6  2013-10-29T00:00:00Z                      GOVERNMENT OF INDIA   \n",
       "7  2013-10-29T00:00:00Z               PEOPLE'S REPUBLIC OF CHINA   \n",
       "8  2013-10-29T00:00:00Z                  THE GOVERNMENT OF INDIA   \n",
       "9  2013-10-29T00:00:00Z                   THE KINGDOM OF MOROCCO   \n",
       "\n",
       "            closingdate                              country_namecode  \\\n",
       "0  2018-07-07T00:00:00Z  Federal Democratic Republic of Ethiopia!$!ET   \n",
       "1                   NaN                      Republic of Tunisia!$!TN   \n",
       "2                   NaN                                   Tuvalu!$!TV   \n",
       "3                   NaN                        Republic of Yemen!$!RY   \n",
       "4  2019-04-30T00:00:00Z                       Kingdom of Lesotho!$!LS   \n",
       "5                   NaN                        Republic of Kenya!$!KE   \n",
       "6  2019-06-30T00:00:00Z                        Republic of India!$!IN   \n",
       "7                   NaN               People's Republic of China!$!CN   \n",
       "8  2018-12-31T00:00:00Z                        Republic of India!$!IN   \n",
       "9  2014-12-31T00:00:00Z                       Kingdom of Morocco!$!MA   \n",
       "\n",
       "  countrycode                              countryname    countryshortname  \\\n",
       "0          ET  Federal Democratic Republic of Ethiopia            Ethiopia   \n",
       "1          TN                      Republic of Tunisia             Tunisia   \n",
       "2          TV                                   Tuvalu              Tuvalu   \n",
       "3          RY                        Republic of Yemen  Yemen, Republic of   \n",
       "4          LS                       Kingdom of Lesotho             Lesotho   \n",
       "5          KE                        Republic of Kenya               Kenya   \n",
       "6          IN                        Republic of India               India   \n",
       "7          CN               People's Republic of China               China   \n",
       "8          IN                        Republic of India               India   \n",
       "9          MA                       Kingdom of Morocco             Morocco   \n",
       "\n",
       "                         ...                           sectorcode source  \\\n",
       "0                        ...                          ET,BS,ES,EP   IBRD   \n",
       "1                        ...                                BZ,BS   IBRD   \n",
       "2                        ...                                   TI   IBRD   \n",
       "3                        ...                                   JB   IBRD   \n",
       "4                        ...                             FH,YW,YZ   IBRD   \n",
       "5                        ...                                   JB   IBRD   \n",
       "6                        ...                                   TI   IBRD   \n",
       "7                        ...                                   LR   IBRD   \n",
       "8                        ...                                   TI   IBRD   \n",
       "9                        ...                             BM,BC,BZ   IBRD   \n",
       "\n",
       "   status  supplementprojectflg  \\\n",
       "0  Active                     N   \n",
       "1  Active                     N   \n",
       "2  Active                     Y   \n",
       "3  Active                     N   \n",
       "4  Active                     N   \n",
       "5  Active                     Y   \n",
       "6  Active                     N   \n",
       "7  Active                     N   \n",
       "8  Active                     N   \n",
       "9  Active                     N   \n",
       "\n",
       "                                              theme1  \\\n",
       "0   {u'Percent': 100, u'Name': u'Education for all'}   \n",
       "1  {u'Percent': 30, u'Name': u'Other economic man...   \n",
       "2  {u'Percent': 46, u'Name': u'Regional integrati...   \n",
       "3  {u'Percent': 50, u'Name': u'Participation and ...   \n",
       "4  {u'Percent': 30, u'Name': u'Export development...   \n",
       "5  {u'Percent': 100, u'Name': u'Social safety nets'}   \n",
       "6  {u'Percent': 20, u'Name': u'Administrative and...   \n",
       "7      {u'Percent': 100, u'Name': u'Climate change'}   \n",
       "8  {u'Percent': 87, u'Name': u'Other rural develo...   \n",
       "9  {u'Percent': 33, u'Name': u'Other accountabili...   \n",
       "\n",
       "                                      theme_namecode    themecode   totalamt  \\\n",
       "0  [{u'code': u'65', u'name': u'Education for all'}]           65  130000000   \n",
       "1  [{u'code': u'24', u'name': u'Other economic ma...        54,24          0   \n",
       "2  [{u'code': u'47', u'name': u'Regional integrat...  52,81,25,47    6060000   \n",
       "3  [{u'code': u'57', u'name': u'Participation and...        59,57          0   \n",
       "4  [{u'code': u'45', u'name': u'Export developmen...        41,45   13100000   \n",
       "5  [{u'code': u'54', u'name': u'Social safety net...           54   10000000   \n",
       "6  [{u'code': u'25', u'name': u'Administrative an...        39,25  500000000   \n",
       "7     [{u'code': u'81', u'name': u'Climate change'}]           81          0   \n",
       "8  [{u'code': u'79', u'name': u'Other rural devel...           79  160000000   \n",
       "9  [{u'code': u'29', u'name': u'Other accountabil...     27,30,29  200000000   \n",
       "\n",
       "  totalcommamt                                                url  \n",
       "0    130000000  http://www.worldbank.org/projects/P129828/ethi...  \n",
       "1      4700000  http://www.worldbank.org/projects/P144674?lang=en  \n",
       "2      6060000  http://www.worldbank.org/projects/P145310?lang=en  \n",
       "3      1500000  http://www.worldbank.org/projects/P144665?lang=en  \n",
       "4     13100000  http://www.worldbank.org/projects/P144933/seco...  \n",
       "5     10000000  http://www.worldbank.org/projects/P146161?lang=en  \n",
       "6    500000000  http://www.worldbank.org/projects/P121185/firs...  \n",
       "7     27280000  http://www.worldbank.org/projects/P127033/chin...  \n",
       "8    160000000  http://www.worldbank.org/projects/P130164/raja...  \n",
       "9    200000000  http://www.worldbank.org/projects/P130903?lang=en  \n",
       "\n",
       "[10 rows x 50 columns]"
      ]
     },
     "execution_count": 11,
     "metadata": {},
     "output_type": "execute_result"
    }
   ],
   "source": [
    "# check the first 10 lines\n",
    "df.head(10)"
   ]
  },
  {
   "cell_type": "code",
   "execution_count": 12,
   "metadata": {
    "collapsed": false,
    "scrolled": false
   },
   "outputs": [
    {
     "data": {
      "text/plain": [
       "Index([u'_id', u'approvalfy', u'board_approval_month', u'boardapprovaldate',\n",
       "       u'borrower', u'closingdate', u'country_namecode', u'countrycode',\n",
       "       u'countryname', u'countryshortname', u'docty',\n",
       "       u'envassesmentcategorycode', u'grantamt', u'ibrdcommamt', u'id',\n",
       "       u'idacommamt', u'impagency', u'lendinginstr', u'lendinginstrtype',\n",
       "       u'lendprojectcost', u'majorsector_percent', u'mjsector_namecode',\n",
       "       u'mjtheme', u'mjtheme_namecode', u'mjthemecode', u'prodline',\n",
       "       u'prodlinetext', u'productlinetype', u'project_abstract',\n",
       "       u'project_name', u'projectdocs', u'projectfinancialtype',\n",
       "       u'projectstatusdisplay', u'regionname', u'sector', u'sector1',\n",
       "       u'sector2', u'sector3', u'sector4', u'sector_namecode', u'sectorcode',\n",
       "       u'source', u'status', u'supplementprojectflg', u'theme1',\n",
       "       u'theme_namecode', u'themecode', u'totalamt', u'totalcommamt', u'url'],\n",
       "      dtype='object')"
      ]
     },
     "execution_count": 12,
     "metadata": {},
     "output_type": "execute_result"
    }
   ],
   "source": [
    "# check column names\n",
    "df.columns"
   ]
  },
  {
   "cell_type": "markdown",
   "metadata": {},
   "source": [
    "The type of column name is unicode."
   ]
  },
  {
   "cell_type": "markdown",
   "metadata": {
    "collapsed": true
   },
   "source": [
    "### 1. 10 countries with most projects"
   ]
  },
  {
   "cell_type": "markdown",
   "metadata": {},
   "source": [
    "The relevant column names are country_namecode,\tcountrycode, countryname, and countryshortname. I will use countryshortname since it contains more familiar country names we use. "
   ]
  },
  {
   "cell_type": "code",
   "execution_count": 13,
   "metadata": {
    "collapsed": true
   },
   "outputs": [],
   "source": [
    "country_names = df['countryshortname']"
   ]
  },
  {
   "cell_type": "code",
   "execution_count": 14,
   "metadata": {
    "collapsed": false,
    "scrolled": true
   },
   "outputs": [
    {
     "data": {
      "text/plain": [
       "0"
      ]
     },
     "execution_count": 14,
     "metadata": {},
     "output_type": "execute_result"
    }
   ],
   "source": [
    "sum(country_names.isnull())"
   ]
  },
  {
   "cell_type": "markdown",
   "metadata": {},
   "source": [
    "There is no missing country name."
   ]
  },
  {
   "cell_type": "code",
   "execution_count": 15,
   "metadata": {
    "collapsed": false,
    "scrolled": true
   },
   "outputs": [
    {
     "data": {
      "text/plain": [
       "118"
      ]
     },
     "execution_count": 15,
     "metadata": {},
     "output_type": "execute_result"
    }
   ],
   "source": [
    "# number of unique values\n",
    "country_names.nunique()"
   ]
  },
  {
   "cell_type": "markdown",
   "metadata": {},
   "source": [
    "There are 118 countries in toral."
   ]
  },
  {
   "cell_type": "code",
   "execution_count": 16,
   "metadata": {
    "collapsed": false
   },
   "outputs": [
    {
     "data": {
      "text/plain": [
       "China                               19\n",
       "Indonesia                           19\n",
       "Vietnam                             17\n",
       "India                               16\n",
       "Yemen, Republic of                  13\n",
       "Morocco                             12\n",
       "Bangladesh                          12\n",
       "Nepal                               12\n",
       "Africa                              11\n",
       "Mozambique                          11\n",
       "Brazil                               9\n",
       "Burkina Faso                         9\n",
       "Pakistan                             9\n",
       "Armenia                              8\n",
       "Tajikistan                           8\n",
       "Tanzania                             8\n",
       "Kyrgyz Republic                      7\n",
       "Nigeria                              7\n",
       "Lao People's Democratic Republic     7\n",
       "Jordan                               7\n",
       "Kenya                                6\n",
       "West Bank and Gaza                   6\n",
       "Afghanistan                          6\n",
       "Peru                                 6\n",
       "Nicaragua                            6\n",
       "Congo, Democratic Republic of        6\n",
       "Haiti                                5\n",
       "Honduras                             5\n",
       "Moldova                              5\n",
       "Uzbekistan                           5\n",
       "                                    ..\n",
       "Mexico                               2\n",
       "Mauritania                           2\n",
       "Timor-Leste                          2\n",
       "Kosovo                               2\n",
       "Malawi                               2\n",
       "Seychelles                           2\n",
       "Mauritius                            2\n",
       "Europe and Central Asia              1\n",
       "Romania                              1\n",
       "East Asia and Pacific                1\n",
       "Panama                               1\n",
       "Congo, Republic of                   1\n",
       "Costa Rica                           1\n",
       "Sri Lanka                            1\n",
       "Central African Republic             1\n",
       "Cape Verde                           1\n",
       "Zimbabwe                             1\n",
       "Angola                               1\n",
       "Thailand                             1\n",
       "Serbia                               1\n",
       "Chad                                 1\n",
       "Belarus                              1\n",
       "Tuvalu                               1\n",
       "Poland                               1\n",
       "Kiribati                             1\n",
       "Bosnia and Herzegovina               1\n",
       "Chile                                1\n",
       "Namibia                              1\n",
       "Tonga                                1\n",
       "Antigua and Barbuda                  1\n",
       "Name: countryshortname, dtype: int64"
      ]
     },
     "execution_count": 16,
     "metadata": {},
     "output_type": "execute_result"
    }
   ],
   "source": [
    "# Country name and their frequency in projects sorted by frequency\n",
    "project_count_by_country = country_names.value_counts()\n",
    "project_count_by_country"
   ]
  },
  {
   "cell_type": "code",
   "execution_count": 17,
   "metadata": {
    "collapsed": false,
    "scrolled": false
   },
   "outputs": [
    {
     "data": {
      "text/plain": [
       "China                 19\n",
       "Indonesia             19\n",
       "Vietnam               17\n",
       "India                 16\n",
       "Yemen, Republic of    13\n",
       "Morocco               12\n",
       "Bangladesh            12\n",
       "Nepal                 12\n",
       "Africa                11\n",
       "Mozambique            11\n",
       "Name: countryshortname, dtype: int64"
      ]
     },
     "execution_count": 17,
     "metadata": {},
     "output_type": "execute_result"
    }
   ],
   "source": [
    "# Top 10 coutries\n",
    "project_count_by_country[:10]"
   ]
  },
  {
   "cell_type": "markdown",
   "metadata": {},
   "source": [
    "__Answer to question 1:__\n",
    "\n",
    "The above output shows the 10 countries with most projects are __\n",
    "China                 (19),\n",
    "Indonesia             (19),\n",
    "Vietnam               (17),\n",
    "India                 (16),\n",
    "Yemen, Republic of    (13),\n",
    "Morocco               (12),\n",
    "Bangladesh            (12),\n",
    "Nepal                 (12),\n",
    "Africa                (11),\n",
    "Mozambique            (11) __\n",
    "in order.\n",
    "The numbers in parentheses are the number of proejects. "
   ]
  },
  {
   "cell_type": "code",
   "execution_count": null,
   "metadata": {
    "collapsed": true
   },
   "outputs": [],
   "source": []
  },
  {
   "cell_type": "markdown",
   "metadata": {},
   "source": [
    "### 2. Top 10 major project themes"
   ]
  },
  {
   "cell_type": "markdown",
   "metadata": {},
   "source": [
    "The column __mjtheme_namecode__ will be used to find top major project themes."
   ]
  },
  {
   "cell_type": "code",
   "execution_count": 18,
   "metadata": {
    "collapsed": false,
    "scrolled": true
   },
   "outputs": [
    {
     "data": {
      "text/plain": [
       "0    [{u'code': u'8', u'name': u'Human development'...\n",
       "1    [{u'code': u'1', u'name': u'Economic managemen...\n",
       "2    [{u'code': u'5', u'name': u'Trade and integrat...\n",
       "3    [{u'code': u'7', u'name': u'Social dev/gender/...\n",
       "4    [{u'code': u'5', u'name': u'Trade and integrat...\n",
       "Name: mjtheme_namecode, dtype: object"
      ]
     },
     "execution_count": 18,
     "metadata": {},
     "output_type": "execute_result"
    }
   ],
   "source": [
    "# check the structure of mjtheme_namecode column\n",
    "df['mjtheme_namecode'].head()"
   ]
  },
  {
   "cell_type": "code",
   "execution_count": 19,
   "metadata": {
    "collapsed": false
   },
   "outputs": [
    {
     "name": "stdout",
     "output_type": "stream",
     "text": [
      "[{u'code': u'8', u'name': u'Human development'}, {u'code': u'11', u'name': u''}]\n",
      "2\n",
      "[{u'code': u'1', u'name': u'Economic management'}, {u'code': u'6', u'name': u'Social protection and risk management'}]\n",
      "2\n",
      "[{u'code': u'5', u'name': u'Trade and integration'}, {u'code': u'2', u'name': u'Public sector governance'}, {u'code': u'11', u'name': u'Environment and natural resources management'}, {u'code': u'6', u'name': u'Social protection and risk management'}]\n",
      "4\n",
      "[{u'code': u'7', u'name': u'Social dev/gender/inclusion'}, {u'code': u'7', u'name': u'Social dev/gender/inclusion'}]\n",
      "2\n",
      "[{u'code': u'5', u'name': u'Trade and integration'}, {u'code': u'4', u'name': u'Financial and private sector development'}]\n",
      "2\n",
      "[{u'code': u'6', u'name': u'Social protection and risk management'}, {u'code': u'6', u'name': u''}]\n",
      "2\n",
      "[{u'code': u'2', u'name': u'Public sector governance'}, {u'code': u'4', u'name': u'Financial and private sector development'}]\n",
      "2\n",
      "[{u'code': u'11', u'name': u'Environment and natural resources management'}, {u'code': u'8', u'name': u''}]\n",
      "2\n",
      "[{u'code': u'10', u'name': u'Rural development'}, {u'code': u'7', u'name': u''}]\n",
      "2\n",
      "[{u'code': u'2', u'name': u'Public sector governance'}, {u'code': u'2', u'name': u'Public sector governance'}, {u'code': u'2', u'name': u'Public sector governance'}]\n",
      "3\n"
     ]
    }
   ],
   "source": [
    "# check more details of mjtheme_namecode for each of 10 projects\n",
    "for item in df['mjtheme_namecode'][:10]:\n",
    "    print(item) # themes for each project\n",
    "    print(len(item)) # number of themes for each project"
   ]
  },
  {
   "cell_type": "code",
   "execution_count": 20,
   "metadata": {
    "collapsed": false
   },
   "outputs": [
    {
     "data": {
      "text/plain": [
       "0"
      ]
     },
     "execution_count": 20,
     "metadata": {},
     "output_type": "execute_result"
    }
   ],
   "source": [
    "sum(df['mjtheme_namecode'].isnull())"
   ]
  },
  {
   "cell_type": "code",
   "execution_count": 21,
   "metadata": {
    "collapsed": false
   },
   "outputs": [
    {
     "data": {
      "text/plain": [
       "u''"
      ]
     },
     "execution_count": 21,
     "metadata": {},
     "output_type": "execute_result"
    }
   ],
   "source": [
    "df['mjtheme_namecode'][5][1]['name']"
   ]
  },
  {
   "cell_type": "markdown",
   "metadata": {},
   "source": [
    "There seems to be no missing value for the column mjtheme_namecode, but there are some blank theme names and redundant themes inside nested elements. The redundant themes could be there for some reasons (probably not by accident), so I will not remove them for now. The data also shows some projects have multiple themes, so each project has a list of dictionaries each with the theme code and name. Therefore, I will load json as a nested string this time and make tables using the techniques demonstrated above (normalization)."
   ]
  },
  {
   "cell_type": "code",
   "execution_count": 22,
   "metadata": {
    "collapsed": false
   },
   "outputs": [],
   "source": [
    "data = json.load(open('data/world_bank_projects.json'))"
   ]
  },
  {
   "cell_type": "code",
   "execution_count": 23,
   "metadata": {
    "collapsed": false,
    "scrolled": false
   },
   "outputs": [],
   "source": [
    "# Check the second project to see the structure\n",
    "# data[1] "
   ]
  },
  {
   "cell_type": "markdown",
   "metadata": {},
   "source": [
    "I will use normalization to get a row with two columns, theme code and theme name. Each row is for each theme of every project. "
   ]
  },
  {
   "cell_type": "code",
   "execution_count": 43,
   "metadata": {
    "collapsed": false,
    "scrolled": false
   },
   "outputs": [
    {
     "data": {
      "text/html": [
       "<div>\n",
       "<table border=\"1\" class=\"dataframe\">\n",
       "  <thead>\n",
       "    <tr style=\"text-align: right;\">\n",
       "      <th></th>\n",
       "      <th>code</th>\n",
       "      <th>name</th>\n",
       "    </tr>\n",
       "  </thead>\n",
       "  <tbody>\n",
       "    <tr>\n",
       "      <th>0</th>\n",
       "      <td>8</td>\n",
       "      <td>Human development</td>\n",
       "    </tr>\n",
       "    <tr>\n",
       "      <th>1</th>\n",
       "      <td>11</td>\n",
       "      <td></td>\n",
       "    </tr>\n",
       "    <tr>\n",
       "      <th>2</th>\n",
       "      <td>1</td>\n",
       "      <td>Economic management</td>\n",
       "    </tr>\n",
       "    <tr>\n",
       "      <th>3</th>\n",
       "      <td>6</td>\n",
       "      <td>Social protection and risk management</td>\n",
       "    </tr>\n",
       "    <tr>\n",
       "      <th>4</th>\n",
       "      <td>5</td>\n",
       "      <td>Trade and integration</td>\n",
       "    </tr>\n",
       "    <tr>\n",
       "      <th>5</th>\n",
       "      <td>2</td>\n",
       "      <td>Public sector governance</td>\n",
       "    </tr>\n",
       "    <tr>\n",
       "      <th>6</th>\n",
       "      <td>11</td>\n",
       "      <td>Environment and natural resources management</td>\n",
       "    </tr>\n",
       "    <tr>\n",
       "      <th>7</th>\n",
       "      <td>6</td>\n",
       "      <td>Social protection and risk management</td>\n",
       "    </tr>\n",
       "    <tr>\n",
       "      <th>8</th>\n",
       "      <td>7</td>\n",
       "      <td>Social dev/gender/inclusion</td>\n",
       "    </tr>\n",
       "    <tr>\n",
       "      <th>9</th>\n",
       "      <td>7</td>\n",
       "      <td>Social dev/gender/inclusion</td>\n",
       "    </tr>\n",
       "    <tr>\n",
       "      <th>10</th>\n",
       "      <td>5</td>\n",
       "      <td>Trade and integration</td>\n",
       "    </tr>\n",
       "    <tr>\n",
       "      <th>11</th>\n",
       "      <td>4</td>\n",
       "      <td>Financial and private sector development</td>\n",
       "    </tr>\n",
       "    <tr>\n",
       "      <th>12</th>\n",
       "      <td>6</td>\n",
       "      <td>Social protection and risk management</td>\n",
       "    </tr>\n",
       "    <tr>\n",
       "      <th>13</th>\n",
       "      <td>6</td>\n",
       "      <td></td>\n",
       "    </tr>\n",
       "    <tr>\n",
       "      <th>14</th>\n",
       "      <td>2</td>\n",
       "      <td>Public sector governance</td>\n",
       "    </tr>\n",
       "    <tr>\n",
       "      <th>15</th>\n",
       "      <td>4</td>\n",
       "      <td>Financial and private sector development</td>\n",
       "    </tr>\n",
       "    <tr>\n",
       "      <th>16</th>\n",
       "      <td>11</td>\n",
       "      <td>Environment and natural resources management</td>\n",
       "    </tr>\n",
       "    <tr>\n",
       "      <th>17</th>\n",
       "      <td>8</td>\n",
       "      <td></td>\n",
       "    </tr>\n",
       "    <tr>\n",
       "      <th>18</th>\n",
       "      <td>10</td>\n",
       "      <td>Rural development</td>\n",
       "    </tr>\n",
       "    <tr>\n",
       "      <th>19</th>\n",
       "      <td>7</td>\n",
       "      <td></td>\n",
       "    </tr>\n",
       "  </tbody>\n",
       "</table>\n",
       "</div>"
      ],
      "text/plain": [
       "   code                                          name\n",
       "0     8                             Human development\n",
       "1    11                                              \n",
       "2     1                           Economic management\n",
       "3     6         Social protection and risk management\n",
       "4     5                         Trade and integration\n",
       "5     2                      Public sector governance\n",
       "6    11  Environment and natural resources management\n",
       "7     6         Social protection and risk management\n",
       "8     7                   Social dev/gender/inclusion\n",
       "9     7                   Social dev/gender/inclusion\n",
       "10    5                         Trade and integration\n",
       "11    4      Financial and private sector development\n",
       "12    6         Social protection and risk management\n",
       "13    6                                              \n",
       "14    2                      Public sector governance\n",
       "15    4      Financial and private sector development\n",
       "16   11  Environment and natural resources management\n",
       "17    8                                              \n",
       "18   10                             Rural development\n",
       "19    7                                              "
      ]
     },
     "execution_count": 43,
     "metadata": {},
     "output_type": "execute_result"
    }
   ],
   "source": [
    "# normalization\n",
    "df_theme = json_normalize(data, 'mjtheme_namecode')\n",
    "df_theme.head(20)"
   ]
  },
  {
   "cell_type": "code",
   "execution_count": 26,
   "metadata": {
    "collapsed": false,
    "scrolled": false
   },
   "outputs": [
    {
     "name": "stdout",
     "output_type": "stream",
     "text": [
      "<class 'pandas.core.frame.DataFrame'>\n",
      "Int64Index: 1499 entries, 0 to 1498\n",
      "Data columns (total 2 columns):\n",
      "code    1499 non-null object\n",
      "name    1499 non-null object\n",
      "dtypes: object(2)\n",
      "memory usage: 35.1+ KB\n"
     ]
    }
   ],
   "source": [
    "#sum(df_theme.name.isnull())\n",
    "df_theme.info()"
   ]
  },
  {
   "cell_type": "code",
   "execution_count": 27,
   "metadata": {
    "collapsed": false,
    "scrolled": true
   },
   "outputs": [
    {
     "data": {
      "text/plain": [
       "0"
      ]
     },
     "execution_count": 27,
     "metadata": {},
     "output_type": "execute_result"
    }
   ],
   "source": [
    "len(df_theme[df_theme['code'] ==\"\"])"
   ]
  },
  {
   "cell_type": "code",
   "execution_count": 28,
   "metadata": {
    "collapsed": false
   },
   "outputs": [
    {
     "data": {
      "text/plain": [
       "122"
      ]
     },
     "execution_count": 28,
     "metadata": {},
     "output_type": "execute_result"
    }
   ],
   "source": [
    "len(df_theme[df_theme['name'] ==\"\"])"
   ]
  },
  {
   "cell_type": "markdown",
   "metadata": {},
   "source": [
    "There are no null objects for both code and name columns, but 122 names are missing. I will make a list of indices with missing names."
   ]
  },
  {
   "cell_type": "code",
   "execution_count": 29,
   "metadata": {
    "collapsed": false
   },
   "outputs": [
    {
     "data": {
      "text/plain": [
       "122"
      ]
     },
     "execution_count": 29,
     "metadata": {},
     "output_type": "execute_result"
    }
   ],
   "source": [
    "# Make a list of indices with missing names\n",
    "no_name_idx = df_theme[df_theme['name']==\"\"].index.tolist()\n",
    "len(no_name_idx)"
   ]
  },
  {
   "cell_type": "code",
   "execution_count": 30,
   "metadata": {
    "collapsed": false,
    "scrolled": true
   },
   "outputs": [
    {
     "data": {
      "text/plain": [
       "(unicode, unicode, unicode)"
      ]
     },
     "execution_count": 30,
     "metadata": {},
     "output_type": "execute_result"
    }
   ],
   "source": [
    "type(df_theme['code'][0]), type(df_theme['name'][0]), type(df_theme.columns[0])"
   ]
  },
  {
   "cell_type": "markdown",
   "metadata": {},
   "source": [
    "Both columns and column names are unicode types, so I will make them integer, string, and string types, respectively."
   ]
  },
  {
   "cell_type": "code",
   "execution_count": 31,
   "metadata": {
    "collapsed": false
   },
   "outputs": [
    {
     "data": {
      "text/plain": [
       "(numpy.int32, str, str)"
      ]
     },
     "execution_count": 31,
     "metadata": {},
     "output_type": "execute_result"
    }
   ],
   "source": [
    "df_theme['code'] = df_theme['code'].astype(int)\n",
    "df_theme['name'] = df_theme['name'].astype(str)\n",
    "df_theme.columns = df_theme.columns.astype(str)\n",
    "\n",
    "type(df_theme['code'][0]), type(df_theme['name'][0]), type(df_theme.columns[0])"
   ]
  },
  {
   "cell_type": "code",
   "execution_count": 32,
   "metadata": {
    "collapsed": false
   },
   "outputs": [
    {
     "data": {
      "text/plain": [
       "11    250\n",
       "10    216\n",
       "8     210\n",
       "2     199\n",
       "6     168\n",
       "4     146\n",
       "7     130\n",
       "5      77\n",
       "9      50\n",
       "1      38\n",
       "3      15\n",
       "Name: code, dtype: int64"
      ]
     },
     "execution_count": 32,
     "metadata": {},
     "output_type": "execute_result"
    }
   ],
   "source": [
    "df_theme['code'].value_counts()"
   ]
  },
  {
   "cell_type": "code",
   "execution_count": 33,
   "metadata": {
    "collapsed": false,
    "scrolled": true
   },
   "outputs": [
    {
     "data": {
      "text/html": [
       "<div>\n",
       "<table border=\"1\" class=\"dataframe\">\n",
       "  <thead>\n",
       "    <tr style=\"text-align: right;\">\n",
       "      <th></th>\n",
       "      <th>code</th>\n",
       "      <th>count</th>\n",
       "    </tr>\n",
       "  </thead>\n",
       "  <tbody>\n",
       "    <tr>\n",
       "      <th>0</th>\n",
       "      <td>11</td>\n",
       "      <td>250</td>\n",
       "    </tr>\n",
       "    <tr>\n",
       "      <th>1</th>\n",
       "      <td>10</td>\n",
       "      <td>216</td>\n",
       "    </tr>\n",
       "    <tr>\n",
       "      <th>2</th>\n",
       "      <td>8</td>\n",
       "      <td>210</td>\n",
       "    </tr>\n",
       "    <tr>\n",
       "      <th>3</th>\n",
       "      <td>2</td>\n",
       "      <td>199</td>\n",
       "    </tr>\n",
       "    <tr>\n",
       "      <th>4</th>\n",
       "      <td>6</td>\n",
       "      <td>168</td>\n",
       "    </tr>\n",
       "    <tr>\n",
       "      <th>5</th>\n",
       "      <td>4</td>\n",
       "      <td>146</td>\n",
       "    </tr>\n",
       "    <tr>\n",
       "      <th>6</th>\n",
       "      <td>7</td>\n",
       "      <td>130</td>\n",
       "    </tr>\n",
       "    <tr>\n",
       "      <th>7</th>\n",
       "      <td>5</td>\n",
       "      <td>77</td>\n",
       "    </tr>\n",
       "    <tr>\n",
       "      <th>8</th>\n",
       "      <td>9</td>\n",
       "      <td>50</td>\n",
       "    </tr>\n",
       "    <tr>\n",
       "      <th>9</th>\n",
       "      <td>1</td>\n",
       "      <td>38</td>\n",
       "    </tr>\n",
       "    <tr>\n",
       "      <th>10</th>\n",
       "      <td>3</td>\n",
       "      <td>15</td>\n",
       "    </tr>\n",
       "  </tbody>\n",
       "</table>\n",
       "</div>"
      ],
      "text/plain": [
       "    code  count\n",
       "0     11    250\n",
       "1     10    216\n",
       "2      8    210\n",
       "3      2    199\n",
       "4      6    168\n",
       "5      4    146\n",
       "6      7    130\n",
       "7      5     77\n",
       "8      9     50\n",
       "9      1     38\n",
       "10     3     15"
      ]
     },
     "execution_count": 33,
     "metadata": {},
     "output_type": "execute_result"
    }
   ],
   "source": [
    "code_count_table = pd.DataFrame(df_theme['code'].value_counts().reset_index())\n",
    "code_count_table.columns =['code', 'count']\n",
    "code_count_table"
   ]
  },
  {
   "cell_type": "markdown",
   "metadata": {},
   "source": [
    "There are 11 major themes with code 1 to 11. I will find out the name for each theme code and make a table."
   ]
  },
  {
   "cell_type": "code",
   "execution_count": 34,
   "metadata": {
    "collapsed": false,
    "scrolled": true
   },
   "outputs": [
    {
     "data": {
      "text/html": [
       "<div>\n",
       "<table border=\"1\" class=\"dataframe\">\n",
       "  <thead>\n",
       "    <tr style=\"text-align: right;\">\n",
       "      <th></th>\n",
       "      <th>code</th>\n",
       "      <th>name</th>\n",
       "    </tr>\n",
       "  </thead>\n",
       "  <tbody>\n",
       "    <tr>\n",
       "      <th>0</th>\n",
       "      <td>1</td>\n",
       "      <td>Economic management</td>\n",
       "    </tr>\n",
       "    <tr>\n",
       "      <th>1</th>\n",
       "      <td>2</td>\n",
       "      <td>Public sector governance</td>\n",
       "    </tr>\n",
       "    <tr>\n",
       "      <th>2</th>\n",
       "      <td>3</td>\n",
       "      <td>Rule of law</td>\n",
       "    </tr>\n",
       "    <tr>\n",
       "      <th>3</th>\n",
       "      <td>4</td>\n",
       "      <td>Financial and private sector development</td>\n",
       "    </tr>\n",
       "    <tr>\n",
       "      <th>4</th>\n",
       "      <td>5</td>\n",
       "      <td>Trade and integration</td>\n",
       "    </tr>\n",
       "    <tr>\n",
       "      <th>5</th>\n",
       "      <td>6</td>\n",
       "      <td>Social protection and risk management</td>\n",
       "    </tr>\n",
       "    <tr>\n",
       "      <th>6</th>\n",
       "      <td>7</td>\n",
       "      <td>Social dev/gender/inclusion</td>\n",
       "    </tr>\n",
       "    <tr>\n",
       "      <th>7</th>\n",
       "      <td>8</td>\n",
       "      <td>Human development</td>\n",
       "    </tr>\n",
       "    <tr>\n",
       "      <th>8</th>\n",
       "      <td>9</td>\n",
       "      <td>Urban development</td>\n",
       "    </tr>\n",
       "    <tr>\n",
       "      <th>9</th>\n",
       "      <td>10</td>\n",
       "      <td>Rural development</td>\n",
       "    </tr>\n",
       "    <tr>\n",
       "      <th>10</th>\n",
       "      <td>11</td>\n",
       "      <td>Environment and natural resources management</td>\n",
       "    </tr>\n",
       "  </tbody>\n",
       "</table>\n",
       "</div>"
      ],
      "text/plain": [
       "    code                                          name\n",
       "0      1                           Economic management\n",
       "1      2                      Public sector governance\n",
       "2      3                                   Rule of law\n",
       "3      4      Financial and private sector development\n",
       "4      5                         Trade and integration\n",
       "5      6         Social protection and risk management\n",
       "6      7                   Social dev/gender/inclusion\n",
       "7      8                             Human development\n",
       "8      9                             Urban development\n",
       "9     10                             Rural development\n",
       "10    11  Environment and natural resources management"
      ]
     },
     "execution_count": 34,
     "metadata": {},
     "output_type": "execute_result"
    }
   ],
   "source": [
    "code_name_table = df_theme.drop(no_name_idx).drop_duplicates().sort_values(by='code').reset_index(drop=True)\n",
    "code_name_table"
   ]
  },
  {
   "cell_type": "code",
   "execution_count": 35,
   "metadata": {
    "collapsed": false
   },
   "outputs": [
    {
     "data": {
      "text/html": [
       "<div>\n",
       "<table border=\"1\" class=\"dataframe\">\n",
       "  <thead>\n",
       "    <tr style=\"text-align: right;\">\n",
       "      <th></th>\n",
       "      <th>code</th>\n",
       "      <th>count</th>\n",
       "      <th>name</th>\n",
       "    </tr>\n",
       "  </thead>\n",
       "  <tbody>\n",
       "    <tr>\n",
       "      <th>0</th>\n",
       "      <td>11</td>\n",
       "      <td>250</td>\n",
       "      <td>Environment and natural resources management</td>\n",
       "    </tr>\n",
       "    <tr>\n",
       "      <th>1</th>\n",
       "      <td>10</td>\n",
       "      <td>216</td>\n",
       "      <td>Rural development</td>\n",
       "    </tr>\n",
       "    <tr>\n",
       "      <th>2</th>\n",
       "      <td>8</td>\n",
       "      <td>210</td>\n",
       "      <td>Human development</td>\n",
       "    </tr>\n",
       "    <tr>\n",
       "      <th>3</th>\n",
       "      <td>2</td>\n",
       "      <td>199</td>\n",
       "      <td>Public sector governance</td>\n",
       "    </tr>\n",
       "    <tr>\n",
       "      <th>4</th>\n",
       "      <td>6</td>\n",
       "      <td>168</td>\n",
       "      <td>Social protection and risk management</td>\n",
       "    </tr>\n",
       "    <tr>\n",
       "      <th>5</th>\n",
       "      <td>4</td>\n",
       "      <td>146</td>\n",
       "      <td>Financial and private sector development</td>\n",
       "    </tr>\n",
       "    <tr>\n",
       "      <th>6</th>\n",
       "      <td>7</td>\n",
       "      <td>130</td>\n",
       "      <td>Social dev/gender/inclusion</td>\n",
       "    </tr>\n",
       "    <tr>\n",
       "      <th>7</th>\n",
       "      <td>5</td>\n",
       "      <td>77</td>\n",
       "      <td>Trade and integration</td>\n",
       "    </tr>\n",
       "    <tr>\n",
       "      <th>8</th>\n",
       "      <td>9</td>\n",
       "      <td>50</td>\n",
       "      <td>Urban development</td>\n",
       "    </tr>\n",
       "    <tr>\n",
       "      <th>9</th>\n",
       "      <td>1</td>\n",
       "      <td>38</td>\n",
       "      <td>Economic management</td>\n",
       "    </tr>\n",
       "    <tr>\n",
       "      <th>10</th>\n",
       "      <td>3</td>\n",
       "      <td>15</td>\n",
       "      <td>Rule of law</td>\n",
       "    </tr>\n",
       "  </tbody>\n",
       "</table>\n",
       "</div>"
      ],
      "text/plain": [
       "    code  count                                          name\n",
       "0     11    250  Environment and natural resources management\n",
       "1     10    216                             Rural development\n",
       "2      8    210                             Human development\n",
       "3      2    199                      Public sector governance\n",
       "4      6    168         Social protection and risk management\n",
       "5      4    146      Financial and private sector development\n",
       "6      7    130                   Social dev/gender/inclusion\n",
       "7      5     77                         Trade and integration\n",
       "8      9     50                             Urban development\n",
       "9      1     38                           Economic management\n",
       "10     3     15                                   Rule of law"
      ]
     },
     "execution_count": 35,
     "metadata": {},
     "output_type": "execute_result"
    }
   ],
   "source": [
    "merge_on_code = pd.merge(code_count_table, code_name_table, on='code')\n",
    "merge_on_code"
   ]
  },
  {
   "cell_type": "code",
   "execution_count": 36,
   "metadata": {
    "collapsed": false,
    "scrolled": true
   },
   "outputs": [
    {
     "data": {
      "text/html": [
       "<div>\n",
       "<table border=\"1\" class=\"dataframe\">\n",
       "  <thead>\n",
       "    <tr style=\"text-align: right;\">\n",
       "      <th></th>\n",
       "      <th>code</th>\n",
       "      <th>name</th>\n",
       "    </tr>\n",
       "  </thead>\n",
       "  <tbody>\n",
       "    <tr>\n",
       "      <th>0</th>\n",
       "      <td>11</td>\n",
       "      <td>Environment and natural resources management</td>\n",
       "    </tr>\n",
       "    <tr>\n",
       "      <th>1</th>\n",
       "      <td>10</td>\n",
       "      <td>Rural development</td>\n",
       "    </tr>\n",
       "    <tr>\n",
       "      <th>2</th>\n",
       "      <td>8</td>\n",
       "      <td>Human development</td>\n",
       "    </tr>\n",
       "    <tr>\n",
       "      <th>3</th>\n",
       "      <td>2</td>\n",
       "      <td>Public sector governance</td>\n",
       "    </tr>\n",
       "    <tr>\n",
       "      <th>4</th>\n",
       "      <td>6</td>\n",
       "      <td>Social protection and risk management</td>\n",
       "    </tr>\n",
       "    <tr>\n",
       "      <th>5</th>\n",
       "      <td>4</td>\n",
       "      <td>Financial and private sector development</td>\n",
       "    </tr>\n",
       "    <tr>\n",
       "      <th>6</th>\n",
       "      <td>7</td>\n",
       "      <td>Social dev/gender/inclusion</td>\n",
       "    </tr>\n",
       "    <tr>\n",
       "      <th>7</th>\n",
       "      <td>5</td>\n",
       "      <td>Trade and integration</td>\n",
       "    </tr>\n",
       "    <tr>\n",
       "      <th>8</th>\n",
       "      <td>9</td>\n",
       "      <td>Urban development</td>\n",
       "    </tr>\n",
       "    <tr>\n",
       "      <th>9</th>\n",
       "      <td>1</td>\n",
       "      <td>Economic management</td>\n",
       "    </tr>\n",
       "  </tbody>\n",
       "</table>\n",
       "</div>"
      ],
      "text/plain": [
       "   code                                          name\n",
       "0    11  Environment and natural resources management\n",
       "1    10                             Rural development\n",
       "2     8                             Human development\n",
       "3     2                      Public sector governance\n",
       "4     6         Social protection and risk management\n",
       "5     4      Financial and private sector development\n",
       "6     7                   Social dev/gender/inclusion\n",
       "7     5                         Trade and integration\n",
       "8     9                             Urban development\n",
       "9     1                           Economic management"
      ]
     },
     "execution_count": 36,
     "metadata": {},
     "output_type": "execute_result"
    }
   ],
   "source": [
    "# Top 10 major themes\n",
    "merge_on_code[['code','name']][:10]"
   ]
  },
  {
   "cell_type": "markdown",
   "metadata": {},
   "source": [
    "__Answer to question 2:__\n",
    "\n",
    "The above table shows codes and names of the top 10 major themes."
   ]
  },
  {
   "cell_type": "code",
   "execution_count": null,
   "metadata": {
    "collapsed": true
   },
   "outputs": [],
   "source": []
  },
  {
   "cell_type": "markdown",
   "metadata": {},
   "source": [
    "### 3. Fill missing names"
   ]
  },
  {
   "cell_type": "code",
   "execution_count": 37,
   "metadata": {
    "collapsed": true
   },
   "outputs": [],
   "source": [
    "df = pd.read_json('data/world_bank_projects.json')"
   ]
  },
  {
   "cell_type": "code",
   "execution_count": 38,
   "metadata": {
    "collapsed": false,
    "scrolled": true
   },
   "outputs": [
    {
     "data": {
      "text/plain": [
       "0    [{u'code': u'8', u'name': u'Human development'...\n",
       "1    [{u'code': u'1', u'name': u'Economic managemen...\n",
       "2    [{u'code': u'5', u'name': u'Trade and integrat...\n",
       "3    [{u'code': u'7', u'name': u'Social dev/gender/...\n",
       "4    [{u'code': u'5', u'name': u'Trade and integrat...\n",
       "Name: mjtheme_namecode, dtype: object"
      ]
     },
     "execution_count": 38,
     "metadata": {},
     "output_type": "execute_result"
    }
   ],
   "source": [
    "df['mjtheme_namecode'].head()"
   ]
  },
  {
   "cell_type": "code",
   "execution_count": 39,
   "metadata": {
    "collapsed": false,
    "scrolled": true
   },
   "outputs": [
    {
     "data": {
      "text/plain": [
       "[{u'code': u'8', u'name': u'Human development'},\n",
       " {u'code': u'11', u'name': u''}]"
      ]
     },
     "execution_count": 39,
     "metadata": {},
     "output_type": "execute_result"
    }
   ],
   "source": [
    "df['mjtheme_namecode'][0]"
   ]
  },
  {
   "cell_type": "code",
   "execution_count": 40,
   "metadata": {
    "collapsed": false
   },
   "outputs": [
    {
     "data": {
      "text/plain": [
       "{u'1': u'Economic management',\n",
       " u'10': u'Rural development',\n",
       " u'11': u'Environment and natural resources management',\n",
       " u'2': u'Public sector governance',\n",
       " u'3': u'Rule of law',\n",
       " u'4': u'Financial and private sector development',\n",
       " u'5': u'Trade and integration',\n",
       " u'6': u'Social protection and risk management',\n",
       " u'7': u'Social dev/gender/inclusion',\n",
       " u'8': u'Human development',\n",
       " u'9': u'Urban development'}"
      ]
     },
     "execution_count": 40,
     "metadata": {},
     "output_type": "execute_result"
    }
   ],
   "source": [
    "mjtheme_dict_unicode = dict(zip(code_name_table['code'].astype(unicode),code_name_table['name'].astype(unicode)))\n",
    "mjtheme_dict_unicode"
   ]
  },
  {
   "cell_type": "code",
   "execution_count": 41,
   "metadata": {
    "collapsed": false
   },
   "outputs": [
    {
     "name": "stdout",
     "output_type": "stream",
     "text": [
      "Before:  {u'code': u'11', u'name': u''}\n",
      "After:  {u'code': u'11', u'name': u'Environment and natural resources management'}\n",
      "Before:  {u'code': u'6', u'name': u''}\n",
      "After:  {u'code': u'6', u'name': u'Social protection and risk management'}\n",
      "Before:  {u'code': u'8', u'name': u''}\n",
      "After:  {u'code': u'8', u'name': u'Human development'}\n",
      "Before:  {u'code': u'7', u'name': u''}\n",
      "After:  {u'code': u'7', u'name': u'Social dev/gender/inclusion'}\n",
      "Before:  {u'code': u'2', u'name': u''}\n",
      "After:  {u'code': u'2', u'name': u'Public sector governance'}\n",
      "Before:  {u'code': u'4', u'name': u''}\n",
      "After:  {u'code': u'4', u'name': u'Financial and private sector development'}\n",
      "Before:  {u'code': u'2', u'name': u''}\n",
      "After:  {u'code': u'2', u'name': u'Public sector governance'}\n",
      "Before:  {u'code': u'7', u'name': u''}\n",
      "After:  {u'code': u'7', u'name': u'Social dev/gender/inclusion'}\n",
      "Before:  {u'code': u'4', u'name': u''}\n",
      "After:  {u'code': u'4', u'name': u'Financial and private sector development'}\n",
      "Before:  {u'code': u'11', u'name': u''}\n",
      "After:  {u'code': u'11', u'name': u'Environment and natural resources management'}\n",
      "Before:  {u'code': u'7', u'name': u''}\n",
      "After:  {u'code': u'7', u'name': u'Social dev/gender/inclusion'}\n",
      "Before:  {u'code': u'4', u'name': u''}\n",
      "After:  {u'code': u'4', u'name': u'Financial and private sector development'}\n",
      "Before:  {u'code': u'8', u'name': u''}\n",
      "After:  {u'code': u'8', u'name': u'Human development'}\n",
      "Before:  {u'code': u'7', u'name': u''}\n",
      "After:  {u'code': u'7', u'name': u'Social dev/gender/inclusion'}\n",
      "Before:  {u'code': u'10', u'name': u''}\n",
      "After:  {u'code': u'10', u'name': u'Rural development'}\n",
      "Before:  {u'code': u'11', u'name': u''}\n",
      "After:  {u'code': u'11', u'name': u'Environment and natural resources management'}\n",
      "Before:  {u'code': u'4', u'name': u''}\n",
      "After:  {u'code': u'4', u'name': u'Financial and private sector development'}\n",
      "Before:  {u'code': u'10', u'name': u''}\n",
      "After:  {u'code': u'10', u'name': u'Rural development'}\n",
      "Before:  {u'code': u'4', u'name': u''}\n",
      "After:  {u'code': u'4', u'name': u'Financial and private sector development'}\n",
      "Before:  {u'code': u'2', u'name': u''}\n",
      "After:  {u'code': u'2', u'name': u'Public sector governance'}\n",
      "Before:  {u'code': u'7', u'name': u''}\n",
      "After:  {u'code': u'7', u'name': u'Social dev/gender/inclusion'}\n",
      "Before:  {u'code': u'11', u'name': u''}\n",
      "After:  {u'code': u'11', u'name': u'Environment and natural resources management'}\n",
      "Before:  {u'code': u'4', u'name': u''}\n",
      "After:  {u'code': u'4', u'name': u'Financial and private sector development'}\n",
      "Before:  {u'code': u'5', u'name': u''}\n",
      "After:  {u'code': u'5', u'name': u'Trade and integration'}\n",
      "Before:  {u'code': u'11', u'name': u''}\n",
      "After:  {u'code': u'11', u'name': u'Environment and natural resources management'}\n",
      "Before:  {u'code': u'1', u'name': u''}\n",
      "After:  {u'code': u'1', u'name': u'Economic management'}\n",
      "Before:  {u'code': u'10', u'name': u''}\n",
      "After:  {u'code': u'10', u'name': u'Rural development'}\n",
      "Before:  {u'code': u'4', u'name': u''}\n",
      "After:  {u'code': u'4', u'name': u'Financial and private sector development'}\n",
      "Before:  {u'code': u'6', u'name': u''}\n",
      "After:  {u'code': u'6', u'name': u'Social protection and risk management'}\n",
      "Before:  {u'code': u'11', u'name': u''}\n",
      "After:  {u'code': u'11', u'name': u'Environment and natural resources management'}\n",
      "Before:  {u'code': u'4', u'name': u''}\n",
      "After:  {u'code': u'4', u'name': u'Financial and private sector development'}\n",
      "Before:  {u'code': u'8', u'name': u''}\n",
      "After:  {u'code': u'8', u'name': u'Human development'}\n",
      "Before:  {u'code': u'11', u'name': u''}\n",
      "After:  {u'code': u'11', u'name': u'Environment and natural resources management'}\n",
      "Before:  {u'code': u'10', u'name': u''}\n",
      "After:  {u'code': u'10', u'name': u'Rural development'}\n",
      "Before:  {u'code': u'2', u'name': u''}\n",
      "After:  {u'code': u'2', u'name': u'Public sector governance'}\n",
      "Before:  {u'code': u'11', u'name': u''}\n",
      "After:  {u'code': u'11', u'name': u'Environment and natural resources management'}\n",
      "Before:  {u'code': u'2', u'name': u''}\n",
      "After:  {u'code': u'2', u'name': u'Public sector governance'}\n",
      "Before:  {u'code': u'2', u'name': u''}\n",
      "After:  {u'code': u'2', u'name': u'Public sector governance'}\n",
      "Before:  {u'code': u'9', u'name': u''}\n",
      "After:  {u'code': u'9', u'name': u'Urban development'}\n",
      "Before:  {u'code': u'1', u'name': u''}\n",
      "After:  {u'code': u'1', u'name': u'Economic management'}\n",
      "Before:  {u'code': u'7', u'name': u''}\n",
      "After:  {u'code': u'7', u'name': u'Social dev/gender/inclusion'}\n",
      "Before:  {u'code': u'11', u'name': u''}\n",
      "After:  {u'code': u'11', u'name': u'Environment and natural resources management'}\n",
      "Before:  {u'code': u'10', u'name': u''}\n",
      "After:  {u'code': u'10', u'name': u'Rural development'}\n",
      "Before:  {u'code': u'4', u'name': u''}\n",
      "After:  {u'code': u'4', u'name': u'Financial and private sector development'}\n",
      "Before:  {u'code': u'11', u'name': u''}\n",
      "After:  {u'code': u'11', u'name': u'Environment and natural resources management'}\n",
      "Before:  {u'code': u'10', u'name': u''}\n",
      "After:  {u'code': u'10', u'name': u'Rural development'}\n",
      "Before:  {u'code': u'8', u'name': u''}\n",
      "After:  {u'code': u'8', u'name': u'Human development'}\n",
      "Before:  {u'code': u'10', u'name': u''}\n",
      "After:  {u'code': u'10', u'name': u'Rural development'}\n",
      "Before:  {u'code': u'11', u'name': u''}\n",
      "After:  {u'code': u'11', u'name': u'Environment and natural resources management'}\n",
      "Before:  {u'code': u'9', u'name': u''}\n",
      "After:  {u'code': u'9', u'name': u'Urban development'}\n",
      "Before:  {u'code': u'2', u'name': u''}\n",
      "After:  {u'code': u'2', u'name': u'Public sector governance'}\n",
      "Before:  {u'code': u'9', u'name': u''}\n",
      "After:  {u'code': u'9', u'name': u'Urban development'}\n",
      "Before:  {u'code': u'2', u'name': u''}\n",
      "After:  {u'code': u'2', u'name': u'Public sector governance'}\n",
      "Before:  {u'code': u'3', u'name': u''}\n",
      "After:  {u'code': u'3', u'name': u'Rule of law'}\n",
      "Before:  {u'code': u'4', u'name': u''}\n",
      "After:  {u'code': u'4', u'name': u'Financial and private sector development'}\n",
      "Before:  {u'code': u'11', u'name': u''}\n",
      "After:  {u'code': u'11', u'name': u'Environment and natural resources management'}\n",
      "Before:  {u'code': u'2', u'name': u''}\n",
      "After:  {u'code': u'2', u'name': u'Public sector governance'}\n",
      "Before:  {u'code': u'6', u'name': u''}\n",
      "After:  {u'code': u'6', u'name': u'Social protection and risk management'}\n",
      "Before:  {u'code': u'10', u'name': u''}\n",
      "After:  {u'code': u'10', u'name': u'Rural development'}\n",
      "Before:  {u'code': u'2', u'name': u''}\n",
      "After:  {u'code': u'2', u'name': u'Public sector governance'}\n",
      "Before:  {u'code': u'8', u'name': u''}\n",
      "After:  {u'code': u'8', u'name': u'Human development'}\n",
      "Before:  {u'code': u'11', u'name': u''}\n",
      "After:  {u'code': u'11', u'name': u'Environment and natural resources management'}\n",
      "Before:  {u'code': u'7', u'name': u''}\n",
      "After:  {u'code': u'7', u'name': u'Social dev/gender/inclusion'}\n",
      "Before:  {u'code': u'11', u'name': u''}\n",
      "After:  {u'code': u'11', u'name': u'Environment and natural resources management'}\n",
      "Before:  {u'code': u'3', u'name': u''}\n",
      "After:  {u'code': u'3', u'name': u'Rule of law'}\n",
      "Before:  {u'code': u'10', u'name': u''}\n",
      "After:  {u'code': u'10', u'name': u'Rural development'}\n",
      "Before:  {u'code': u'11', u'name': u''}\n",
      "After:  {u'code': u'11', u'name': u'Environment and natural resources management'}\n",
      "Before:  {u'code': u'10', u'name': u''}\n",
      "After:  {u'code': u'10', u'name': u'Rural development'}\n",
      "Before:  {u'code': u'7', u'name': u''}\n",
      "After:  {u'code': u'7', u'name': u'Social dev/gender/inclusion'}\n",
      "Before:  {u'code': u'6', u'name': u''}\n",
      "After:  {u'code': u'6', u'name': u'Social protection and risk management'}\n",
      "Before:  {u'code': u'11', u'name': u''}\n",
      "After:  {u'code': u'11', u'name': u'Environment and natural resources management'}\n",
      "Before:  {u'code': u'5', u'name': u''}\n",
      "After:  {u'code': u'5', u'name': u'Trade and integration'}\n",
      "Before:  {u'code': u'10', u'name': u''}\n",
      "After:  {u'code': u'10', u'name': u'Rural development'}\n",
      "Before:  {u'code': u'4', u'name': u''}\n",
      "After:  {u'code': u'4', u'name': u'Financial and private sector development'}\n",
      "Before:  {u'code': u'7', u'name': u''}\n",
      "After:  {u'code': u'7', u'name': u'Social dev/gender/inclusion'}\n",
      "Before:  {u'code': u'8', u'name': u''}\n",
      "After:  {u'code': u'8', u'name': u'Human development'}\n",
      "Before:  {u'code': u'5', u'name': u''}\n",
      "After:  {u'code': u'5', u'name': u'Trade and integration'}\n",
      "Before:  {u'code': u'10', u'name': u''}\n",
      "After:  {u'code': u'10', u'name': u'Rural development'}\n",
      "Before:  {u'code': u'6', u'name': u''}\n",
      "After:  {u'code': u'6', u'name': u'Social protection and risk management'}\n",
      "Before:  {u'code': u'8', u'name': u''}\n",
      "After:  {u'code': u'8', u'name': u'Human development'}\n",
      "Before:  {u'code': u'8', u'name': u''}\n",
      "After:  {u'code': u'8', u'name': u'Human development'}\n",
      "Before:  {u'code': u'11', u'name': u''}\n",
      "After:  {u'code': u'11', u'name': u'Environment and natural resources management'}\n",
      "Before:  {u'code': u'11', u'name': u''}\n",
      "After:  {u'code': u'11', u'name': u'Environment and natural resources management'}\n",
      "Before:  {u'code': u'10', u'name': u''}\n",
      "After:  {u'code': u'10', u'name': u'Rural development'}\n",
      "Before:  {u'code': u'11', u'name': u''}\n",
      "After:  {u'code': u'11', u'name': u'Environment and natural resources management'}\n",
      "Before:  {u'code': u'11', u'name': u''}\n",
      "After:  {u'code': u'11', u'name': u'Environment and natural resources management'}\n",
      "Before:  {u'code': u'1', u'name': u''}\n",
      "After:  {u'code': u'1', u'name': u'Economic management'}\n",
      "Before:  {u'code': u'3', u'name': u''}\n",
      "After:  {u'code': u'3', u'name': u'Rule of law'}\n",
      "Before:  {u'code': u'8', u'name': u''}\n",
      "After:  {u'code': u'8', u'name': u'Human development'}\n",
      "Before:  {u'code': u'11', u'name': u''}\n",
      "After:  {u'code': u'11', u'name': u'Environment and natural resources management'}\n",
      "Before:  {u'code': u'8', u'name': u''}\n",
      "After:  {u'code': u'8', u'name': u'Human development'}\n",
      "Before:  {u'code': u'2', u'name': u''}\n",
      "After:  {u'code': u'2', u'name': u'Public sector governance'}\n",
      "Before:  {u'code': u'7', u'name': u''}\n",
      "After:  {u'code': u'7', u'name': u'Social dev/gender/inclusion'}\n",
      "Before:  {u'code': u'1', u'name': u''}\n",
      "After:  {u'code': u'1', u'name': u'Economic management'}\n",
      "Before:  {u'code': u'7', u'name': u''}\n",
      "After:  {u'code': u'7', u'name': u'Social dev/gender/inclusion'}\n",
      "Before:  {u'code': u'10', u'name': u''}\n",
      "After:  {u'code': u'10', u'name': u'Rural development'}\n",
      "Before:  {u'code': u'2', u'name': u''}\n",
      "After:  {u'code': u'2', u'name': u'Public sector governance'}\n",
      "Before:  {u'code': u'6', u'name': u''}\n",
      "After:  {u'code': u'6', u'name': u'Social protection and risk management'}\n",
      "Before:  {u'code': u'6', u'name': u''}\n",
      "After:  {u'code': u'6', u'name': u'Social protection and risk management'}\n",
      "Before:  {u'code': u'6', u'name': u''}\n",
      "After:  {u'code': u'6', u'name': u'Social protection and risk management'}\n",
      "Before:  {u'code': u'4', u'name': u''}\n",
      "After:  {u'code': u'4', u'name': u'Financial and private sector development'}\n",
      "Before:  {u'code': u'6', u'name': u''}\n",
      "After:  {u'code': u'6', u'name': u'Social protection and risk management'}\n",
      "Before:  {u'code': u'8', u'name': u''}\n",
      "After:  {u'code': u'8', u'name': u'Human development'}\n",
      "Before:  {u'code': u'2', u'name': u''}\n",
      "After:  {u'code': u'2', u'name': u'Public sector governance'}\n",
      "Before:  {u'code': u'4', u'name': u''}\n",
      "After:  {u'code': u'4', u'name': u'Financial and private sector development'}\n",
      "Before:  {u'code': u'5', u'name': u''}\n",
      "After:  {u'code': u'5', u'name': u'Trade and integration'}\n",
      "Before:  {u'code': u'4', u'name': u''}\n",
      "After:  {u'code': u'4', u'name': u'Financial and private sector development'}\n",
      "Before:  {u'code': u'11', u'name': u''}\n",
      "After:  {u'code': u'11', u'name': u'Environment and natural resources management'}\n",
      "Before:  {u'code': u'2', u'name': u''}\n",
      "After:  {u'code': u'2', u'name': u'Public sector governance'}\n",
      "Before:  {u'code': u'2', u'name': u''}\n",
      "After:  {u'code': u'2', u'name': u'Public sector governance'}\n",
      "Before:  {u'code': u'11', u'name': u''}\n",
      "After:  {u'code': u'11', u'name': u'Environment and natural resources management'}\n",
      "Before:  {u'code': u'11', u'name': u''}\n",
      "After:  {u'code': u'11', u'name': u'Environment and natural resources management'}\n",
      "Before:  {u'code': u'11', u'name': u''}\n",
      "After:  {u'code': u'11', u'name': u'Environment and natural resources management'}\n",
      "Before:  {u'code': u'4', u'name': u''}\n",
      "After:  {u'code': u'4', u'name': u'Financial and private sector development'}\n",
      "Before:  {u'code': u'8', u'name': u''}\n",
      "After:  {u'code': u'8', u'name': u'Human development'}\n",
      "Before:  {u'code': u'1', u'name': u''}\n",
      "After:  {u'code': u'1', u'name': u'Economic management'}\n",
      "Before:  {u'code': u'11', u'name': u''}\n",
      "After:  {u'code': u'11', u'name': u'Environment and natural resources management'}\n",
      "Before:  {u'code': u'4', u'name': u''}\n",
      "After:  {u'code': u'4', u'name': u'Financial and private sector development'}\n",
      "Before:  {u'code': u'11', u'name': u''}\n",
      "After:  {u'code': u'11', u'name': u'Environment and natural resources management'}\n",
      "Before:  {u'code': u'5', u'name': u''}\n",
      "After:  {u'code': u'5', u'name': u'Trade and integration'}\n",
      "Before:  {u'code': u'8', u'name': u''}\n",
      "After:  {u'code': u'8', u'name': u'Human development'}\n",
      "Before:  {u'code': u'6', u'name': u''}\n",
      "After:  {u'code': u'6', u'name': u'Social protection and risk management'}\n",
      "In total,  122  names were filled!!\n"
     ]
    }
   ],
   "source": [
    "count_fixed=0\n",
    "for i, project in enumerate(df['mjtheme_namecode']):\n",
    "    for j, theme in enumerate(project):\n",
    "        if theme['name'] == \"\":\n",
    "            print \"Before: \", df['mjtheme_namecode'][i][j]\n",
    "            df['mjtheme_namecode'][i][j]['name'] = mjtheme_dict_unicode[theme['code']]\n",
    "            print \"After: \", df['mjtheme_namecode'][i][j]\n",
    "            count_fixed += 1\n",
    "\n",
    "print \"In total, \", count_fixed, \" names were filled!!\""
   ]
  },
  {
   "cell_type": "code",
   "execution_count": 42,
   "metadata": {
    "collapsed": false
   },
   "outputs": [
    {
     "data": {
      "text/plain": [
       "[{u'code': u'8', u'name': u'Human development'},\n",
       " {u'code': u'11', u'name': u'Environment and natural resources management'}]"
      ]
     },
     "execution_count": 42,
     "metadata": {},
     "output_type": "execute_result"
    }
   ],
   "source": [
    "df['mjtheme_namecode'][0]"
   ]
  },
  {
   "cell_type": "markdown",
   "metadata": {},
   "source": [
    "__Answer to question 3:__\n",
    "\n",
    "In total, 122 theme names were filled."
   ]
  },
  {
   "cell_type": "code",
   "execution_count": null,
   "metadata": {
    "collapsed": true
   },
   "outputs": [],
   "source": []
  }
 ],
 "metadata": {
  "kernelspec": {
   "display_name": "Python 2",
   "language": "python",
   "name": "python2"
  },
  "language_info": {
   "codemirror_mode": {
    "name": "ipython",
    "version": 2
   },
   "file_extension": ".py",
   "mimetype": "text/x-python",
   "name": "python",
   "nbconvert_exporter": "python",
   "pygments_lexer": "ipython2",
   "version": "2.7.11"
  }
 },
 "nbformat": 4,
 "nbformat_minor": 0
}

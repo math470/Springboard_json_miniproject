{
 "cells": [
  {
   "cell_type": "markdown",
   "metadata": {},
   "source": [
    "# What is the True Normal Human Body Temperature? \n",
    "\n",
    "#### Background\n",
    "\n",
    "The mean normal body temperature was held to be 37$^{\\circ}$C or 98.6$^{\\circ}$F for more than 120 years since it was first conceptualized and reported by Carl Wunderlich in a famous 1868 book. But, is this value statistically correct?"
   ]
  },
  {
   "cell_type": "markdown",
   "metadata": {},
   "source": [
    "<h3>Exercises</h3>\n",
    "\n",
    "<p>In this exercise, you will analyze a dataset of human body temperatures and employ the concepts of hypothesis testing, confidence intervals, and statistical significance.</p>\n",
    "\n",
    "<p>Answer the following questions <b>in this notebook below and submit to your Github account</b>.</p> \n",
    "\n",
    "<ol>\n",
    "<li>  Is the distribution of body temperatures normal? \n",
    "    <ul>\n",
    "    <li> Although this is not a requirement for the Central Limit Theorem to hold (read the introduction on Wikipedia's page about the CLT carefully: https://en.wikipedia.org/wiki/Central_limit_theorem), it gives us some peace of mind that the population may also be normally distributed if we assume that this sample is representative of the population.\n",
    "    <li> Think about the way you're going to check for the normality of the distribution. Graphical methods are usually used first, but there are also other ways: https://en.wikipedia.org/wiki/Normality_test\n",
    "    </ul>\n",
    "<li>  Is the sample size large? Are the observations independent?\n",
    "    <ul>\n",
    "    <li> Remember that this is a condition for the Central Limit Theorem, and hence the statistical tests we are using, to apply.\n",
    "    </ul>\n",
    "<li>  Is the true population mean really 98.6 degrees F?\n",
    "    <ul>\n",
    "    <li> First, try a bootstrap hypothesis test.\n",
    "    <li> Now, let's try frequentist statistical testing. Would you use a one-sample or two-sample test? Why?\n",
    "    <li> In this situation, is it appropriate to use the $t$ or $z$ statistic? \n",
    "    <li> Now try using the other test. How is the result be different? Why?\n",
    "    </ul>\n",
    "<li>  Draw a small sample of size 10 from the data and repeat both frequentist tests. \n",
    "    <ul>\n",
    "    <li> Which one is the correct one to use? \n",
    "    <li> What do you notice? What does this tell you about the difference in application of the $t$ and $z$ statistic?\n",
    "    </ul>\n",
    "<li>  At what temperature should we consider someone's temperature to be \"abnormal\"?\n",
    "    <ul>\n",
    "    <li> As in the previous example, try calculating everything using the boostrap approach, as well as the frequentist approach.\n",
    "    <li> Start by computing the margin of error and confidence interval. When calculating the confidence interval, keep in mind that you should use the appropriate formula for one draw, and not N draws.\n",
    "    </ul>\n",
    "<li>  Is there a significant difference between males and females in normal temperature?\n",
    "    <ul>\n",
    "    <li> What testing approach did you use and why?\n",
    "    <li> Write a story with your conclusion in the context of the original problem.\n",
    "    </ul>\n",
    "</ol>\n",
    "\n",
    "You can include written notes in notebook cells using Markdown: \n",
    "   - In the control panel at the top, choose Cell > Cell Type > Markdown\n",
    "   - Markdown syntax: http://nestacms.com/docs/creating-content/markdown-cheat-sheet\n",
    "\n",
    "#### Resources\n",
    "\n",
    "+ Information and data sources: http://www.amstat.org/publications/jse/datasets/normtemp.txt, http://www.amstat.org/publications/jse/jse_data_archive.htm\n",
    "+ Markdown syntax: http://nestacms.com/docs/creating-content/markdown-cheat-sheet\n",
    "\n",
    "****"
   ]
  },
  {
   "cell_type": "markdown",
   "metadata": {
    "collapsed": true
   },
   "source": [
    "## Answers\n",
    "My work starts here! I will first load necessary packages and the dataset and check the loaded dataframe briefly."
   ]
  },
  {
   "cell_type": "code",
   "execution_count": 159,
   "metadata": {},
   "outputs": [],
   "source": [
    "import pandas as pd\n",
    "import matplotlib.pyplot as plt\n",
    "import numpy as np \n",
    "import pylab # for qqplot\n",
    "import scipy.stats as stats\n",
    "import statsmodels.api as sm\n",
    "import statsmodels.stats\n",
    "import seaborn as sns"
   ]
  },
  {
   "cell_type": "code",
   "execution_count": 1,
   "metadata": {},
   "outputs": [],
   "source": [
    "df = pd.read_csv('data/human_body_temperature.csv')"
   ]
  },
  {
   "cell_type": "code",
   "execution_count": 2,
   "metadata": {
    "scrolled": true
   },
   "outputs": [
    {
     "data": {
      "text/html": [
       "<div>\n",
       "<style scoped>\n",
       "    .dataframe tbody tr th:only-of-type {\n",
       "        vertical-align: middle;\n",
       "    }\n",
       "\n",
       "    .dataframe tbody tr th {\n",
       "        vertical-align: top;\n",
       "    }\n",
       "\n",
       "    .dataframe thead th {\n",
       "        text-align: right;\n",
       "    }\n",
       "</style>\n",
       "<table border=\"1\" class=\"dataframe\">\n",
       "  <thead>\n",
       "    <tr style=\"text-align: right;\">\n",
       "      <th></th>\n",
       "      <th>temperature</th>\n",
       "      <th>gender</th>\n",
       "      <th>heart_rate</th>\n",
       "    </tr>\n",
       "  </thead>\n",
       "  <tbody>\n",
       "    <tr>\n",
       "      <th>0</th>\n",
       "      <td>99.3</td>\n",
       "      <td>F</td>\n",
       "      <td>68.0</td>\n",
       "    </tr>\n",
       "    <tr>\n",
       "      <th>1</th>\n",
       "      <td>98.4</td>\n",
       "      <td>F</td>\n",
       "      <td>81.0</td>\n",
       "    </tr>\n",
       "    <tr>\n",
       "      <th>2</th>\n",
       "      <td>97.8</td>\n",
       "      <td>M</td>\n",
       "      <td>73.0</td>\n",
       "    </tr>\n",
       "    <tr>\n",
       "      <th>3</th>\n",
       "      <td>99.2</td>\n",
       "      <td>F</td>\n",
       "      <td>66.0</td>\n",
       "    </tr>\n",
       "    <tr>\n",
       "      <th>4</th>\n",
       "      <td>98.0</td>\n",
       "      <td>F</td>\n",
       "      <td>73.0</td>\n",
       "    </tr>\n",
       "  </tbody>\n",
       "</table>\n",
       "</div>"
      ],
      "text/plain": [
       "   temperature gender  heart_rate\n",
       "0         99.3      F        68.0\n",
       "1         98.4      F        81.0\n",
       "2         97.8      M        73.0\n",
       "3         99.2      F        66.0\n",
       "4         98.0      F        73.0"
      ]
     },
     "execution_count": 2,
     "metadata": {},
     "output_type": "execute_result"
    }
   ],
   "source": [
    "df.head()"
   ]
  },
  {
   "cell_type": "code",
   "execution_count": 4,
   "metadata": {},
   "outputs": [
    {
     "name": "stdout",
     "output_type": "stream",
     "text": [
      "<class 'pandas.core.frame.DataFrame'>\n",
      "RangeIndex: 130 entries, 0 to 129\n",
      "Data columns (total 3 columns):\n",
      "temperature    130 non-null float64\n",
      "gender         130 non-null object\n",
      "heart_rate     130 non-null float64\n",
      "dtypes: float64(2), object(1)\n",
      "memory usage: 3.1+ KB\n"
     ]
    }
   ],
   "source": [
    "df.info()"
   ]
  },
  {
   "cell_type": "markdown",
   "metadata": {},
   "source": [
    "### 1. Is the distribution of body temperatures normal?"
   ]
  },
  {
   "cell_type": "markdown",
   "metadata": {},
   "source": [
    "#### Using plots"
   ]
  },
  {
   "cell_type": "code",
   "execution_count": 86,
   "metadata": {
    "scrolled": true
   },
   "outputs": [
    {
     "data": {
      "image/png": "[encoded data removed]",
      "text/plain": [
       "<Figure size 432x288 with 1 Axes>"
      ]
     },
     "metadata": {},
     "output_type": "display_data"
    }
   ],
   "source": [
    "# Using histogram\n",
    "df.temperature.hist(bins=20)\n",
    "plt.show()"
   ]
  },
  {
   "cell_type": "code",
   "execution_count": 87,
   "metadata": {},
   "outputs": [
    {
     "data": {
      "image/png": "[encoded data removed]",
      "text/plain": [
       "<Figure size 432x288 with 1 Axes>"
      ]
     },
     "metadata": {},
     "output_type": "display_data"
    }
   ],
   "source": [
    "# Using Quantile-Quantile plot\n",
    "stats.probplot(df.temperature, dist=\"norm\", plot=pylab)\n",
    "pylab.show()"
   ]
  },
  {
   "cell_type": "markdown",
   "metadata": {},
   "source": [
    "Both histogram and Quantile-Quantile plot (QQplot) show that the sample body temperatures are normally distributed. However, the QQplot shows there is one possible outlier with a high temperature over 100. "
   ]
  },
  {
   "cell_type": "markdown",
   "metadata": {},
   "source": [
    "#### Using frequentist tests"
   ]
  },
  {
   "cell_type": "code",
   "execution_count": 169,
   "metadata": {},
   "outputs": [],
   "source": [
    "def print_result(outputs, title, label_1='test statistic', \n",
    "                 label_2='p-value', digits = 4):\n",
    "    print(title)\n",
    "    print(label_1, \": \", round(outputs[0],digits))\n",
    "    print(label_2, \": \", round(outputs[1],digits))"
   ]
  },
  {
   "cell_type": "code",
   "execution_count": 170,
   "metadata": {},
   "outputs": [
    {
     "name": "stdout",
     "output_type": "stream",
     "text": [
      "Lilliefors test\n",
      "test statistic :  0.0647\n",
      "p-value :  0.1869\n"
     ]
    }
   ],
   "source": [
    "# Using  Lilliefors test\n",
    "output_lil = sm.stats.lilliefors(df.temperature)\n",
    "print_result(output_lil,\"Lilliefors test\")"
   ]
  },
  {
   "cell_type": "code",
   "execution_count": 171,
   "metadata": {},
   "outputs": [
    {
     "name": "stdout",
     "output_type": "stream",
     "text": [
      "Anderson-Darling test\n",
      "test statistic :  0.5201\n",
      "p-value :  0.1829\n"
     ]
    }
   ],
   "source": [
    "# Using Anderson-Darling test\n",
    "output_AD = sm.stats.normal_ad(df.temperature)\n",
    "print_result(output_AD,\"Anderson-Darling test\")"
   ]
  },
  {
   "cell_type": "code",
   "execution_count": 172,
   "metadata": {},
   "outputs": [
    {
     "name": "stdout",
     "output_type": "stream",
     "text": [
      "Shapiro-Wilk test\n",
      "test statistic :  0.9866\n",
      "p-value :  0.2332\n"
     ]
    }
   ],
   "source": [
    "# Shapiro-Wilk test\n",
    "output_SW = stats.shapiro(df.temperature)\n",
    "print_result(output_SW,\"Shapiro-Wilk test\")"
   ]
  },
  {
   "cell_type": "markdown",
   "metadata": {},
   "source": [
    "I also tried three frequentist tests for normality above. All of the tests gave small p-values (over .05), so we fail to reject the null hypothesis that the data is normally distributed. The Kolmogorov–Smirnov test is another popular normality test, but I did not use it because the population mean and standard deviation are unknown.\n",
    "\n",
    "Both graphical methods and normality tests show the body temperature is normally distributed.\n",
    "\n",
    "reference: https://stackoverflow.com/questions/7903977/implementing-a-kolmogorov-smirnov-test-in-python-scipy"
   ]
  },
  {
   "cell_type": "markdown",
   "metadata": {},
   "source": [
    "### 2. Is the sample size large? Are the observations independent?"
   ]
  },
  {
   "cell_type": "markdown",
   "metadata": {},
   "source": [
    "#### Sample size"
   ]
  },
  {
   "cell_type": "code",
   "execution_count": 53,
   "metadata": {
    "scrolled": true
   },
   "outputs": [
    {
     "name": "stdout",
     "output_type": "stream",
     "text": [
      "<class 'pandas.core.frame.DataFrame'>\n",
      "RangeIndex: 130 entries, 0 to 129\n",
      "Data columns (total 3 columns):\n",
      "temperature    130 non-null float64\n",
      "gender         130 non-null object\n",
      "heart_rate     130 non-null float64\n",
      "dtypes: float64(2), object(1)\n",
      "memory usage: 3.1+ KB\n"
     ]
    }
   ],
   "source": [
    "df.info()"
   ]
  },
  {
   "cell_type": "code",
   "execution_count": 51,
   "metadata": {},
   "outputs": [
    {
     "data": {
      "image/png": "[encoded data removed]",
      "text/plain": [
       "<Figure size 432x288 with 1 Axes>"
      ]
     },
     "metadata": {},
     "output_type": "display_data"
    }
   ],
   "source": [
    "df.temperature.hist(bins=20)\n",
    "plt.show()"
   ]
  },
  {
   "cell_type": "markdown",
   "metadata": {},
   "source": [
    "The Central Limit Theorem (CLT) says the sample mean is normally distributed if the sample size is big enough. If the distribution of a sample is symmetric and unimodal, a sample size over 30 is regarded as big enough to use CLT. Our sample is large enough since its size is 130 and the above histogram of body temperature shows the distribution looks symmetric and unimodal. "
   ]
  },
  {
   "cell_type": "markdown",
   "metadata": {},
   "source": [
    "#### Independence"
   ]
  },
  {
   "cell_type": "markdown",
   "metadata": {},
   "source": [
    "Since the sample size is small enough which is much less than 10% of population size, we can assume the observations are independent."
   ]
  },
  {
   "cell_type": "markdown",
   "metadata": {},
   "source": [
    "### 3. Is the true population mean really 98.6 degrees F?"
   ]
  },
  {
   "cell_type": "markdown",
   "metadata": {},
   "source": [
    "#### Bootstrap hypothesis test"
   ]
  },
  {
   "cell_type": "code",
   "execution_count": 73,
   "metadata": {},
   "outputs": [
    {
     "name": "stdout",
     "output_type": "stream",
     "text": [
      "Sample mean: 98.24923076923075\n"
     ]
    }
   ],
   "source": [
    "# Observed mean\n",
    "sample_mean = np.mean(df.temperature)\n",
    "print('Sample mean:', sample_mean)"
   ]
  },
  {
   "cell_type": "code",
   "execution_count": 100,
   "metadata": {
    "scrolled": true
   },
   "outputs": [
    {
     "name": "stdout",
     "output_type": "stream",
     "text": [
      "p-value:  0.0\n"
     ]
    }
   ],
   "source": [
    "# Make an array of translated temperatures with mean 98.6\n",
    "translated_temp = df.temperature - sample_mean + 98.6\n",
    "\n",
    "# Take bootstrap replicates of translated temperature\n",
    "def draw_bs_replicates(data, func, size):\n",
    "    return np.array([func(np.random.choice(data, len(data))) for _ in range(size)])\n",
    "\n",
    "bs_replicates = draw_bs_replicates(translated_temp, np.mean, 10000)\n",
    "\n",
    "# Compute fraction of replicates less than the observed mean\n",
    "p = np.sum(bs_replicates <= sample_mean) / 10000\n",
    "\n",
    "# Print p-value\n",
    "print('p-value: ', p)"
   ]
  },
  {
   "cell_type": "markdown",
   "metadata": {},
   "source": [
    "The bootstrap hypothesis test gave p-value 0.0, which is less than 0.5. Thus, we __reject the null__ hypothesis that the population mean is 98.6. The population mean is significantly less than 98.6."
   ]
  },
  {
   "cell_type": "markdown",
   "metadata": {},
   "source": [
    "#### Frequentist hypothesis test"
   ]
  },
  {
   "cell_type": "markdown",
   "metadata": {},
   "source": [
    "I will use a __one-sample test__ because I only have one sample which will be compared to the single value 98.6 in the null hypothesis.\n",
    "\n",
    "I will use__ _t_ statistic __since the population standard deviation is unknown. However, using _z_ statistic would be also fine because _t_ statistic is similar to _z_ statistic if a sample size is big enough. I will test both statistics to check this."
   ]
  },
  {
   "cell_type": "markdown",
   "metadata": {},
   "source": [
    "#### t-test"
   ]
  },
  {
   "cell_type": "code",
   "execution_count": 177,
   "metadata": {},
   "outputs": [
    {
     "name": "stdout",
     "output_type": "stream",
     "text": [
      "t-test\n",
      "test statistic :  -5.4548232924\n",
      "p-value :  2.411e-07\n"
     ]
    }
   ],
   "source": [
    "output_t = stats.ttest_1samp(df.temperature, 98.6)\n",
    "print_result(output_t,\"t-test\", digits=10)"
   ]
  },
  {
   "cell_type": "markdown",
   "metadata": {},
   "source": [
    "The above shows t statistic (-5.4548) and p-value close to zero from the two-sided one sample t-test. Since p-value is less than 0.05, we __reject the null__ hypothesis that the population mean is 98.6. The sample mean is significantly different from 98.6."
   ]
  },
  {
   "cell_type": "markdown",
   "metadata": {},
   "source": [
    "#### z-test"
   ]
  },
  {
   "cell_type": "code",
   "execution_count": 173,
   "metadata": {
    "scrolled": true
   },
   "outputs": [
    {
     "name": "stdout",
     "output_type": "stream",
     "text": [
      "z-test\n",
      "test statistic :  -5.4548232924\n",
      "p-value :  4.9e-08\n"
     ]
    }
   ],
   "source": [
    "output_z = statsmodels.stats.weightstats.ztest(x1=df.temperature, x2=None, value=98.6, alternative='two-sided') \n",
    "print_result(output_z,\"z-test\", digits=10)"
   ]
  },
  {
   "cell_type": "markdown",
   "metadata": {},
   "source": [
    "The above are the results from the two-sided one sample z-test. The z statistic is -5.4548 and p-vavlue is close to zero. Since p-value is less than 0.05, we __reject the null__ hypothesis that the population mean is 98.6. The sample mean temperature is significantly different from 98.6.\n",
    "\n",
    "As expected earlier, z statistic and t statistic give similar results since the sample size is big enough. Their statistics are the same up to 16 digits and p-values are similiarly close to zero. The p-value for the t-test is slightly bigger than that for the z-test since the t statistic has fatter tails."
   ]
  },
  {
   "cell_type": "markdown",
   "metadata": {},
   "source": [
    "### 4. Draw a small sample of size 10 from the data and repeat both frequentist tests."
   ]
  },
  {
   "cell_type": "code",
   "execution_count": 112,
   "metadata": {},
   "outputs": [
    {
     "data": {
      "text/plain": [
       "array([98.3, 97.6, 98.3, 97.9, 98.8, 97.6, 98.2, 98.4, 99.5, 97.4])"
      ]
     },
     "execution_count": 112,
     "metadata": {},
     "output_type": "execute_result"
    }
   ],
   "source": [
    "# Draw a small sample of size 10\n",
    "temperature_10 = np.random.choice(df.temperature, 10)\n",
    "temperature_10"
   ]
  },
  {
   "cell_type": "code",
   "execution_count": 183,
   "metadata": {},
   "outputs": [
    {
     "name": "stdout",
     "output_type": "stream",
     "text": [
      "t-test\n",
      "test statistic :  -2.0112045694620013\n",
      "p-value :  0.0751817799913151\n"
     ]
    }
   ],
   "source": [
    "# t-test\n",
    "output_t= stats.ttest_1samp(temperature_10, 98.6)\n",
    "print_result(output_t,\"t-test\", digits=16)"
   ]
  },
  {
   "cell_type": "code",
   "execution_count": 182,
   "metadata": {},
   "outputs": [
    {
     "name": "stdout",
     "output_type": "stream",
     "text": [
      "z-test\n",
      "test statistic :  -2.0112045694620018\n",
      "p-value :  0.044303853331963\n"
     ]
    }
   ],
   "source": [
    "# z-test\n",
    "output_z = statsmodels.stats.weightstats.ztest(x1=temperature_10, x2=None, value=98.6, alternative='two-sided')\n",
    "print_result(output_z,\"z-test\", digits=16)"
   ]
  },
  {
   "cell_type": "markdown",
   "metadata": {},
   "source": [
    "Their test statistics are still very similar (same up the 15th decimal point), but their p-values are very different!! The t-test has p-value .0752 (over .05) while the z-test has p-value .0443 (less than .05). __Therefore, we fail to reject the null hypothesis using the t-test, but we can reject the null using the z-test__.\n",
    "\n",
    "In this case, __t-test is more appropriate__ since the population standard deviation is unknown and the sample size so small. The t-distribution with a small sample size (i.e., low degree of freedom) is very different from the normal distribution due to fatter tails. Therefore, the z-test cannot be used in this case. This example shows that only t-test is appropriate for a small sample while both t-test and z-test are fine for a big enough sample."
   ]
  },
  {
   "cell_type": "markdown",
   "metadata": {},
   "source": [
    "### 5. At what temperature should we consider someone's temperature to be \"abnormal\"?"
   ]
  },
  {
   "cell_type": "code",
   "execution_count": 265,
   "metadata": {
    "scrolled": true
   },
   "outputs": [
    {
     "name": "stdout",
     "output_type": "stream",
     "text": [
      "95% Bootstrap conf. interval:  [96.7 99.5]\n"
     ]
    }
   ],
   "source": [
    "bs_replicates = np.random.choice(df.temperature, 1000000)\n",
    "conf_int = np.percentile(bs_replicates, [2.5, 97.5])\n",
    "print(\"95% Bootstrap conf. interval: \", conf_int)"
   ]
  },
  {
   "cell_type": "code",
   "execution_count": 261,
   "metadata": {},
   "outputs": [
    {
     "name": "stdout",
     "output_type": "stream",
     "text": [
      "95% z conf. interval: [96.8178, 99.6807]\n"
     ]
    }
   ],
   "source": [
    "m = np.mean(df.temperature)\n",
    "alpha =0.05  # 1-confidence level\n",
    "critical_value = stats.norm.ppf(1-alpha/2)  # z* = 1.96\n",
    "MOE = critical_value*np.std(df.temperature) # z* times std (not divided by sqrt(N)!!)\n",
    "conf_int = [round(m - MOE,4), round(m + MOE,4)]\n",
    "print(\"95% z conf. interval:\", conf_int)"
   ]
  },
  {
   "cell_type": "markdown",
   "metadata": {},
   "source": [
    "We found the distribution of the sample temperatures are approximately normal in the first question, so I used the critical value for z statistic to calculate the margin of error. The Boostrap and z-statistic confidence intervals with 95% confidence level are similar. We should consider a temperature as \"abnormal\" if it is not included in these intervals."
   ]
  },
  {
   "cell_type": "markdown",
   "metadata": {},
   "source": [
    "### 6. Is there a significant difference between males and females in normal temperature?"
   ]
  },
  {
   "cell_type": "markdown",
   "metadata": {},
   "source": [
    "I will first get the subset of data with normal temperatures using 95% boostrap confidence interval found in the above question."
   ]
  },
  {
   "cell_type": "code",
   "execution_count": 278,
   "metadata": {
    "scrolled": true
   },
   "outputs": [
    {
     "data": {
      "text/html": [
       "<div>\n",
       "<style scoped>\n",
       "    .dataframe tbody tr th:only-of-type {\n",
       "        vertical-align: middle;\n",
       "    }\n",
       "\n",
       "    .dataframe tbody tr th {\n",
       "        vertical-align: top;\n",
       "    }\n",
       "\n",
       "    .dataframe thead th {\n",
       "        text-align: right;\n",
       "    }\n",
       "</style>\n",
       "<table border=\"1\" class=\"dataframe\">\n",
       "  <thead>\n",
       "    <tr style=\"text-align: right;\">\n",
       "      <th></th>\n",
       "      <th>temperature</th>\n",
       "      <th>gender</th>\n",
       "      <th>heart_rate</th>\n",
       "    </tr>\n",
       "  </thead>\n",
       "  <tbody>\n",
       "    <tr>\n",
       "      <th>39</th>\n",
       "      <td>96.4</td>\n",
       "      <td>F</td>\n",
       "      <td>69.0</td>\n",
       "    </tr>\n",
       "    <tr>\n",
       "      <th>91</th>\n",
       "      <td>100.0</td>\n",
       "      <td>F</td>\n",
       "      <td>78.0</td>\n",
       "    </tr>\n",
       "    <tr>\n",
       "      <th>96</th>\n",
       "      <td>99.9</td>\n",
       "      <td>F</td>\n",
       "      <td>79.0</td>\n",
       "    </tr>\n",
       "    <tr>\n",
       "      <th>116</th>\n",
       "      <td>100.8</td>\n",
       "      <td>F</td>\n",
       "      <td>77.0</td>\n",
       "    </tr>\n",
       "    <tr>\n",
       "      <th>125</th>\n",
       "      <td>96.3</td>\n",
       "      <td>M</td>\n",
       "      <td>70.0</td>\n",
       "    </tr>\n",
       "  </tbody>\n",
       "</table>\n",
       "</div>"
      ],
      "text/plain": [
       "     temperature gender  heart_rate\n",
       "39          96.4      F        69.0\n",
       "91         100.0      F        78.0\n",
       "96          99.9      F        79.0\n",
       "116        100.8      F        77.0\n",
       "125         96.3      M        70.0"
      ]
     },
     "execution_count": 278,
     "metadata": {},
     "output_type": "execute_result"
    }
   ],
   "source": [
    "df[(df.temperature < 96.7) | (df.temperature > 99.5)]"
   ]
  },
  {
   "cell_type": "markdown",
   "metadata": {},
   "source": [
    "The above 5 observations will be removed since they have abnormal body temperatures."
   ]
  },
  {
   "cell_type": "code",
   "execution_count": 279,
   "metadata": {},
   "outputs": [
    {
     "data": {
      "text/plain": [
       "125"
      ]
     },
     "execution_count": 279,
     "metadata": {},
     "output_type": "execute_result"
    }
   ],
   "source": [
    "df_normal = df[(df.temperature >= 96.7) & (df.temperature <= 99.5)]\n",
    "len(df_normal)"
   ]
  },
  {
   "cell_type": "code",
   "execution_count": 301,
   "metadata": {},
   "outputs": [
    {
     "data": {
      "text/plain": [
       "M    64\n",
       "F    61\n",
       "Name: gender, dtype: int64"
      ]
     },
     "execution_count": 301,
     "metadata": {},
     "output_type": "execute_result"
    }
   ],
   "source": [
    "df_normal.gender.value_counts()"
   ]
  },
  {
   "cell_type": "code",
   "execution_count": 305,
   "metadata": {},
   "outputs": [
    {
     "data": {
      "image/png": "[encoded data removed]",
      "text/plain": [
       "<Figure size 432x288 with 1 Axes>"
      ]
     },
     "metadata": {},
     "output_type": "display_data"
    }
   ],
   "source": [
    "sns.boxplot(x='gender', y='temperature', data = df_normal, color='yellowgreen')\n",
    "plt.title('Abnormal temperatures excluded')\n",
    "plt.show()"
   ]
  },
  {
   "cell_type": "code",
   "execution_count": 283,
   "metadata": {},
   "outputs": [],
   "source": [
    "temperature_female = df_normal.temperature[df_normal.gender=='F']\n",
    "temperature_male = df_normal.temperature[df_normal.gender=='M']"
   ]
  },
  {
   "cell_type": "code",
   "execution_count": 284,
   "metadata": {
    "scrolled": false
   },
   "outputs": [
    {
     "data": {
      "image/png": "[encoded data removed]",
      "text/plain": [
       "<Figure size 432x288 with 1 Axes>"
      ]
     },
     "metadata": {},
     "output_type": "display_data"
    }
   ],
   "source": [
    "plt.hist(temperature_female, alpha =.5, density=True, color='pink')\n",
    "plt.hist(temperature_male, alpha =.5, density=True, color='skyblue')\n",
    "plt.legend(('Female', 'Male'))\n",
    "plt.show()"
   ]
  },
  {
   "cell_type": "markdown",
   "metadata": {},
   "source": [
    "The boxplots and histograms suggest that a body temperature of females tends to be higher than that of males. I will find out whether the difference between men and women is significant using hypothesis tests."
   ]
  },
  {
   "cell_type": "code",
   "execution_count": 293,
   "metadata": {},
   "outputs": [
    {
     "name": "stdout",
     "output_type": "stream",
     "text": [
      "t-test\n",
      "test statistic :  1.8089\n",
      "p-value :  0.0729\n"
     ]
    }
   ],
   "source": [
    "# t-test\n",
    "output_t = stats.ttest_ind(temperature_female, temperature_male)\n",
    "print_result(output_t,\"t-test\", digits=4)"
   ]
  },
  {
   "cell_type": "code",
   "execution_count": 294,
   "metadata": {},
   "outputs": [
    {
     "name": "stdout",
     "output_type": "stream",
     "text": [
      "z-test\n",
      "test statistic :  1.8089\n",
      "p-value :  0.0705\n"
     ]
    }
   ],
   "source": [
    "# z-test\n",
    "output_z = statsmodels.stats.weightstats.ztest(temperature_female, temperature_male) \n",
    "print_result(output_z,\"z-test\", digits=4)"
   ]
  },
  {
   "cell_type": "markdown",
   "metadata": {},
   "source": [
    "I used the two-sided two-sample independent t-test to compare the female and male groups since the two samples are not paired (independent) and the population standard deviations are unknown. I additionally tried the corresponding z-test and it gave a similar result since the sample size is big enough. The p-value is bigger than 0.05, so we fail to rejec the null hypothesis that the female and male groups have the same population mean temperature. In other words, body temperatures of men and women are not significantly different. "
   ]
  },
  {
   "cell_type": "markdown",
   "metadata": {},
   "source": [
    "#### What if the abnormal temperatures were not removed?"
   ]
  },
  {
   "cell_type": "code",
   "execution_count": 306,
   "metadata": {
    "scrolled": true
   },
   "outputs": [
    {
     "data": {
      "text/html": [
       "<div>\n",
       "<style scoped>\n",
       "    .dataframe tbody tr th:only-of-type {\n",
       "        vertical-align: middle;\n",
       "    }\n",
       "\n",
       "    .dataframe tbody tr th {\n",
       "        vertical-align: top;\n",
       "    }\n",
       "\n",
       "    .dataframe thead th {\n",
       "        text-align: right;\n",
       "    }\n",
       "</style>\n",
       "<table border=\"1\" class=\"dataframe\">\n",
       "  <thead>\n",
       "    <tr style=\"text-align: right;\">\n",
       "      <th></th>\n",
       "      <th>temperature</th>\n",
       "      <th>gender</th>\n",
       "      <th>heart_rate</th>\n",
       "    </tr>\n",
       "  </thead>\n",
       "  <tbody>\n",
       "    <tr>\n",
       "      <th>39</th>\n",
       "      <td>96.4</td>\n",
       "      <td>F</td>\n",
       "      <td>69.0</td>\n",
       "    </tr>\n",
       "    <tr>\n",
       "      <th>91</th>\n",
       "      <td>100.0</td>\n",
       "      <td>F</td>\n",
       "      <td>78.0</td>\n",
       "    </tr>\n",
       "    <tr>\n",
       "      <th>96</th>\n",
       "      <td>99.9</td>\n",
       "      <td>F</td>\n",
       "      <td>79.0</td>\n",
       "    </tr>\n",
       "    <tr>\n",
       "      <th>116</th>\n",
       "      <td>100.8</td>\n",
       "      <td>F</td>\n",
       "      <td>77.0</td>\n",
       "    </tr>\n",
       "    <tr>\n",
       "      <th>125</th>\n",
       "      <td>96.3</td>\n",
       "      <td>M</td>\n",
       "      <td>70.0</td>\n",
       "    </tr>\n",
       "  </tbody>\n",
       "</table>\n",
       "</div>"
      ],
      "text/plain": [
       "     temperature gender  heart_rate\n",
       "39          96.4      F        69.0\n",
       "91         100.0      F        78.0\n",
       "96          99.9      F        79.0\n",
       "116        100.8      F        77.0\n",
       "125         96.3      M        70.0"
      ]
     },
     "execution_count": 306,
     "metadata": {},
     "output_type": "execute_result"
    }
   ],
   "source": [
    "# Observations with abnormal body temperatures\n",
    "df[(df.temperature < 96.7) | (df.temperature > 99.5)]"
   ]
  },
  {
   "cell_type": "markdown",
   "metadata": {},
   "source": [
    "The above removed temperatures made me wonder how the result will be different if I include these abnormal temeperatures? Since all the high abnormal temperatures are from women, including these can lead to significant difference between men and women. I will found out here."
   ]
  },
  {
   "cell_type": "code",
   "execution_count": 302,
   "metadata": {},
   "outputs": [
    {
     "name": "stdout",
     "output_type": "stream",
     "text": [
      "t-test\n",
      "test statistic :  2.2854\n",
      "p-value :  0.0239\n"
     ]
    }
   ],
   "source": [
    "# t-test \n",
    "output_t = stats.ttest_ind(df.temperature[df.gender=='F'],df.temperature[df.gender=='M'])\n",
    "print_result(output_t,\"t-test\", digits=4)"
   ]
  },
  {
   "cell_type": "markdown",
   "metadata": {},
   "source": [
    "The p-value is smaller than 0.05 if the outliers are included!! If we do not exclude the observations with abnormal temperatures, we can conclude that men and women have significantly different body temperatures. This shows how a few outliers can affect the test result. Now I wonder, did the study by Carl Wunderlich exclude participants who had fevers?"
   ]
  },
  {
   "cell_type": "code",
   "execution_count": null,
   "metadata": {},
   "outputs": [],
   "source": []
  },
  {
   "cell_type": "markdown",
   "metadata": {},
   "source": [
    "### Appendix (no need to be graded)\n",
    "#### Alternative answer using confidence intervals for question 3"
   ]
  },
  {
   "cell_type": "code",
   "execution_count": 235,
   "metadata": {},
   "outputs": [
    {
     "name": "stdout",
     "output_type": "stream",
     "text": [
      "95% Bootstrap conf. interval of the mean:  [98.12076923 98.37384615]\n"
     ]
    }
   ],
   "source": [
    "# Bootstrap confidence interval\n",
    "bs_replicates = draw_bs_replicates(df.temperature, np.mean, 10000)\n",
    "conf_int = np.percentile(bs_replicates, [2.5, 97.5])\n",
    "print(\"95% Bootstrap conf. interval of the mean: \", conf_int)"
   ]
  },
  {
   "cell_type": "code",
   "execution_count": 242,
   "metadata": {},
   "outputs": [],
   "source": [
    "def conf_interval(data, alpha, statistic, digits):\n",
    "    '''\n",
    "    print sample mean, critical value, margin of error, \n",
    "    and confidence interval of the mean for a given statistic (z or t), \n",
    "    alpha (= 1-confidence level) and\n",
    "    digits (number of decimal points to be printed)\n",
    "    '''\n",
    "    m = np.mean(data)\n",
    "    print(\"sample mean:\", round(m, digits))\n",
    "    \n",
    "    if statistic == 't': # t-distribution\n",
    "        critical_value = stats.t.ppf(1-alpha/2, len(data)-1) # critical t value\n",
    "    elif statistic =='z': # z-distribution\n",
    "        critical_value = stats.norm.ppf(1-alpha/2)\n",
    "    else:\n",
    "        print(\"Invalid distribution!!!\")\n",
    "    print(statistic, \"critical value:\", round(critical_value,digits))\n",
    "    \n",
    "    MOE = critical_value*np.std(data)/np.sqrt(len(data))\n",
    "    print(\"Margin of Error:\", round(MOE,digits))\n",
    "\n",
    "    conf_int = [round(m - MOE,digits), round(m + MOE,digits)]\n",
    "    print(int((1-alpha)*100), \"%\", statistic, \"conf. interval of the mean:\", conf_int)"
   ]
  },
  {
   "cell_type": "code",
   "execution_count": 243,
   "metadata": {},
   "outputs": [
    {
     "name": "stdout",
     "output_type": "stream",
     "text": [
      "sample mean: 98.2492\n",
      "t critical value: 1.9785\n",
      "Margin of Error: 0.1267\n",
      "95 % t conf. interval of the mean: [98.1225, 98.376]\n"
     ]
    }
   ],
   "source": [
    "conf_interval(df.temperature, 0.05,'t', digits=4)"
   ]
  },
  {
   "cell_type": "code",
   "execution_count": 244,
   "metadata": {},
   "outputs": [
    {
     "name": "stdout",
     "output_type": "stream",
     "text": [
      "sample mean: 98.2492\n",
      "z critical value: 1.96\n",
      "Margin of Error: 0.1255\n",
      "95 % z conf. interval of the mean: [98.1237, 98.3748]\n"
     ]
    }
   ],
   "source": [
    "conf_interval(df.temperature, 0.05,'z', digits=4)"
   ]
  },
  {
   "cell_type": "markdown",
   "metadata": {},
   "source": [
    "The 95% confidence intervals of the mean for bootstrap, t distribution and z distribution are similar. They are the same up to second decimal point!! None of these intervals contains 98.6, so we reject the null and conclude that the population mean is significantly different from 98.6."
   ]
  }
 ],
 "metadata": {
  "kernelspec": {
   "display_name": "Python 3",
   "language": "python",
   "name": "python3"
  },
  "language_info": {
   "codemirror_mode": {
    "name": "ipython",
    "version": 3
   },
   "file_extension": ".py",
   "mimetype": "text/x-python",
   "name": "python",
   "nbconvert_exporter": "python",
   "pygments_lexer": "ipython3",
   "version": "3.6.4"
  }
 },
 "nbformat": 4,
 "nbformat_minor": 1
}

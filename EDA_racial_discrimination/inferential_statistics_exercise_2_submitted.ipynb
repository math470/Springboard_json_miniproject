{
 "cells": [
  {
   "cell_type": "markdown",
   "metadata": {},
   "source": [
    "# Examining Racial Discrimination in the US Job Market\n",
    "\n",
    "### Background\n",
    "Racial discrimination continues to be pervasive in cultures throughout the world. Researchers examined the level of racial discrimination in the United States labor market by randomly assigning identical résumés to black-sounding or white-sounding names and observing the impact on requests for interviews from employers.\n",
    "\n",
    "### Data\n",
    "In the dataset provided, each row represents a resume. The 'race' column has two values, 'b' and 'w', indicating black-sounding and white-sounding. The column 'call' has two values, 1 and 0, indicating whether the resume received a call from employers or not.\n",
    "\n",
    "Note that the 'b' and 'w' values in race are assigned randomly to the resumes when presented to the employer."
   ]
  },
  {
   "cell_type": "markdown",
   "metadata": {},
   "source": [
    "### Exercises\n",
    "You will perform a statistical analysis to establish whether race has a significant impact on the rate of callbacks for resumes.\n",
    "\n",
    "Answer the following questions **in this notebook below and submit to your Github account**. \n",
    "\n",
    "   1. What test is appropriate for this problem? Does CLT apply?\n",
    "   2. What are the null and alternate hypotheses?\n",
    "   3. Compute margin of error, confidence interval, and p-value. Try using both the bootstrapping and the frequentist statistical approaches.\n",
    "   4. Write a story describing the statistical significance in the context or the original problem.\n",
    "   5. Does your analysis mean that race/name is the most important factor in callback success? Why or why not? If not, how would you amend your analysis?\n",
    "\n",
    "You can include written notes in notebook cells using Markdown: \n",
    "   - In the control panel at the top, choose Cell > Cell Type > Markdown\n",
    "   - Markdown syntax: http://nestacms.com/docs/creating-content/markdown-cheat-sheet\n",
    "\n",
    "#### Resources\n",
    "+ Experiment information and data source: http://www.povertyactionlab.org/evaluation/discrimination-job-market-united-states\n",
    "+ Scipy statistical methods: http://docs.scipy.org/doc/scipy/reference/stats.html \n",
    "+ Markdown syntax: http://nestacms.com/docs/creating-content/markdown-cheat-sheet\n",
    "+ Formulas for the Bernoulli distribution: https://en.wikipedia.org/wiki/Bernoulli_distribution"
   ]
  },
  {
   "cell_type": "code",
   "execution_count": 104,
   "metadata": {},
   "outputs": [],
   "source": [
    "import pandas as pd\n",
    "import numpy as np\n",
    "import matplotlib.pyplot as plt\n",
    "from scipy import stats\n",
    "from statsmodels.stats.proportion import proportions_ztest"
   ]
  },
  {
   "cell_type": "code",
   "execution_count": 2,
   "metadata": {},
   "outputs": [],
   "source": [
    "data = pd.io.stata.read_stata('data/us_job_market_discrimination.dta')"
   ]
  },
  {
   "cell_type": "code",
   "execution_count": 4,
   "metadata": {
    "scrolled": false
   },
   "outputs": [
    {
     "data": {
      "text/html": [
       "<div>\n",
       "<style scoped>\n",
       "    .dataframe tbody tr th:only-of-type {\n",
       "        vertical-align: middle;\n",
       "    }\n",
       "\n",
       "    .dataframe tbody tr th {\n",
       "        vertical-align: top;\n",
       "    }\n",
       "\n",
       "    .dataframe thead th {\n",
       "        text-align: right;\n",
       "    }\n",
       "</style>\n",
       "<table border=\"1\" class=\"dataframe\">\n",
       "  <thead>\n",
       "    <tr style=\"text-align: right;\">\n",
       "      <th></th>\n",
       "      <th>id</th>\n",
       "      <th>ad</th>\n",
       "      <th>education</th>\n",
       "      <th>ofjobs</th>\n",
       "      <th>yearsexp</th>\n",
       "      <th>honors</th>\n",
       "      <th>volunteer</th>\n",
       "      <th>military</th>\n",
       "      <th>empholes</th>\n",
       "      <th>occupspecific</th>\n",
       "      <th>...</th>\n",
       "      <th>compreq</th>\n",
       "      <th>orgreq</th>\n",
       "      <th>manuf</th>\n",
       "      <th>transcom</th>\n",
       "      <th>bankreal</th>\n",
       "      <th>trade</th>\n",
       "      <th>busservice</th>\n",
       "      <th>othservice</th>\n",
       "      <th>missind</th>\n",
       "      <th>ownership</th>\n",
       "    </tr>\n",
       "  </thead>\n",
       "  <tbody>\n",
       "    <tr>\n",
       "      <th>0</th>\n",
       "      <td>b</td>\n",
       "      <td>1</td>\n",
       "      <td>4</td>\n",
       "      <td>2</td>\n",
       "      <td>6</td>\n",
       "      <td>0</td>\n",
       "      <td>0</td>\n",
       "      <td>0</td>\n",
       "      <td>1</td>\n",
       "      <td>17</td>\n",
       "      <td>...</td>\n",
       "      <td>1.0</td>\n",
       "      <td>0.0</td>\n",
       "      <td>1.0</td>\n",
       "      <td>0.0</td>\n",
       "      <td>0.0</td>\n",
       "      <td>0.0</td>\n",
       "      <td>0.0</td>\n",
       "      <td>0.0</td>\n",
       "      <td>0.0</td>\n",
       "      <td></td>\n",
       "    </tr>\n",
       "    <tr>\n",
       "      <th>1</th>\n",
       "      <td>b</td>\n",
       "      <td>1</td>\n",
       "      <td>3</td>\n",
       "      <td>3</td>\n",
       "      <td>6</td>\n",
       "      <td>0</td>\n",
       "      <td>1</td>\n",
       "      <td>1</td>\n",
       "      <td>0</td>\n",
       "      <td>316</td>\n",
       "      <td>...</td>\n",
       "      <td>1.0</td>\n",
       "      <td>0.0</td>\n",
       "      <td>1.0</td>\n",
       "      <td>0.0</td>\n",
       "      <td>0.0</td>\n",
       "      <td>0.0</td>\n",
       "      <td>0.0</td>\n",
       "      <td>0.0</td>\n",
       "      <td>0.0</td>\n",
       "      <td></td>\n",
       "    </tr>\n",
       "    <tr>\n",
       "      <th>2</th>\n",
       "      <td>b</td>\n",
       "      <td>1</td>\n",
       "      <td>4</td>\n",
       "      <td>1</td>\n",
       "      <td>6</td>\n",
       "      <td>0</td>\n",
       "      <td>0</td>\n",
       "      <td>0</td>\n",
       "      <td>0</td>\n",
       "      <td>19</td>\n",
       "      <td>...</td>\n",
       "      <td>1.0</td>\n",
       "      <td>0.0</td>\n",
       "      <td>1.0</td>\n",
       "      <td>0.0</td>\n",
       "      <td>0.0</td>\n",
       "      <td>0.0</td>\n",
       "      <td>0.0</td>\n",
       "      <td>0.0</td>\n",
       "      <td>0.0</td>\n",
       "      <td></td>\n",
       "    </tr>\n",
       "    <tr>\n",
       "      <th>3</th>\n",
       "      <td>b</td>\n",
       "      <td>1</td>\n",
       "      <td>3</td>\n",
       "      <td>4</td>\n",
       "      <td>6</td>\n",
       "      <td>0</td>\n",
       "      <td>1</td>\n",
       "      <td>0</td>\n",
       "      <td>1</td>\n",
       "      <td>313</td>\n",
       "      <td>...</td>\n",
       "      <td>1.0</td>\n",
       "      <td>0.0</td>\n",
       "      <td>1.0</td>\n",
       "      <td>0.0</td>\n",
       "      <td>0.0</td>\n",
       "      <td>0.0</td>\n",
       "      <td>0.0</td>\n",
       "      <td>0.0</td>\n",
       "      <td>0.0</td>\n",
       "      <td></td>\n",
       "    </tr>\n",
       "    <tr>\n",
       "      <th>4</th>\n",
       "      <td>b</td>\n",
       "      <td>1</td>\n",
       "      <td>3</td>\n",
       "      <td>3</td>\n",
       "      <td>22</td>\n",
       "      <td>0</td>\n",
       "      <td>0</td>\n",
       "      <td>0</td>\n",
       "      <td>0</td>\n",
       "      <td>313</td>\n",
       "      <td>...</td>\n",
       "      <td>1.0</td>\n",
       "      <td>1.0</td>\n",
       "      <td>0.0</td>\n",
       "      <td>0.0</td>\n",
       "      <td>0.0</td>\n",
       "      <td>0.0</td>\n",
       "      <td>0.0</td>\n",
       "      <td>1.0</td>\n",
       "      <td>0.0</td>\n",
       "      <td>Nonprofit</td>\n",
       "    </tr>\n",
       "  </tbody>\n",
       "</table>\n",
       "<p>5 rows × 65 columns</p>\n",
       "</div>"
      ],
      "text/plain": [
       "  id ad  education  ofjobs  yearsexp  honors  volunteer  military  empholes  \\\n",
       "0  b  1          4       2         6       0          0         0         1   \n",
       "1  b  1          3       3         6       0          1         1         0   \n",
       "2  b  1          4       1         6       0          0         0         0   \n",
       "3  b  1          3       4         6       0          1         0         1   \n",
       "4  b  1          3       3        22       0          0         0         0   \n",
       "\n",
       "   occupspecific    ...      compreq  orgreq  manuf  transcom  bankreal trade  \\\n",
       "0             17    ...          1.0     0.0    1.0       0.0       0.0   0.0   \n",
       "1            316    ...          1.0     0.0    1.0       0.0       0.0   0.0   \n",
       "2             19    ...          1.0     0.0    1.0       0.0       0.0   0.0   \n",
       "3            313    ...          1.0     0.0    1.0       0.0       0.0   0.0   \n",
       "4            313    ...          1.0     1.0    0.0       0.0       0.0   0.0   \n",
       "\n",
       "  busservice othservice  missind  ownership  \n",
       "0        0.0        0.0      0.0             \n",
       "1        0.0        0.0      0.0             \n",
       "2        0.0        0.0      0.0             \n",
       "3        0.0        0.0      0.0             \n",
       "4        0.0        1.0      0.0  Nonprofit  \n",
       "\n",
       "[5 rows x 65 columns]"
      ]
     },
     "execution_count": 4,
     "metadata": {},
     "output_type": "execute_result"
    }
   ],
   "source": [
    "data.head()"
   ]
  },
  {
   "cell_type": "code",
   "execution_count": 18,
   "metadata": {},
   "outputs": [
    {
     "data": {
      "text/plain": [
       "count    4870.000000\n",
       "mean        0.080493\n",
       "std         0.272083\n",
       "min         0.000000\n",
       "25%         0.000000\n",
       "50%         0.000000\n",
       "75%         0.000000\n",
       "max         1.000000\n",
       "Name: call, dtype: float64"
      ]
     },
     "execution_count": 18,
     "metadata": {},
     "output_type": "execute_result"
    }
   ],
   "source": [
    "# Check the call column summary\n",
    "data.call.describe()"
   ]
  },
  {
   "cell_type": "code",
   "execution_count": 5,
   "metadata": {
    "scrolled": false
   },
   "outputs": [
    {
     "data": {
      "text/plain": [
       "w    2435\n",
       "b    2435\n",
       "Name: race, dtype: int64"
      ]
     },
     "execution_count": 5,
     "metadata": {},
     "output_type": "execute_result"
    }
   ],
   "source": [
    "# Count the number of resumes for each group\n",
    "data.race.value_counts()"
   ]
  },
  {
   "cell_type": "markdown",
   "metadata": {},
   "source": [
    "The sample size is 2435 for each group."
   ]
  },
  {
   "cell_type": "code",
   "execution_count": 27,
   "metadata": {
    "scrolled": true
   },
   "outputs": [
    {
     "data": {
      "text/plain": [
       "392"
      ]
     },
     "execution_count": 27,
     "metadata": {},
     "output_type": "execute_result"
    }
   ],
   "source": [
    "# Count the total callbacks\n",
    "len(data[data.call==1])"
   ]
  },
  {
   "cell_type": "code",
   "execution_count": 10,
   "metadata": {
    "scrolled": true
   },
   "outputs": [
    {
     "data": {
      "text/plain": [
       "w    235\n",
       "b    157\n",
       "Name: race, dtype: int64"
      ]
     },
     "execution_count": 10,
     "metadata": {},
     "output_type": "execute_result"
    }
   ],
   "source": [
    "# Count callbacks for each group \n",
    "data[data.call==1].race.value_counts()"
   ]
  },
  {
   "cell_type": "code",
   "execution_count": 46,
   "metadata": {},
   "outputs": [
    {
     "data": {
      "text/plain": [
       "b    2278\n",
       "w    2200\n",
       "Name: race, dtype: int64"
      ]
     },
     "execution_count": 46,
     "metadata": {},
     "output_type": "execute_result"
    }
   ],
   "source": [
    "# Count no callbacks for each group \n",
    "data[data.call==0].race.value_counts()"
   ]
  },
  {
   "cell_type": "code",
   "execution_count": 47,
   "metadata": {
    "scrolled": true
   },
   "outputs": [
    {
     "data": {
      "text/plain": [
       "0.0805"
      ]
     },
     "execution_count": 47,
     "metadata": {},
     "output_type": "execute_result"
    }
   ],
   "source": [
    "# Overall sample proportion of callbacks\n",
    "p_hat = len(data[data.call==1])/len(data)\n",
    "round(p_hat,4)"
   ]
  },
  {
   "cell_type": "code",
   "execution_count": 32,
   "metadata": {
    "scrolled": true
   },
   "outputs": [
    {
     "data": {
      "text/plain": [
       "w    0.096509\n",
       "b    0.064476\n",
       "Name: race, dtype: float64"
      ]
     },
     "execution_count": 32,
     "metadata": {},
     "output_type": "execute_result"
    }
   ],
   "source": [
    "# Sample proportion of callbacks for each group (p1_hat, p2_hat)\n",
    "data[data.call==1].race.value_counts()/data.race.value_counts()"
   ]
  },
  {
   "cell_type": "code",
   "execution_count": 57,
   "metadata": {},
   "outputs": [],
   "source": [
    "def print_result(my_tuple, title, label_1='test statistic', \n",
    "                 label_2='p-value', digits = 4):\n",
    "    print(title)\n",
    "    print(label_1, \": \", round(my_tuple[0],digits))\n",
    "    print(label_2, \": \", round(my_tuple[1],digits))"
   ]
  },
  {
   "cell_type": "markdown",
   "metadata": {
    "collapsed": true
   },
   "source": [
    "<div class=\"span5 alert alert-success\">\n",
    "<p>Your answers to Q1 and Q2 here</p>\n",
    "</div>"
   ]
  },
  {
   "cell_type": "markdown",
   "metadata": {},
   "source": [
    "### Q1. What test is appropriate for this problem? Does CLT apply?"
   ]
  },
  {
   "cell_type": "markdown",
   "metadata": {},
   "source": [
    "The goal of this study is finding out if race has a significant impact on the rate of callbacks for resumes. Thus, I will test if the callback rates for white-sounding resumes are significantly differeent from those for black-sounding resumes. The appropriate test for comparing the proportions of two groups is the __two proportion z-test__. \n",
    "\n",
    "The samples are random and independent within each group and less than 10% of the population. Moreover, the sample size is big enough since np and n(1-p) are 235 and 2200 for white-sounding names and 157 and 2278 for black-sounding names (all are much bigger than 10!!). Thus, the Central Limit Theorem can be applied to assume the proportion distributions are approximately normal."
   ]
  },
  {
   "cell_type": "markdown",
   "metadata": {},
   "source": [
    "### Q2. What are the null and alternate hypotheses?"
   ]
  },
  {
   "cell_type": "markdown",
   "metadata": {},
   "source": [
    "- Null hypothesis: the population proportions of callbacks for the two groups (white-sounding vs. black-sounding) are the same i.e. _p1_ = _p2_\n",
    "- Alternative hypothesis: the population proportions of callbacks for the two groups are different i.e. _p1_ != _p2_ (two-sided)"
   ]
  },
  {
   "cell_type": "markdown",
   "metadata": {},
   "source": [
    "### Q3. Compute margin of error, confidence interval, and p-value. Try using both the bootstrapping and the frequentist statistical approaches."
   ]
  },
  {
   "cell_type": "code",
   "execution_count": 94,
   "metadata": {},
   "outputs": [],
   "source": [
    "data_w = data[data.race=='w']\n",
    "data_b = data[data.race=='b']"
   ]
  },
  {
   "cell_type": "markdown",
   "metadata": {},
   "source": [
    "#### Frequentist approach"
   ]
  },
  {
   "cell_type": "code",
   "execution_count": 52,
   "metadata": {
    "scrolled": true
   },
   "outputs": [
    {
     "data": {
      "text/plain": [
       "w    235\n",
       "b    157\n",
       "Name: race, dtype: int64"
      ]
     },
     "execution_count": 52,
     "metadata": {},
     "output_type": "execute_result"
    }
   ],
   "source": [
    "# Count callbacks for each group \n",
    "data[data.call==1].race.value_counts()"
   ]
  },
  {
   "cell_type": "code",
   "execution_count": 53,
   "metadata": {},
   "outputs": [
    {
     "data": {
      "text/plain": [
       "w    2435\n",
       "b    2435\n",
       "Name: race, dtype: int64"
      ]
     },
     "execution_count": 53,
     "metadata": {},
     "output_type": "execute_result"
    }
   ],
   "source": [
    "# Count the number of resumes for each group\n",
    "data.race.value_counts()"
   ]
  },
  {
   "cell_type": "code",
   "execution_count": 70,
   "metadata": {},
   "outputs": [],
   "source": [
    "count = np.array([235, 157]) # white vs. black callbacks\n",
    "total = np.array([2435, 2435]) # white vs. black total counts"
   ]
  },
  {
   "cell_type": "markdown",
   "metadata": {},
   "source": [
    "_Two-sample proportion z-test_"
   ]
  },
  {
   "cell_type": "code",
   "execution_count": 114,
   "metadata": {
    "scrolled": false
   },
   "outputs": [
    {
     "name": "stdout",
     "output_type": "stream",
     "text": [
      "two-sample proportion z-test (two-sided)\n",
      "test statistic :  4.1084121524\n",
      "p-value :  3.98389e-05\n"
     ]
    }
   ],
   "source": [
    "# two-sample proportion z-test (two-sided)\n",
    "print_result(proportions_ztest(count,total), \n",
    "             \"two-sample proportion z-test (two-sided)\", digits=10)"
   ]
  },
  {
   "cell_type": "markdown",
   "metadata": {},
   "source": [
    "I used the two-sample z-test for proportions and found the p-value is close to zero. Thus, the null hypothesis can be rejected; the callback rate of white-sounding name resumes is significantly different from the callback rate of black-sounding name resumes. A resume with a white-sounding name is more likely to get a callback than that with a black-sounding name."
   ]
  },
  {
   "cell_type": "markdown",
   "metadata": {},
   "source": [
    "_Confidence interval for the difference of two population proportions_"
   ]
  },
  {
   "cell_type": "code",
   "execution_count": 85,
   "metadata": {},
   "outputs": [],
   "source": [
    "def conf_interval_2sample_prop(counts, totals, alpha, digits):\n",
    "    '''\n",
    "    Input\n",
    "    counts: an aray of two integers,number of successes in each group\n",
    "    totals: an aray of two integers, number of total counts in each group\n",
    "    alpha: significance level (1-confidence level)\n",
    "    digits: number of decimal points to be printed\n",
    "    Output (by printing)\n",
    "    sample proportions, critical value, margin of error, \n",
    "    confidence interval for the difference of two population proportions\n",
    "    '''\n",
    "    # sample proportions\n",
    "    n1, n2 = totals\n",
    "    p1_hat = counts[0]/n1\n",
    "    p2_hat = counts[1]/n2\n",
    "    print(\"sample proportion of group 1:\", round(p1_hat, digits))\n",
    "    print(\"sample proportion of group 2:\", round(p2_hat, digits))\n",
    "    # critial value for given alpha\n",
    "    CV = stats.norm.ppf(1-alpha/2) #critical value\n",
    "    #print(\"critical value:\", round(CV, digits))\n",
    "    # standard error\n",
    "    SE = np.sqrt((p1_hat*(1-p1_hat)/n1)+(p2_hat*(1-p2_hat)/n2))\n",
    "    # margin of error\n",
    "    MOE = CV*SE\n",
    "    print(\"Margin of Error:\", round(MOE, digits))\n",
    "    # conf. interval\n",
    "    conf_int = [round(p1_hat-p2_hat - MOE,digits), round(p1_hat-p2_hat + MOE,digits)]\n",
    "    print(int((1-alpha)*100), \"%\", \"conf. interval for prop. difference:\", conf_int)"
   ]
  },
  {
   "cell_type": "code",
   "execution_count": 91,
   "metadata": {
    "scrolled": false
   },
   "outputs": [
    {
     "name": "stdout",
     "output_type": "stream",
     "text": [
      "sample proportion of group 1: 0.09651\n",
      "sample proportion of group 2: 0.06448\n",
      "Margin of Error: 0.01526\n",
      "95 % conf. interval for prop. difference: [0.01678, 0.04729]\n"
     ]
    }
   ],
   "source": [
    "# conf. interval for the difference in population proportions\n",
    "conf_interval_2sample_prop(count, total, 0.05, digits=5)"
   ]
  },
  {
   "cell_type": "markdown",
   "metadata": {},
   "source": [
    "The confidence interval for the difference in two population proportions of callbacks does not contain zero. This means the callback rate for a white-sounding resume is significantly higher than that for a black-sounding resume. This result is consistent with the hypothesis test result."
   ]
  },
  {
   "cell_type": "markdown",
   "metadata": {},
   "source": [
    "#### Bootstrapping approach"
   ]
  },
  {
   "cell_type": "markdown",
   "metadata": {},
   "source": [
    "_Two-sample bootstrap hypothesis test for the proportion difference_"
   ]
  },
  {
   "cell_type": "code",
   "execution_count": 93,
   "metadata": {},
   "outputs": [
    {
     "data": {
      "text/plain": [
       "0.08049282"
      ]
     },
     "execution_count": 93,
     "metadata": {},
     "output_type": "execute_result"
    }
   ],
   "source": [
    "# Compute the proportion of callbacks for all observations\n",
    "mean_prop = np.mean(data.call)\n",
    "mean_prop"
   ]
  },
  {
   "cell_type": "code",
   "execution_count": 96,
   "metadata": {},
   "outputs": [
    {
     "name": "stdout",
     "output_type": "stream",
     "text": [
      "0.09650924 0.064476386\n"
     ]
    }
   ],
   "source": [
    "# Compute the proportion of callbacks for each group\n",
    "call_w = data_w.call\n",
    "call_b = data_b.call\n",
    "print(np.mean(call_w), np.mean(call_b))"
   ]
  },
  {
   "cell_type": "code",
   "execution_count": 106,
   "metadata": {},
   "outputs": [
    {
     "data": {
      "text/plain": [
       "0.032032855"
      ]
     },
     "execution_count": 106,
     "metadata": {},
     "output_type": "execute_result"
    }
   ],
   "source": [
    "# difference in sample proportions\n",
    "empirical_diff = np.mean(call_w) - np.mean(call_b)\n",
    "empirical_diff"
   ]
  },
  {
   "cell_type": "code",
   "execution_count": 109,
   "metadata": {},
   "outputs": [
    {
     "name": "stdout",
     "output_type": "stream",
     "text": [
      "p-value = 0.0\n"
     ]
    }
   ],
   "source": [
    "# Take bootstrap replicates of call values \n",
    "def draw_bs_replicates(data, group_size, func, size):\n",
    "    return np.array([func(np.random.choice(data, group_size)) for _ in range(size)])\n",
    "\n",
    "# Compute 10,000 bootstrap replicates\n",
    "bs_replicates_w = draw_bs_replicates(data.call, len(call_w), np.mean, 10000) \n",
    "bs_replicates_b = draw_bs_replicates(data.call, len(call_b), np.mean, 10000)\n",
    "\n",
    "# Get replicates of difference of proportions\n",
    "bs_replicates_diff = bs_replicates_w - bs_replicates_b\n",
    "\n",
    "# Compute and print p-value: p\n",
    "p = np.sum(bs_replicates_diff >  empirical_diff ) / len(bs_replicates_diff)\n",
    "print('p-value =', p)"
   ]
  },
  {
   "cell_type": "markdown",
   "metadata": {},
   "source": [
    "_Boostrap Confidence interval for the difference in proportions_"
   ]
  },
  {
   "cell_type": "code",
   "execution_count": 112,
   "metadata": {},
   "outputs": [
    {
     "name": "stdout",
     "output_type": "stream",
     "text": [
      "95% Bootstrap conf. interval of difference in proportions:  [0.01642711 0.04722793]\n"
     ]
    }
   ],
   "source": [
    "# Bootstrap confidence interval\n",
    "bs_replicates_w = draw_bs_replicates(call_w, len(call_w), np.mean, 10000) \n",
    "bs_replicates_b = draw_bs_replicates(call_b, len(call_b), np.mean, 10000)\n",
    "\n",
    "# Get replicates of difference of proportions\n",
    "bs_replicates_diff = bs_replicates_w - bs_replicates_b\n",
    "conf_int = np.percentile(bs_replicates_diff, [2.5, 97.5])\n",
    "print(\"95% Bootstrap conf. interval of difference in proportions: \", conf_int)"
   ]
  },
  {
   "cell_type": "markdown",
   "metadata": {},
   "source": [
    "Bootstrap methods gave a p-value (close to zero) and a confidence interval similar to those of frequentist methods. Thus, the conclusion is the same as above."
   ]
  },
  {
   "cell_type": "markdown",
   "metadata": {},
   "source": [
    "### Q4. Write a story describing the statistical significance in the context or the original problem.\n"
   ]
  },
  {
   "cell_type": "markdown",
   "metadata": {},
   "source": [
    "We found the significant difference between the callback rates for white-sounding name resumes and black-sounding ones. The direction of the difference tells us that the callback rates for white-sounding name resumes is significantly higher. This shows that a resume with a white-sounding name is more likely to get a callback for interviews from employers than a resume with a black-sounding name. Is there really racial discrimination going on in the US job market?"
   ]
  },
  {
   "cell_type": "markdown",
   "metadata": {},
   "source": [
    "### Q5. Does your analysis mean that race/name is the most important factor in callback success? Why or why not? If not, how would you amend your analysis?"
   ]
  },
  {
   "cell_type": "markdown",
   "metadata": {},
   "source": [
    "My analysis does NOT mean the race/name is the most important factor in callback success since I did not check other factors in the dataset. There might have been a more crucial factor in the dataset (or even outside) than race/name. I will investigate other factors and describe how my analysis can be amended.\n",
    "\n",
    "I will first check whether resumes were fairly distributed into two groups."
   ]
  },
  {
   "cell_type": "code",
   "execution_count": 117,
   "metadata": {
    "scrolled": true
   },
   "outputs": [
    {
     "name": "stdout",
     "output_type": "stream",
     "text": [
      "<class 'pandas.core.frame.DataFrame'>\n",
      "Int64Index: 4870 entries, 0 to 4869\n",
      "Data columns (total 65 columns):\n",
      "id                    4870 non-null object\n",
      "ad                    4870 non-null object\n",
      "education             4870 non-null int8\n",
      "ofjobs                4870 non-null int8\n",
      "yearsexp              4870 non-null int8\n",
      "honors                4870 non-null int8\n",
      "volunteer             4870 non-null int8\n",
      "military              4870 non-null int8\n",
      "empholes              4870 non-null int8\n",
      "occupspecific         4870 non-null int16\n",
      "occupbroad            4870 non-null int8\n",
      "workinschool          4870 non-null int8\n",
      "email                 4870 non-null int8\n",
      "computerskills        4870 non-null int8\n",
      "specialskills         4870 non-null int8\n",
      "firstname             4870 non-null object\n",
      "sex                   4870 non-null object\n",
      "race                  4870 non-null object\n",
      "h                     4870 non-null float32\n",
      "l                     4870 non-null float32\n",
      "call                  4870 non-null float32\n",
      "city                  4870 non-null object\n",
      "kind                  4870 non-null object\n",
      "adid                  4870 non-null float32\n",
      "fracblack             4784 non-null float32\n",
      "fracwhite             4784 non-null float32\n",
      "lmedhhinc             4784 non-null float32\n",
      "fracdropout           4784 non-null float32\n",
      "fraccolp              4784 non-null float32\n",
      "linc                  4784 non-null float32\n",
      "col                   4870 non-null float32\n",
      "expminreq             4870 non-null object\n",
      "schoolreq             4870 non-null object\n",
      "eoe                   4870 non-null float32\n",
      "parent_sales          1672 non-null float32\n",
      "parent_emp            1722 non-null float32\n",
      "branch_sales          608 non-null float32\n",
      "branch_emp            658 non-null float32\n",
      "fed                   3102 non-null float32\n",
      "fracblack_empzip      1918 non-null float32\n",
      "fracwhite_empzip      1918 non-null float32\n",
      "lmedhhinc_empzip      1908 non-null float32\n",
      "fracdropout_empzip    1918 non-null float32\n",
      "fraccolp_empzip       1918 non-null float32\n",
      "linc_empzip           1918 non-null float32\n",
      "manager               4870 non-null float32\n",
      "supervisor            4870 non-null float32\n",
      "secretary             4870 non-null float32\n",
      "offsupport            4870 non-null float32\n",
      "salesrep              4870 non-null float32\n",
      "retailsales           4870 non-null float32\n",
      "req                   4870 non-null float32\n",
      "expreq                4870 non-null float32\n",
      "comreq                4870 non-null float32\n",
      "educreq               4870 non-null float32\n",
      "compreq               4870 non-null float32\n",
      "orgreq                4870 non-null float32\n",
      "manuf                 4870 non-null float32\n",
      "transcom              4870 non-null float32\n",
      "bankreal              4870 non-null float32\n",
      "trade                 4870 non-null float32\n",
      "busservice            4870 non-null float32\n",
      "othservice            4870 non-null float32\n",
      "missind               4870 non-null float32\n",
      "ownership             4870 non-null object\n",
      "dtypes: float32(42), int16(1), int8(12), object(10)\n",
      "memory usage: 1.3+ MB\n"
     ]
    }
   ],
   "source": [
    "data.info()"
   ]
  },
  {
   "cell_type": "markdown",
   "metadata": {},
   "source": [
    "There are a total of 65 columns, 55 numeric and 10 non-numeric. I will first check the numeric columns using mean."
   ]
  },
  {
   "cell_type": "code",
   "execution_count": 119,
   "metadata": {
    "scrolled": true
   },
   "outputs": [
    {
     "data": {
      "text/html": [
       "<div>\n",
       "<style scoped>\n",
       "    .dataframe tbody tr th:only-of-type {\n",
       "        vertical-align: middle;\n",
       "    }\n",
       "\n",
       "    .dataframe tbody tr th {\n",
       "        vertical-align: top;\n",
       "    }\n",
       "\n",
       "    .dataframe thead th {\n",
       "        text-align: right;\n",
       "    }\n",
       "</style>\n",
       "<table border=\"1\" class=\"dataframe\">\n",
       "  <thead>\n",
       "    <tr style=\"text-align: right;\">\n",
       "      <th>race</th>\n",
       "      <th>b</th>\n",
       "      <th>w</th>\n",
       "    </tr>\n",
       "  </thead>\n",
       "  <tbody>\n",
       "    <tr>\n",
       "      <th>education</th>\n",
       "      <td>3.616016</td>\n",
       "      <td>3.620945</td>\n",
       "    </tr>\n",
       "    <tr>\n",
       "      <th>ofjobs</th>\n",
       "      <td>3.658316</td>\n",
       "      <td>3.664476</td>\n",
       "    </tr>\n",
       "    <tr>\n",
       "      <th>yearsexp</th>\n",
       "      <td>7.829569</td>\n",
       "      <td>7.856263</td>\n",
       "    </tr>\n",
       "    <tr>\n",
       "      <th>honors</th>\n",
       "      <td>0.051335</td>\n",
       "      <td>0.054209</td>\n",
       "    </tr>\n",
       "    <tr>\n",
       "      <th>volunteer</th>\n",
       "      <td>0.414374</td>\n",
       "      <td>0.408624</td>\n",
       "    </tr>\n",
       "    <tr>\n",
       "      <th>military</th>\n",
       "      <td>0.101848</td>\n",
       "      <td>0.092402</td>\n",
       "    </tr>\n",
       "    <tr>\n",
       "      <th>empholes</th>\n",
       "      <td>0.445996</td>\n",
       "      <td>0.450103</td>\n",
       "    </tr>\n",
       "    <tr>\n",
       "      <th>occupspecific</th>\n",
       "      <td>216.744969</td>\n",
       "      <td>214.530595</td>\n",
       "    </tr>\n",
       "    <tr>\n",
       "      <th>occupbroad</th>\n",
       "      <td>3.487885</td>\n",
       "      <td>3.475154</td>\n",
       "    </tr>\n",
       "    <tr>\n",
       "      <th>workinschool</th>\n",
       "      <td>0.560986</td>\n",
       "      <td>0.558111</td>\n",
       "    </tr>\n",
       "    <tr>\n",
       "      <th>email</th>\n",
       "      <td>0.479671</td>\n",
       "      <td>0.478850</td>\n",
       "    </tr>\n",
       "    <tr>\n",
       "      <th>computerskills</th>\n",
       "      <td>0.832444</td>\n",
       "      <td>0.808624</td>\n",
       "    </tr>\n",
       "    <tr>\n",
       "      <th>specialskills</th>\n",
       "      <td>0.327310</td>\n",
       "      <td>0.330185</td>\n",
       "    </tr>\n",
       "    <tr>\n",
       "      <th>h</th>\n",
       "      <td>0.502259</td>\n",
       "      <td>0.502259</td>\n",
       "    </tr>\n",
       "    <tr>\n",
       "      <th>l</th>\n",
       "      <td>0.497741</td>\n",
       "      <td>0.497741</td>\n",
       "    </tr>\n",
       "    <tr>\n",
       "      <th>call</th>\n",
       "      <td>0.064476</td>\n",
       "      <td>0.096509</td>\n",
       "    </tr>\n",
       "    <tr>\n",
       "      <th>adid</th>\n",
       "      <td>651.777832</td>\n",
       "      <td>651.777832</td>\n",
       "    </tr>\n",
       "    <tr>\n",
       "      <th>fracblack</th>\n",
       "      <td>0.313214</td>\n",
       "      <td>0.308439</td>\n",
       "    </tr>\n",
       "    <tr>\n",
       "      <th>fracwhite</th>\n",
       "      <td>0.540329</td>\n",
       "      <td>0.545211</td>\n",
       "    </tr>\n",
       "    <tr>\n",
       "      <th>lmedhhinc</th>\n",
       "      <td>10.143023</td>\n",
       "      <td>10.151353</td>\n",
       "    </tr>\n",
       "    <tr>\n",
       "      <th>fracdropout</th>\n",
       "      <td>0.185319</td>\n",
       "      <td>0.186026</td>\n",
       "    </tr>\n",
       "    <tr>\n",
       "      <th>fraccolp</th>\n",
       "      <td>0.212640</td>\n",
       "      <td>0.214998</td>\n",
       "    </tr>\n",
       "    <tr>\n",
       "      <th>linc</th>\n",
       "      <td>9.547022</td>\n",
       "      <td>9.554592</td>\n",
       "    </tr>\n",
       "    <tr>\n",
       "      <th>col</th>\n",
       "      <td>0.722793</td>\n",
       "      <td>0.716222</td>\n",
       "    </tr>\n",
       "    <tr>\n",
       "      <th>eoe</th>\n",
       "      <td>0.291170</td>\n",
       "      <td>0.291170</td>\n",
       "    </tr>\n",
       "    <tr>\n",
       "      <th>parent_sales</th>\n",
       "      <td>587.686462</td>\n",
       "      <td>587.686462</td>\n",
       "    </tr>\n",
       "    <tr>\n",
       "      <th>parent_emp</th>\n",
       "      <td>2287.051270</td>\n",
       "      <td>2287.051270</td>\n",
       "    </tr>\n",
       "    <tr>\n",
       "      <th>branch_sales</th>\n",
       "      <td>196.050659</td>\n",
       "      <td>196.050659</td>\n",
       "    </tr>\n",
       "    <tr>\n",
       "      <th>branch_emp</th>\n",
       "      <td>755.416992</td>\n",
       "      <td>755.416992</td>\n",
       "    </tr>\n",
       "    <tr>\n",
       "      <th>fed</th>\n",
       "      <td>0.114765</td>\n",
       "      <td>0.114765</td>\n",
       "    </tr>\n",
       "    <tr>\n",
       "      <th>fracblack_empzip</th>\n",
       "      <td>0.079096</td>\n",
       "      <td>0.079096</td>\n",
       "    </tr>\n",
       "    <tr>\n",
       "      <th>fracwhite_empzip</th>\n",
       "      <td>0.843762</td>\n",
       "      <td>0.843762</td>\n",
       "    </tr>\n",
       "    <tr>\n",
       "      <th>lmedhhinc_empzip</th>\n",
       "      <td>10.655680</td>\n",
       "      <td>10.655680</td>\n",
       "    </tr>\n",
       "    <tr>\n",
       "      <th>fracdropout_empzip</th>\n",
       "      <td>0.101692</td>\n",
       "      <td>0.101692</td>\n",
       "    </tr>\n",
       "    <tr>\n",
       "      <th>fraccolp_empzip</th>\n",
       "      <td>0.333873</td>\n",
       "      <td>0.333873</td>\n",
       "    </tr>\n",
       "    <tr>\n",
       "      <th>linc_empzip</th>\n",
       "      <td>10.031505</td>\n",
       "      <td>10.031505</td>\n",
       "    </tr>\n",
       "    <tr>\n",
       "      <th>manager</th>\n",
       "      <td>0.151951</td>\n",
       "      <td>0.152361</td>\n",
       "    </tr>\n",
       "    <tr>\n",
       "      <th>supervisor</th>\n",
       "      <td>0.077207</td>\n",
       "      <td>0.077207</td>\n",
       "    </tr>\n",
       "    <tr>\n",
       "      <th>secretary</th>\n",
       "      <td>0.333060</td>\n",
       "      <td>0.332649</td>\n",
       "    </tr>\n",
       "    <tr>\n",
       "      <th>offsupport</th>\n",
       "      <td>0.118686</td>\n",
       "      <td>0.118686</td>\n",
       "    </tr>\n",
       "    <tr>\n",
       "      <th>salesrep</th>\n",
       "      <td>0.151129</td>\n",
       "      <td>0.151129</td>\n",
       "    </tr>\n",
       "    <tr>\n",
       "      <th>retailsales</th>\n",
       "      <td>0.167967</td>\n",
       "      <td>0.167967</td>\n",
       "    </tr>\n",
       "    <tr>\n",
       "      <th>req</th>\n",
       "      <td>0.787269</td>\n",
       "      <td>0.787269</td>\n",
       "    </tr>\n",
       "    <tr>\n",
       "      <th>expreq</th>\n",
       "      <td>0.435318</td>\n",
       "      <td>0.435318</td>\n",
       "    </tr>\n",
       "    <tr>\n",
       "      <th>comreq</th>\n",
       "      <td>0.124846</td>\n",
       "      <td>0.124846</td>\n",
       "    </tr>\n",
       "    <tr>\n",
       "      <th>educreq</th>\n",
       "      <td>0.106776</td>\n",
       "      <td>0.106776</td>\n",
       "    </tr>\n",
       "    <tr>\n",
       "      <th>compreq</th>\n",
       "      <td>0.437372</td>\n",
       "      <td>0.436961</td>\n",
       "    </tr>\n",
       "    <tr>\n",
       "      <th>orgreq</th>\n",
       "      <td>0.072690</td>\n",
       "      <td>0.072690</td>\n",
       "    </tr>\n",
       "    <tr>\n",
       "      <th>manuf</th>\n",
       "      <td>0.082957</td>\n",
       "      <td>0.082957</td>\n",
       "    </tr>\n",
       "    <tr>\n",
       "      <th>transcom</th>\n",
       "      <td>0.030390</td>\n",
       "      <td>0.030390</td>\n",
       "    </tr>\n",
       "    <tr>\n",
       "      <th>bankreal</th>\n",
       "      <td>0.085010</td>\n",
       "      <td>0.085010</td>\n",
       "    </tr>\n",
       "    <tr>\n",
       "      <th>trade</th>\n",
       "      <td>0.213963</td>\n",
       "      <td>0.213963</td>\n",
       "    </tr>\n",
       "    <tr>\n",
       "      <th>busservice</th>\n",
       "      <td>0.267762</td>\n",
       "      <td>0.267762</td>\n",
       "    </tr>\n",
       "    <tr>\n",
       "      <th>othservice</th>\n",
       "      <td>0.154825</td>\n",
       "      <td>0.154825</td>\n",
       "    </tr>\n",
       "    <tr>\n",
       "      <th>missind</th>\n",
       "      <td>0.165092</td>\n",
       "      <td>0.165092</td>\n",
       "    </tr>\n",
       "  </tbody>\n",
       "</table>\n",
       "</div>"
      ],
      "text/plain": [
       "race                          b            w\n",
       "education              3.616016     3.620945\n",
       "ofjobs                 3.658316     3.664476\n",
       "yearsexp               7.829569     7.856263\n",
       "honors                 0.051335     0.054209\n",
       "volunteer              0.414374     0.408624\n",
       "military               0.101848     0.092402\n",
       "empholes               0.445996     0.450103\n",
       "occupspecific        216.744969   214.530595\n",
       "occupbroad             3.487885     3.475154\n",
       "workinschool           0.560986     0.558111\n",
       "email                  0.479671     0.478850\n",
       "computerskills         0.832444     0.808624\n",
       "specialskills          0.327310     0.330185\n",
       "h                      0.502259     0.502259\n",
       "l                      0.497741     0.497741\n",
       "call                   0.064476     0.096509\n",
       "adid                 651.777832   651.777832\n",
       "fracblack              0.313214     0.308439\n",
       "fracwhite              0.540329     0.545211\n",
       "lmedhhinc             10.143023    10.151353\n",
       "fracdropout            0.185319     0.186026\n",
       "fraccolp               0.212640     0.214998\n",
       "linc                   9.547022     9.554592\n",
       "col                    0.722793     0.716222\n",
       "eoe                    0.291170     0.291170\n",
       "parent_sales         587.686462   587.686462\n",
       "parent_emp          2287.051270  2287.051270\n",
       "branch_sales         196.050659   196.050659\n",
       "branch_emp           755.416992   755.416992\n",
       "fed                    0.114765     0.114765\n",
       "fracblack_empzip       0.079096     0.079096\n",
       "fracwhite_empzip       0.843762     0.843762\n",
       "lmedhhinc_empzip      10.655680    10.655680\n",
       "fracdropout_empzip     0.101692     0.101692\n",
       "fraccolp_empzip        0.333873     0.333873\n",
       "linc_empzip           10.031505    10.031505\n",
       "manager                0.151951     0.152361\n",
       "supervisor             0.077207     0.077207\n",
       "secretary              0.333060     0.332649\n",
       "offsupport             0.118686     0.118686\n",
       "salesrep               0.151129     0.151129\n",
       "retailsales            0.167967     0.167967\n",
       "req                    0.787269     0.787269\n",
       "expreq                 0.435318     0.435318\n",
       "comreq                 0.124846     0.124846\n",
       "educreq                0.106776     0.106776\n",
       "compreq                0.437372     0.436961\n",
       "orgreq                 0.072690     0.072690\n",
       "manuf                  0.082957     0.082957\n",
       "transcom               0.030390     0.030390\n",
       "bankreal               0.085010     0.085010\n",
       "trade                  0.213963     0.213963\n",
       "busservice             0.267762     0.267762\n",
       "othservice             0.154825     0.154825\n",
       "missind                0.165092     0.165092"
      ]
     },
     "execution_count": 119,
     "metadata": {},
     "output_type": "execute_result"
    }
   ],
   "source": [
    "data.groupby('race').mean().transpose()"
   ]
  },
  {
   "cell_type": "markdown",
   "metadata": {},
   "source": [
    "The above shows the means for white-sounding names and black-sounding names for each column. The means are very similar for the two groups except for the means for callbacks. It looks like the resumes were almost identically assigned to white-sounding and black-sounding names. I found no problem here. Now I will check the non-numeric columns."
   ]
  },
  {
   "cell_type": "code",
   "execution_count": 165,
   "metadata": {
    "scrolled": false
   },
   "outputs": [
    {
     "name": "stdout",
     "output_type": "stream",
     "text": [
      "['id', 'ad', 'firstname', 'sex', 'race', 'city', 'kind', 'expminreq', 'schoolreq', 'ownership']\n"
     ]
    }
   ],
   "source": [
    "# string columns\n",
    "str_cols = [data.columns[i] for i, value in enumerate(data.iloc[0,:]) if type(value) is str]\n",
    "print(str_cols)"
   ]
  },
  {
   "cell_type": "markdown",
   "metadata": {},
   "source": [
    "These are the ten non-numeric columns."
   ]
  },
  {
   "cell_type": "code",
   "execution_count": 149,
   "metadata": {
    "scrolled": false
   },
   "outputs": [
    {
     "data": {
      "text/html": [
       "<div>\n",
       "<style scoped>\n",
       "    .dataframe tbody tr th:only-of-type {\n",
       "        vertical-align: middle;\n",
       "    }\n",
       "\n",
       "    .dataframe tbody tr th {\n",
       "        vertical-align: top;\n",
       "    }\n",
       "\n",
       "    .dataframe thead th {\n",
       "        text-align: right;\n",
       "    }\n",
       "</style>\n",
       "<table border=\"1\" class=\"dataframe\">\n",
       "  <thead>\n",
       "    <tr style=\"text-align: right;\">\n",
       "      <th></th>\n",
       "      <th>id</th>\n",
       "      <th>ad</th>\n",
       "      <th>firstname</th>\n",
       "      <th>sex</th>\n",
       "      <th>race</th>\n",
       "      <th>city</th>\n",
       "      <th>kind</th>\n",
       "      <th>expminreq</th>\n",
       "      <th>schoolreq</th>\n",
       "      <th>ownership</th>\n",
       "    </tr>\n",
       "  </thead>\n",
       "  <tbody>\n",
       "    <tr>\n",
       "      <th>0</th>\n",
       "      <td>b</td>\n",
       "      <td>1</td>\n",
       "      <td>Allison</td>\n",
       "      <td>f</td>\n",
       "      <td>w</td>\n",
       "      <td>c</td>\n",
       "      <td>a</td>\n",
       "      <td>5</td>\n",
       "      <td></td>\n",
       "      <td></td>\n",
       "    </tr>\n",
       "    <tr>\n",
       "      <th>1</th>\n",
       "      <td>b</td>\n",
       "      <td>1</td>\n",
       "      <td>Kristen</td>\n",
       "      <td>f</td>\n",
       "      <td>w</td>\n",
       "      <td>c</td>\n",
       "      <td>a</td>\n",
       "      <td>5</td>\n",
       "      <td></td>\n",
       "      <td></td>\n",
       "    </tr>\n",
       "    <tr>\n",
       "      <th>2</th>\n",
       "      <td>b</td>\n",
       "      <td>1</td>\n",
       "      <td>Lakisha</td>\n",
       "      <td>f</td>\n",
       "      <td>b</td>\n",
       "      <td>c</td>\n",
       "      <td>a</td>\n",
       "      <td>5</td>\n",
       "      <td></td>\n",
       "      <td></td>\n",
       "    </tr>\n",
       "    <tr>\n",
       "      <th>3</th>\n",
       "      <td>b</td>\n",
       "      <td>1</td>\n",
       "      <td>Latonya</td>\n",
       "      <td>f</td>\n",
       "      <td>b</td>\n",
       "      <td>c</td>\n",
       "      <td>a</td>\n",
       "      <td>5</td>\n",
       "      <td></td>\n",
       "      <td></td>\n",
       "    </tr>\n",
       "    <tr>\n",
       "      <th>4</th>\n",
       "      <td>b</td>\n",
       "      <td>1</td>\n",
       "      <td>Carrie</td>\n",
       "      <td>f</td>\n",
       "      <td>w</td>\n",
       "      <td>c</td>\n",
       "      <td>a</td>\n",
       "      <td>some</td>\n",
       "      <td></td>\n",
       "      <td>Nonprofit</td>\n",
       "    </tr>\n",
       "    <tr>\n",
       "      <th>5</th>\n",
       "      <td>b</td>\n",
       "      <td>1</td>\n",
       "      <td>Jay</td>\n",
       "      <td>m</td>\n",
       "      <td>w</td>\n",
       "      <td>c</td>\n",
       "      <td>s</td>\n",
       "      <td></td>\n",
       "      <td></td>\n",
       "      <td>Private</td>\n",
       "    </tr>\n",
       "    <tr>\n",
       "      <th>6</th>\n",
       "      <td>b</td>\n",
       "      <td>1</td>\n",
       "      <td>Jill</td>\n",
       "      <td>f</td>\n",
       "      <td>w</td>\n",
       "      <td>c</td>\n",
       "      <td>s</td>\n",
       "      <td></td>\n",
       "      <td></td>\n",
       "      <td>Private</td>\n",
       "    </tr>\n",
       "    <tr>\n",
       "      <th>7</th>\n",
       "      <td>b</td>\n",
       "      <td>1</td>\n",
       "      <td>Kenya</td>\n",
       "      <td>f</td>\n",
       "      <td>b</td>\n",
       "      <td>c</td>\n",
       "      <td>a</td>\n",
       "      <td>some</td>\n",
       "      <td></td>\n",
       "      <td>Nonprofit</td>\n",
       "    </tr>\n",
       "    <tr>\n",
       "      <th>8</th>\n",
       "      <td>b</td>\n",
       "      <td>1</td>\n",
       "      <td>Latonya</td>\n",
       "      <td>f</td>\n",
       "      <td>b</td>\n",
       "      <td>c</td>\n",
       "      <td>s</td>\n",
       "      <td></td>\n",
       "      <td></td>\n",
       "      <td>Private</td>\n",
       "    </tr>\n",
       "    <tr>\n",
       "      <th>9</th>\n",
       "      <td>b</td>\n",
       "      <td>1</td>\n",
       "      <td>Tyrone</td>\n",
       "      <td>m</td>\n",
       "      <td>b</td>\n",
       "      <td>c</td>\n",
       "      <td>s</td>\n",
       "      <td></td>\n",
       "      <td></td>\n",
       "      <td>Private</td>\n",
       "    </tr>\n",
       "  </tbody>\n",
       "</table>\n",
       "</div>"
      ],
      "text/plain": [
       "  id ad firstname sex race city kind expminreq schoolreq  ownership\n",
       "0  b  1   Allison   f    w    c    a         5                     \n",
       "1  b  1   Kristen   f    w    c    a         5                     \n",
       "2  b  1   Lakisha   f    b    c    a         5                     \n",
       "3  b  1   Latonya   f    b    c    a         5                     \n",
       "4  b  1    Carrie   f    w    c    a      some            Nonprofit\n",
       "5  b  1       Jay   m    w    c    s                        Private\n",
       "6  b  1      Jill   f    w    c    s                        Private\n",
       "7  b  1     Kenya   f    b    c    a      some            Nonprofit\n",
       "8  b  1   Latonya   f    b    c    s                        Private\n",
       "9  b  1    Tyrone   m    b    c    s                        Private"
      ]
     },
     "execution_count": 149,
     "metadata": {},
     "output_type": "execute_result"
    }
   ],
   "source": [
    "data[str_cols].head(10)"
   ]
  },
  {
   "cell_type": "code",
   "execution_count": 173,
   "metadata": {},
   "outputs": [
    {
     "name": "stdout",
     "output_type": "stream",
     "text": [
      "<class 'pandas.core.frame.DataFrame'>\n",
      "Int64Index: 4870 entries, 0 to 4869\n",
      "Data columns (total 10 columns):\n",
      "id           4870 non-null object\n",
      "ad           4870 non-null object\n",
      "firstname    4870 non-null object\n",
      "sex          4870 non-null object\n",
      "race         4870 non-null object\n",
      "city         4870 non-null object\n",
      "kind         4870 non-null object\n",
      "expminreq    4870 non-null object\n",
      "schoolreq    4870 non-null object\n",
      "ownership    4870 non-null object\n",
      "dtypes: object(10)\n",
      "memory usage: 578.5+ KB\n"
     ]
    }
   ],
   "source": [
    "data[str_cols].info()"
   ]
  },
  {
   "cell_type": "code",
   "execution_count": 182,
   "metadata": {},
   "outputs": [
    {
     "data": {
      "text/plain": [
       "True"
      ]
     },
     "execution_count": 182,
     "metadata": {},
     "output_type": "execute_result"
    }
   ],
   "source": [
    "data.expminreq[5]==''"
   ]
  },
  {
   "cell_type": "code",
   "execution_count": 186,
   "metadata": {},
   "outputs": [
    {
     "name": "stdout",
     "output_type": "stream",
     "text": [
      "id 0\n",
      "ad 0\n",
      "firstname 0\n",
      "sex 0\n",
      "race 0\n",
      "city 0\n",
      "kind 0\n",
      "expminreq 2746\n",
      "schoolreq 4350\n",
      "ownership 1992\n"
     ]
    }
   ],
   "source": [
    "# number of missing values for each string column\n",
    "for col in str_cols:\n",
    "    print(col, len([1 for val in data[col] if val=='']))"
   ]
  },
  {
   "cell_type": "markdown",
   "metadata": {},
   "source": [
    "There are some missing values with empty strings which cannot be caught in the summary from info(). I will be careful with the columns with too many missing values and find the number of distinct values for each string column."
   ]
  },
  {
   "cell_type": "code",
   "execution_count": 202,
   "metadata": {
    "scrolled": true
   },
   "outputs": [
    {
     "name": "stdout",
     "output_type": "stream",
     "text": [
      "id 289\n",
      "ad 303\n",
      "firstname 36\n",
      "sex 2\n",
      "race 2\n",
      "city 2\n",
      "kind 2\n",
      "expminreq 13\n",
      "schoolreq 4\n",
      "ownership 4\n"
     ]
    }
   ],
   "source": [
    "# number of distinct values for each string column\n",
    "for col in str_cols:\n",
    "    print(col, len(data[data.call==1][col].value_counts()/data[col].value_counts()))"
   ]
  },
  {
   "cell_type": "markdown",
   "metadata": {},
   "source": [
    "Only sex, race, city, and kind, ownership columns have manageable numbers of disctinct values (schoolreq was not considered since it has 4350 missing values). I will calculate the callback rate for each level of these columns"
   ]
  },
  {
   "cell_type": "code",
   "execution_count": 203,
   "metadata": {
    "scrolled": true
   },
   "outputs": [
    {
     "name": "stdout",
     "output_type": "stream",
     "text": [
      "f    0.082488\n",
      "m    0.073843\n",
      "Name: sex, dtype: float64\n",
      "\n",
      "w    0.096509\n",
      "b    0.064476\n",
      "Name: race, dtype: float64\n",
      "\n",
      "b    0.096953\n",
      "c    0.067308\n",
      "Name: city, dtype: float64\n",
      "\n",
      "a    0.084885\n",
      "s    0.074591\n",
      "Name: kind, dtype: float64\n",
      "\n",
      "             0.088855\n",
      "Nonprofit    0.053459\n",
      "Private      0.075914\n",
      "Public       0.084507\n",
      "Name: ownership, dtype: float64\n",
      "\n"
     ]
    }
   ],
   "source": [
    "for col in ['sex','race','city','kind','ownership']:\n",
    "    print(data[data.call==1][col].value_counts()/data[col].value_counts())\n",
    "    print()"
   ]
  },
  {
   "cell_type": "markdown",
   "metadata": {},
   "source": [
    "All of these columns have pretty different callback rates for different values. In particular, 'city' column has a big difference in callback rates between two groups 'b' and 'c' and the difference is almost as big as the difference for the 'race' column. The ownership column is also interesting. The callback rate is the highest for missing values and it decreases in the order of public, private, and nonprofit. There are these other factors that have effects on the callback rates, so we cannot conclude that the race/name is the most important factor. \n",
    "\n",
    "How can we amend the analysis?\n",
    "\n",
    "If these 2435 resumes for black-sounding names and 2435 resumes for white-sounding names were exactly the same (using means I found they are not exactly the same) and two observations of white and black names can be paired with the same resume, the paired z-test for proportion could be more appropriate to rule out effects of other factors. If they cannot be paired, we can also try multivariate analysis. A logistic regression can be used to predict a callback (binary output, 0 or 1) and find all significant factors."
   ]
  },
  {
   "cell_type": "code",
   "execution_count": null,
   "metadata": {},
   "outputs": [],
   "source": []
  },
  {
   "cell_type": "markdown",
   "metadata": {},
   "source": [
    "__End of answers!!!__ \n",
    "\n",
    "_Please ignore below_"
   ]
  },
  {
   "cell_type": "code",
   "execution_count": 166,
   "metadata": {
    "scrolled": true
   },
   "outputs": [],
   "source": [
    "#data.groupby('race').firstname.value_counts()"
   ]
  },
  {
   "cell_type": "code",
   "execution_count": 167,
   "metadata": {},
   "outputs": [],
   "source": [
    "#len(data.groupby('race').firstname.value_counts())"
   ]
  },
  {
   "cell_type": "code",
   "execution_count": 168,
   "metadata": {},
   "outputs": [],
   "source": [
    "#These are the black-sounding and white-sounding names used. The name pool was smaller than I expected. We can also check if there is any name that leads to more callbacks."
   ]
  },
  {
   "cell_type": "code",
   "execution_count": 169,
   "metadata": {
    "scrolled": true
   },
   "outputs": [],
   "source": [
    "#data['sex'].value_counts()"
   ]
  },
  {
   "cell_type": "code",
   "execution_count": 170,
   "metadata": {},
   "outputs": [],
   "source": [
    "#There were more female names than male ones. This is okay as long as each gender was evenly distributed to the two race/name groups."
   ]
  },
  {
   "cell_type": "code",
   "execution_count": 171,
   "metadata": {},
   "outputs": [],
   "source": [
    "# Proportions of females \n",
    "#data[data.sex=='f'].race.value_counts()/data.race.value_counts()"
   ]
  },
  {
   "cell_type": "code",
   "execution_count": null,
   "metadata": {},
   "outputs": [],
   "source": [
    "# There are slightly more female names in black-sounding names, but they look fine."
   ]
  }
 ],
 "metadata": {
  "kernelspec": {
   "display_name": "Python 3",
   "language": "python",
   "name": "python3"
  },
  "language_info": {
   "codemirror_mode": {
    "name": "ipython",
    "version": 3
   },
   "file_extension": ".py",
   "mimetype": "text/x-python",
   "name": "python",
   "nbconvert_exporter": "python",
   "pygments_lexer": "ipython3",
   "version": "3.6.4"
  }
 },
 "nbformat": 4,
 "nbformat_minor": 1
}
